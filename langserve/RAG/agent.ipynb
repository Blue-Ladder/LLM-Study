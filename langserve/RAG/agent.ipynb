{
  "nbformat": 4,
  "nbformat_minor": 0,
  "metadata": {
    "colab": {
      "provenance": [],
      "machine_shape": "hm",
      "gpuType": "A100"
    },
    "kernelspec": {
      "name": "python3",
      "display_name": "Python 3"
    },
    "language_info": {
      "name": "python"
    },
    "accelerator": "GPU"
  },
  "cells": [
    {
      "cell_type": "code",
      "source": [
        "!pip install -qU langchain-experimental\n",
        "!pip install -qU langchain-upstage\n",
        "!pip install -qU langchain-teddynote"
      ],
      "metadata": {
        "colab": {
          "base_uri": "https://localhost:8080/"
        },
        "id": "wAZD-TIjziJs",
        "outputId": "af858638-5b58-409f-f453-169003dc678e"
      },
      "execution_count": 2,
      "outputs": [
        {
          "output_type": "stream",
          "name": "stdout",
          "text": [
            "\u001b[2K   \u001b[90m━━━━━━━━━━━━━━━━━━━━━━━━━━━━━━━━━━━━━━━━\u001b[0m \u001b[32m209.0/209.0 kB\u001b[0m \u001b[31m17.3 MB/s\u001b[0m eta \u001b[36m0:00:00\u001b[0m\n",
            "\u001b[2K   \u001b[90m━━━━━━━━━━━━━━━━━━━━━━━━━━━━━━━━━━━━━━━━\u001b[0m \u001b[32m2.4/2.4 MB\u001b[0m \u001b[31m11.7 MB/s\u001b[0m eta \u001b[36m0:00:00\u001b[0m\n",
            "\u001b[2K   \u001b[90m━━━━━━━━━━━━━━━━━━━━━━━━━━━━━━━━━━━━━━━━\u001b[0m \u001b[32m3.1/3.1 MB\u001b[0m \u001b[31m50.0 MB/s\u001b[0m eta \u001b[36m0:00:00\u001b[0m\n",
            "\u001b[2K   \u001b[90m━━━━━━━━━━━━━━━━━━━━━━━━━━━━━━━━━━━━━━━━\u001b[0m \u001b[32m49.5/49.5 kB\u001b[0m \u001b[31m4.2 MB/s\u001b[0m eta \u001b[36m0:00:00\u001b[0m\n",
            "\u001b[2K   \u001b[90m━━━━━━━━━━━━━━━━━━━━━━━━━━━━━━━━━━━━━━━━\u001b[0m \u001b[32m50.4/50.4 kB\u001b[0m \u001b[31m4.4 MB/s\u001b[0m eta \u001b[36m0:00:00\u001b[0m\n",
            "\u001b[2K   \u001b[90m━━━━━━━━━━━━━━━━━━━━━━━━━━━━━━━━━━━━━━━━\u001b[0m \u001b[32m295.8/295.8 kB\u001b[0m \u001b[31m24.6 MB/s\u001b[0m eta \u001b[36m0:00:00\u001b[0m\n",
            "\u001b[2K   \u001b[90m━━━━━━━━━━━━━━━━━━━━━━━━━━━━━━━━━━━━━━━━\u001b[0m \u001b[32m389.6/389.6 kB\u001b[0m \u001b[31m31.3 MB/s\u001b[0m eta \u001b[36m0:00:00\u001b[0m\n",
            "\u001b[2K   \u001b[90m━━━━━━━━━━━━━━━━━━━━━━━━━━━━━━━━━━━━━━━━\u001b[0m \u001b[32m1.2/1.2 MB\u001b[0m \u001b[31m65.2 MB/s\u001b[0m eta \u001b[36m0:00:00\u001b[0m\n",
            "\u001b[?25h  Preparing metadata (setup.py) ... \u001b[?25l\u001b[?25hdone\n",
            "\u001b[2K     \u001b[90m━━━━━━━━━━━━━━━━━━━━━━━━━━━━━━━━━━━━━━━━\u001b[0m \u001b[32m34.7/34.7 MB\u001b[0m \u001b[31m28.9 MB/s\u001b[0m eta \u001b[36m0:00:00\u001b[0m\n",
            "\u001b[?25h  Preparing metadata (setup.py) ... \u001b[?25l\u001b[?25hdone\n",
            "  Preparing metadata (setup.py) ... \u001b[?25l\u001b[?25hdone\n",
            "\u001b[2K   \u001b[90m━━━━━━━━━━━━━━━━━━━━━━━━━━━━━━━━━━━━━━━━\u001b[0m \u001b[32m47.2/47.2 kB\u001b[0m \u001b[31m3.6 MB/s\u001b[0m eta \u001b[36m0:00:00\u001b[0m\n",
            "\u001b[2K   \u001b[90m━━━━━━━━━━━━━━━━━━━━━━━━━━━━━━━━━━━━━━━━\u001b[0m \u001b[32m198.4/198.4 kB\u001b[0m \u001b[31m17.2 MB/s\u001b[0m eta \u001b[36m0:00:00\u001b[0m\n",
            "\u001b[2K   \u001b[90m━━━━━━━━━━━━━━━━━━━━━━━━━━━━━━━━━━━━━━━━\u001b[0m \u001b[32m81.3/81.3 kB\u001b[0m \u001b[31m7.8 MB/s\u001b[0m eta \u001b[36m0:00:00\u001b[0m\n",
            "\u001b[2K   \u001b[90m━━━━━━━━━━━━━━━━━━━━━━━━━━━━━━━━━━━━━━━━\u001b[0m \u001b[32m3.5/3.5 MB\u001b[0m \u001b[31m24.6 MB/s\u001b[0m eta \u001b[36m0:00:00\u001b[0m\n",
            "\u001b[2K   \u001b[90m━━━━━━━━━━━━━━━━━━━━━━━━━━━━━━━━━━━━━━━━\u001b[0m \u001b[32m119.3/119.3 kB\u001b[0m \u001b[31m11.0 MB/s\u001b[0m eta \u001b[36m0:00:00\u001b[0m\n",
            "\u001b[2K   \u001b[90m━━━━━━━━━━━━━━━━━━━━━━━━━━━━━━━━━━━━━━━━\u001b[0m \u001b[32m114.6/114.6 kB\u001b[0m \u001b[31m11.0 MB/s\u001b[0m eta \u001b[36m0:00:00\u001b[0m\n",
            "\u001b[2K   \u001b[90m━━━━━━━━━━━━━━━━━━━━━━━━━━━━━━━━━━━━━━━━\u001b[0m \u001b[32m1.3/1.3 MB\u001b[0m \u001b[31m59.7 MB/s\u001b[0m eta \u001b[36m0:00:00\u001b[0m\n",
            "\u001b[2K   \u001b[90m━━━━━━━━━━━━━━━━━━━━━━━━━━━━━━━━━━━━━━━━\u001b[0m \u001b[32m67.6/67.6 kB\u001b[0m \u001b[31m6.3 MB/s\u001b[0m eta \u001b[36m0:00:00\u001b[0m\n",
            "\u001b[2K   \u001b[90m━━━━━━━━━━━━━━━━━━━━━━━━━━━━━━━━━━━━━━━━\u001b[0m \u001b[32m85.4/85.4 kB\u001b[0m \u001b[31m7.3 MB/s\u001b[0m eta \u001b[36m0:00:00\u001b[0m\n",
            "\u001b[2K   \u001b[90m━━━━━━━━━━━━━━━━━━━━━━━━━━━━━━━━━━━━━━━━\u001b[0m \u001b[32m294.6/294.6 kB\u001b[0m \u001b[31m23.7 MB/s\u001b[0m eta \u001b[36m0:00:00\u001b[0m\n",
            "\u001b[2K   \u001b[90m━━━━━━━━━━━━━━━━━━━━━━━━━━━━━━━━━━━━━━━━\u001b[0m \u001b[32m244.8/244.8 kB\u001b[0m \u001b[31m20.3 MB/s\u001b[0m eta \u001b[36m0:00:00\u001b[0m\n",
            "\u001b[?25h  Building wheel for kiwipiepy-model (setup.py) ... \u001b[?25l\u001b[?25hdone\n",
            "  Building wheel for wget (setup.py) ... \u001b[?25l\u001b[?25hdone\n",
            "  Building wheel for sgmllib3k (setup.py) ... \u001b[?25l\u001b[?25hdone\n",
            "\u001b[31mERROR: pip's dependency resolver does not currently take into account all the packages that are installed. This behaviour is the source of the following dependency conflicts.\n",
            "tensorflow-metadata 1.16.1 requires protobuf<4.21,>=3.20.3; python_version < \"3.11\", but you have protobuf 4.25.5 which is incompatible.\u001b[0m\u001b[31m\n",
            "\u001b[0m"
          ]
        }
      ]
    },
    {
      "cell_type": "code",
      "source": [
        "from langchain_teddynote.tools import GoogleNews\n",
        "from langchain.tools import tool\n",
        "from typing import List, Dict, Annotated\n",
        "\n",
        "@tool\n",
        "def search_news(query: str) -> List[Dict[str, str]]:\n",
        "    \"\"\"키워드를 사용해서 구글 뉴스를 검색\"\"\"\n",
        "    news_tool = GoogleNews()\n",
        "    return news_tool.search_by_keyword(query, k=5)\n",
        "search_news(\"AI\")"
      ],
      "metadata": {
        "colab": {
          "base_uri": "https://localhost:8080/"
        },
        "id": "Ftyk955yR6Hl",
        "outputId": "0ce3bcef-52f6-498d-bf55-ee2eee5b3b9c"
      },
      "execution_count": 8,
      "outputs": [
        {
          "output_type": "stream",
          "name": "stderr",
          "text": [
            "<ipython-input-8-60cce6fe66a7>:10: LangChainDeprecationWarning: The method `BaseTool.__call__` was deprecated in langchain-core 0.1.47 and will be removed in 1.0. Use :meth:`~invoke` instead.\n",
            "  search_news(\"AI\")\n"
          ]
        },
        {
          "output_type": "execute_result",
          "data": {
            "text/plain": [
              "[{'url': 'https://news.google.com/rss/articles/CBMiVkFVX3lxTFBsYy1Dd0hlVDBBb2QxT1ZaS3gzWXVpNGFLbGxGd0V2SmZzVmFYcHpLUkJ4VUJ5TFV0UVlBZmZVenBjQ3RkRUJuTWMwY0VEcWYwZ2M5cmxB?oc=5',\n",
              "  'content': '네이버 \"6년간 1조 투입해 AI 생태계 키운다\" - ZD넷 코리아'},\n",
              " {'url': 'https://news.google.com/rss/articles/CBMiakFVX3lxTE5zanRTZHZNZjlUYU9XWm1KY1A4UG1mNFhMVnhJNXk5a0tWT2RNQzctYnlpM1ZXOGJGR2ZoMFhqeWZSZHdQNHZKVkRWTTB3T0dlUHMyZENzU1YzbXVGcjdneXJwTlFZMTEzT0E?oc=5',\n",
              "  'content': '네이버, 2025년 ‘AI 서비스’ 본격 적용 선언...“전 서비스에 AI 녹여내는 것이 목표” - AI타임스'},\n",
              " {'url': 'https://news.google.com/rss/articles/CBMiTkFVX3lxTE1KeUgxQmw4QUdyY1BoTEVVS0hGSmVOYWdIRVg5WWg3eDl1bWhqeVZlLVBwWUVhRThjX2Q3eWEwcTFPdVBsWE1KMURySFFlUQ?oc=5',\n",
              "  'content': \"“AI로 검색·광고 등 모든 서비스 혁신”…네이버, 'AI 서비스' 회사로 변신 나선다 - 전자신문\"},\n",
              " {'url': 'https://news.google.com/rss/articles/CBMiakFVX3lxTE9QcklRWm93ZC1tck1UM0lPUFpnSE9iZ3ppTTVHbXF2aWZ4ZzRfc2pEaGlsUEd5d014ajFrek95Y3p2eWJ6M2hfMDBUUEpScFNpWlNEMXFDR1BqTTRNSkZwXzU1TFh1Nklrc0E?oc=5',\n",
              "  'content': '[클릭AI] 지푸, 동영상 AI 업그레이드로 10초 분량 4K 비디오 생성 등 외신 모음 - AI타임스'},\n",
              " {'url': 'https://news.google.com/rss/articles/CBMijwFBVV95cUxOdHFMSVF4R0d6dExuWS0wWThwV0lycXZ2MXdEOVBYa0U4VTJqdU9wVnRTY2xOMEo3YUhUUDdHYkRVOFAwNElnaHg0Z1ZsMGwwbzNnQkZYU1ZCQW1QR3JKaXFDQmx2dzBsYzVuZGl2Q0VaN1lTUGZYT0ZFb0JvNDJRbEEwUmpUbWRGbWhXeFZ3Y9IBowFBVV95cUxPUzJQMVNINjg0ejRWVnVmQWZNQ3NMS0JIMFY3NFpib05oZVp2TVdmdFdFYklCZTRmWEhWdngwbHF2WmszVVZpVl9vRmVxT3BpVU1HNjlNTWc1QzNzM3JnTWFBTllxOUxhM0ViNzBXUHZBOERNWWtlcmdZSnJ4eVpPWWxJNV94UUx0a3FHSHFGNWx3WXFXYng2ZlluU3JYWS0xblJZ?oc=5',\n",
              "  'content': 'AI안전연구소 초대 소장에 김명주 서울여대 교수 - 조선일보'}]"
            ]
          },
          "metadata": {},
          "execution_count": 8
        }
      ]
    },
    {
      "cell_type": "code",
      "source": [
        "from langchain_upstage import ChatUpstage\n",
        "from langchain_core.prompts import ChatPromptTemplate\n",
        "from langchain_core.output_parsers import StrOutputParser\n",
        "from langchain.agents import create_tool_calling_agent\n",
        "import os\n",
        "\n",
        "os.environ[\"UPSTAGE_API_KEY\"] = \"up_oHuQjUHvEXXwnXIEDd3cXYSrrFxBs\"\n",
        "\n",
        "tools = [search_news]\n",
        "\n",
        "# 파이썬 코드를 작성하도록 요청하는 프롬프트\n",
        "prompt = ChatPromptTemplate.from_messages( # 프롬프트는 에이전트에게 모델이 수행할 작업을 설명 (도구의 이름과 역할을 입력)\n",
        "    [\n",
        "        (\n",
        "            \"system\",\n",
        "            \"You are a helpful assistant. \"\n",
        "            \"Make sure to use the `search_news` tool for searching keyword related news.\",\n",
        "        ),\n",
        "        (\"human\", \"{input}\"), # input은 유저 입력\n",
        "        (\"placeholder\", \"{agent_scratchpad}\"), # agent_scratchpad는 에이전트가 임시로 저장하는 변수\n",
        "    ]\n",
        ")\n",
        "# LLM 모델 생성\n",
        "llm = ChatUpstage()\n",
        "\n",
        "agent = create_tool_calling_agent(llm, tools, prompt) # agent 생성"
      ],
      "metadata": {
        "id": "CHpG7vMVUhlr"
      },
      "execution_count": 9,
      "outputs": []
    },
    {
      "cell_type": "code",
      "source": [
        "from langchain.agents import AgentExecutor\n",
        "\n",
        "agent_executor = AgentExecutor(\n",
        "    agent=agent,\n",
        "    tools=tools,\n",
        ")\n",
        "\n",
        "result = agent_executor.invoke({\"input\": \"AI와 관련된 뉴스를 검색해 주세요.\"})\n",
        "result[\"output\"]"
      ],
      "metadata": {
        "colab": {
          "base_uri": "https://localhost:8080/",
          "height": 87
        },
        "id": "3JaFf1Vv080Q",
        "outputId": "2596d2db-10c6-4fe7-bf29-1382a753b31e"
      },
      "execution_count": 13,
      "outputs": [
        {
          "output_type": "execute_result",
          "data": {
            "text/plain": [
              "\"AI와 관련된 뉴스가 검색되었습니다. 다음은 일부 기사입니다:\\n\\n1. 네이버, 2025년 'AI 서비스' 본격 적용 선언...“전 서비스에 AI 녹여내는 것이 목표” - AI타임스\\n2. “AI로 검색·광고 등 모든 서비스 혁신”…네이버, 'AI 서비스' 회사로 변신 나선다 - 전자신문\\n3. [클릭AI] 지푸, 동영상 AI 업그레이드로 10초 분량 4K 비디오 생성 등 외신 모음 - AI타임스\\n4. AI안전연구소 초대 소장에 김명주 서울여대 교수 - 조선일보\\n\\n더 자세한 내용을 원하시면 해당 기사를 클릭하여 확인해보세요.\""
            ],
            "application/vnd.google.colaboratory.intrinsic+json": {
              "type": "string"
            }
          },
          "metadata": {},
          "execution_count": 13
        }
      ]
    },
    {
      "cell_type": "code",
      "source": [],
      "metadata": {
        "id": "UWDqmgsN3xhX"
      },
      "execution_count": null,
      "outputs": []
    }
  ]
}