{
 "cells": [
  {
   "cell_type": "markdown",
   "metadata": {},
   "source": [
    " ## 에이전트의 실행 중간 과정에서 사용자의 입력을 받아 계속 진행할지 묻는 기능을 제공한다."
   ]
  },
  {
   "cell_type": "code",
   "execution_count": null,
   "metadata": {},
   "outputs": [],
   "source": [
    "from dotenv import load_dotenv\n",
    "\n",
    "# API KEY 정보로드\n",
    "load_dotenv()"
   ]
  },
  {
   "cell_type": "markdown",
   "metadata": {},
   "source": [
    "Tool 세팅"
   ]
  },
  {
   "cell_type": "code",
   "execution_count": 2,
   "metadata": {},
   "outputs": [],
   "source": [
    "from langchain.agents import tool\n",
    "\n",
    "\n",
    "@tool\n",
    "def add_function(a: float, b: float) -> float:\n",
    "    \"\"\"Adds two numbers together.\"\"\"\n",
    "    return a + b"
   ]
  },
  {
   "cell_type": "markdown",
   "metadata": {},
   "source": [
    "Agent 세팅"
   ]
  },
  {
   "cell_type": "code",
   "execution_count": 3,
   "metadata": {},
   "outputs": [],
   "source": [
    "from langchain_core.prompts import ChatPromptTemplate, MessagesPlaceholder\n",
    "from langchain_openai import ChatOpenAI\n",
    "from langchain.agents import create_tool_calling_agent, AgentExecutor\n",
    "\n",
    "# 도구 정의\n",
    "tools = [add_function]\n",
    "\n",
    "# LLM 생성\n",
    "gpt = ChatOpenAI(model=\"gpt-4o-mini\")\n",
    "\n",
    "# prompt 생성\n",
    "prompt = ChatPromptTemplate.from_messages(\n",
    "    [\n",
    "        (\n",
    "            \"system\",\n",
    "            \"You are a helpful assistant. Make sure to use the `search_news` tool for searching keyword related news.\",\n",
    "        ),\n",
    "        (\"human\", \"{input}\"),\n",
    "        MessagesPlaceholder(variable_name=\"agent_scratchpad\"),\n",
    "    ]\n",
    ")\n",
    "\n",
    "# Agent 생성\n",
    "gpt_agent = create_tool_calling_agent(gpt, tools, prompt)\n",
    "\n",
    "# AgentExecutor 생성\n",
    "agent_executor = AgentExecutor(\n",
    "    agent=gpt_agent,\n",
    "    tools=tools,\n",
    "    verbose=False,\n",
    "    max_iterations=10,\n",
    "    handle_parsing_errors=True,\n",
    ")\n"
   ]
  },
  {
   "cell_type": "markdown",
   "metadata": {},
   "source": [
    "AgentExecutor의 iter()\n",
    "이 메서드는 AgentExecutor의 실행 과정을 단계별로 반복할 수 있게 해주는 반복자(iterator)를 생성합니다.\n",
    "\n",
    "함수 설명\n",
    "\n",
    "iter() 는 에이전트가 최종 출력에 도달하기까지 거치는 단계들을 순차적으로 접근할 수 있는 AgentExecutorIterator 객체를 반환합니다."
   ]
  },
  {
   "cell_type": "code",
   "execution_count": 4,
   "metadata": {},
   "outputs": [
    {
     "name": "stdout",
     "output_type": "stream",
     "text": [
      "\n",
      "Tool Name: add_function, 실행 결과: 235.7\n",
      "\n",
      "Tool Name: add_function, 실행 결과: 269.9\n",
      "\n",
      "Tool Name: add_function, 실행 결과: 380.0\n",
      "계산 결과는 380.0입니다.\n"
     ]
    }
   ],
   "source": [
    "# 계산할 질문 설정\n",
    "question = \"114.5 + 121.2 + 34.2 + 110.1 의 계산 결과는?\"\n",
    "\n",
    "# agent_executor를 반복적으로 실행\n",
    "for step in agent_executor.iter({\"input\": question}):\n",
    "    if output := step.get(\"intermediate_step\"):\n",
    "        action, value = output[0]\n",
    "        if action.tool == \"add_function\":\n",
    "            # Tool 실행 결과 출력\n",
    "            print(f\"\\nTool Name: {action.tool}, 실행 결과: {value}\")\n",
    "        # 사용자에게 계속 진행할지 묻습니다.\n",
    "        _continue = input(\"계속 진행하시겠습니다? (y/n)?:\\n\") or \"Y\"\n",
    "        # 사용자가 'y'가 아닌 다른 입력을 하면 반복 중단\n",
    "        if _continue.lower() != \"y\":\n",
    "            break\n",
    "\n",
    "# 최종 결과 출력\n",
    "if \"output\" in step:\n",
    "    print(step[\"output\"])\n"
   ]
  }
 ],
 "metadata": {
  "kernelspec": {
   "display_name": "llm",
   "language": "python",
   "name": "python3"
  },
  "language_info": {
   "codemirror_mode": {
    "name": "ipython",
    "version": 3
   },
   "file_extension": ".py",
   "mimetype": "text/x-python",
   "name": "python",
   "nbconvert_exporter": "python",
   "pygments_lexer": "ipython3",
   "version": "3.10.12"
  }
 },
 "nbformat": 4,
 "nbformat_minor": 2
}
