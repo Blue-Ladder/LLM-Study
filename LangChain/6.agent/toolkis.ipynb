{
 "cells": [
  {
   "cell_type": "markdown",
   "metadata": {},
   "source": [
    "LangChain 프레임워크는 다양한 툴들이 있다.\n",
    "\n",
    "참고\n",
    "\n",
    "https://api.python.langchain.com/en/latest/community/agent_toolkits.html\n",
    "\n",
    "https://api.python.langchain.com/en/latest/community/agent_toolkits.html"
   ]
  },
  {
   "cell_type": "code",
   "execution_count": null,
   "metadata": {},
   "outputs": [],
   "source": [
    "# API 키를 환경변수로 관리하기 위한 설정 파일\n",
    "from dotenv import load_dotenv\n",
    "\n",
    "# API 키 정보 로드\n",
    "load_dotenv()\n"
   ]
  },
  {
   "cell_type": "markdown",
   "metadata": {},
   "source": [
    "## FileManagementToolkit\n",
    "\n",
    "로컬 파일 관리를 위한 도구 모음"
   ]
  },
  {
   "cell_type": "code",
   "execution_count": 1,
   "metadata": {},
   "outputs": [
    {
     "name": "stdout",
     "output_type": "stream",
     "text": [
      "[사용 가능한 파일 관리 도구들]\n",
      "- copy_file: Create a copy of a file in a specified location\n",
      "- file_delete: Delete a file\n",
      "- file_search: Recursively search for files in a subdirectory that match the regex pattern\n",
      "- move_file: Move or rename a file from one location to another\n",
      "- read_file: Read file from disk\n",
      "- write_file: Write file to disk\n",
      "- list_directory: List files and directories in a specified folder\n"
     ]
    }
   ],
   "source": [
    "# FileManagementToolkit을 가져옵니다. 이 도구는 파일 관리 작업을 수행하는 데 사용됩니다.\n",
    "from langchain_community.agent_toolkits import FileManagementToolkit\n",
    "\n",
    "# 'tmp'라는 이름의 디렉토리를 작업 디렉토리로 설정합니다.\n",
    "working_directory = \"tmp\"\n",
    "\n",
    "# FileManagementToolkit 객체를 생성합니다.\n",
    "# root_dir 매개변수에 작업 디렉토리를 지정하여 모든 파일 작업이 이 디렉토리 내에서 이루어지도록 합니다.\n",
    "toolkit = FileManagementToolkit(root_dir=str(working_directory))\n",
    "\n",
    "# toolkit.get_tools() 메서드를 호출하여 사용 가능한 모든 파일 관리 도구를 가져옵니다.\n",
    "# 이 도구들은 파일 복사, 삭제, 검색, 이동, 읽기, 쓰기, 디렉토리 목록 조회 등의 기능을 제공합니다.\n",
    "available_tools = toolkit.get_tools()\n",
    "\n",
    "# 사용 가능한 도구들의 이름을 출력합니다.\n",
    "print(\"[사용 가능한 파일 관리 도구들]\")\n",
    "for tool in available_tools:\n",
    "    print(f\"- {tool.name}: {tool.description}\")\n"
   ]
  },
  {
   "cell_type": "markdown",
   "metadata": {},
   "source": [
    "사용하고 싶은 tool만 세팅"
   ]
  },
  {
   "cell_type": "code",
   "execution_count": 2,
   "metadata": {},
   "outputs": [
    {
     "data": {
      "text/plain": [
       "[ReadFileTool(root_dir='tmp'),\n",
       " DeleteFileTool(root_dir='tmp'),\n",
       " WriteFileTool(root_dir='tmp'),\n",
       " ListDirectoryTool(root_dir='tmp')]"
      ]
     },
     "execution_count": 2,
     "metadata": {},
     "output_type": "execute_result"
    }
   ],
   "source": [
    "tools = FileManagementToolkit(\n",
    "    root_dir=str(working_directory),\n",
    "    selected_tools=[\"read_file\", \"file_delete\", \"write_file\", \"list_directory\"],\n",
    ").get_tools()\n",
    "tools"
   ]
  },
  {
   "cell_type": "markdown",
   "metadata": {},
   "source": [
    "파일 쓰기"
   ]
  },
  {
   "cell_type": "code",
   "execution_count": 3,
   "metadata": {},
   "outputs": [
    {
     "data": {
      "text/plain": [
       "'File written successfully to example.txt.'"
      ]
     },
     "execution_count": 3,
     "metadata": {},
     "output_type": "execute_result"
    }
   ],
   "source": [
    "read_tool, delete_tool, write_tool, list_tool = tools\n",
    "\n",
    "# 파일 쓰기\n",
    "write_tool.invoke({\"file_path\": \"example.txt\", \"text\": \"Hello World!\"})\n"
   ]
  },
  {
   "cell_type": "markdown",
   "metadata": {},
   "source": [
    "목록 읽기"
   ]
  },
  {
   "cell_type": "code",
   "execution_count": 4,
   "metadata": {},
   "outputs": [
    {
     "name": "stdout",
     "output_type": "stream",
     "text": [
      "example.txt\n"
     ]
    }
   ],
   "source": [
    "# 파일 목록 조회\n",
    "print(list_tool.invoke({}))"
   ]
  },
  {
   "cell_type": "markdown",
   "metadata": {},
   "source": [
    "파일 삭제"
   ]
  },
  {
   "cell_type": "code",
   "execution_count": 5,
   "metadata": {},
   "outputs": [
    {
     "name": "stdout",
     "output_type": "stream",
     "text": [
      "File deleted successfully: example.txt.\n"
     ]
    }
   ],
   "source": [
    "# 파일 삭제\n",
    "print(delete_tool.invoke({\"file_path\": \"example.txt\"}))"
   ]
  },
  {
   "cell_type": "markdown",
   "metadata": {},
   "source": [
    "tools = 파일 관리 tool 과 뉴스 검색 tool"
   ]
  },
  {
   "cell_type": "code",
   "execution_count": 6,
   "metadata": {},
   "outputs": [
    {
     "data": {
      "text/plain": [
       "[CopyFileTool(root_dir='tmp'),\n",
       " DeleteFileTool(root_dir='tmp'),\n",
       " FileSearchTool(root_dir='tmp'),\n",
       " MoveFileTool(root_dir='tmp'),\n",
       " ReadFileTool(root_dir='tmp'),\n",
       " WriteFileTool(root_dir='tmp'),\n",
       " ListDirectoryTool(root_dir='tmp'),\n",
       " StructuredTool(name='latest_news', description='Look up latest news', args_schema=<class 'langchain_core.utils.pydantic.latest_news'>, func=<function latest_news at 0x7fadd4115510>)]"
      ]
     },
     "execution_count": 6,
     "metadata": {},
     "output_type": "execute_result"
    }
   ],
   "source": [
    "# 필요한 모듈과 클래스를 임포트합니다.\n",
    "from langchain.tools import tool\n",
    "from typing import List, Dict\n",
    "from langchain_teddynote.tools import GoogleNews\n",
    "\n",
    "\n",
    "# 최신 뉴스 검색 도구를 정의합니다.\n",
    "@tool\n",
    "def latest_news(k: int = 5) -> List[Dict[str, str]]:\n",
    "    \"\"\"Look up latest news\"\"\"\n",
    "    # GoogleNews 객체를 생성합니다.\n",
    "    news_tool = GoogleNews()\n",
    "    # 최신 뉴스를 검색하고 결과를 반환합니다. k는 반환할 뉴스 항목의 수입니다.\n",
    "    return news_tool.search_latest(k=k)\n",
    "\n",
    "\n",
    "# FileManagementToolkit을 사용하여 파일 관리 도구들을 가져옵니다.\n",
    "tools = FileManagementToolkit(\n",
    "    root_dir=str(working_directory),\n",
    ").get_tools()\n",
    "\n",
    "# 최신 뉴스 검색 도구를 tools 리스트에 추가합니다.\n",
    "tools.append(latest_news)\n",
    "\n",
    "# 모든 도구들이 포함된 tools 리스트를 출력합니다.\n",
    "tools\n"
   ]
  },
  {
   "cell_type": "markdown",
   "metadata": {},
   "source": [
    "뉴스 검색 -> 검색된 데이터 로컬 파일 관리"
   ]
  },
  {
   "cell_type": "code",
   "execution_count": 7,
   "metadata": {},
   "outputs": [],
   "source": [
    "from langchain_core.prompts import ChatPromptTemplate\n",
    "from langchain_openai import ChatOpenAI\n",
    "from langchain.agents import create_tool_calling_agent, AgentExecutor\n",
    "from langchain_community.chat_message_histories import ChatMessageHistory\n",
    "from langchain_core.runnables.history import RunnableWithMessageHistory\n",
    "from langchain_teddynote.messages import AgentStreamParser\n",
    "\n",
    "# session_id 를 저장할 딕셔너리 생성\n",
    "store = {}\n",
    "\n",
    "# 프롬프트 생성\n",
    "# 프롬프트는 에이전트에게 모델이 수행할 작업을 설명하는 텍스트를 제공합니다. (도구의 이름과 역할을 입력)\n",
    "prompt = ChatPromptTemplate.from_messages(\n",
    "    [\n",
    "        (\n",
    "            \"system\",\n",
    "            \"You are a helpful assistant. \"\n",
    "            \"Make sure to use the `latest_news` tool to find latest news. \"\n",
    "            \"Make sure to use the `file_management` tool to manage files. \",\n",
    "        ),\n",
    "        (\"placeholder\", \"{chat_history}\"),\n",
    "        (\"human\", \"{input}\"),\n",
    "        (\"placeholder\", \"{agent_scratchpad}\"),\n",
    "    ]\n",
    ")\n",
    "\n",
    "# LLM 생성\n",
    "llm = ChatOpenAI(model=\"gpt-4o-mini\")\n",
    "\n",
    "# Agent 생성\n",
    "agent = create_tool_calling_agent(llm, tools, prompt)\n",
    "\n",
    "# AgentExecutor 생성\n",
    "agent_executor = AgentExecutor(\n",
    "    agent=agent,\n",
    "    tools=tools,\n",
    "    verbose=False,\n",
    "    handle_parsing_errors=True,\n",
    ")\n",
    "\n",
    "\n",
    "# session_id 를 기반으로 세션 기록을 가져오는 함수\n",
    "def get_session_history(session_ids):\n",
    "    if session_ids not in store:  # session_id 가 store에 없는 경우\n",
    "        # 새로운 ChatMessageHistory 객체를 생성하여 store에 저장\n",
    "        store[session_ids] = ChatMessageHistory()\n",
    "    return store[session_ids]  # 해당 세션 ID에 대한 세션 기록 반환\n",
    "\n",
    "\n",
    "# 채팅 메시지 기록이 추가된 에이전트를 생성합니다.\n",
    "agent_with_chat_history = RunnableWithMessageHistory(\n",
    "    agent_executor,\n",
    "    # 대화 session_id\n",
    "    get_session_history,\n",
    "    # 프롬프트의 질문이 입력되는 key: \"input\"\n",
    "    input_messages_key=\"input\",\n",
    "    # 프롬프트의 메시지가 입력되는 key: \"chat_history\"\n",
    "    history_messages_key=\"chat_history\",\n",
    ")\n",
    "\n",
    "agent_stream_parser = AgentStreamParser()\n"
   ]
  },
  {
   "cell_type": "code",
   "execution_count": 8,
   "metadata": {},
   "outputs": [
    {
     "name": "stdout",
     "output_type": "stream",
     "text": [
      "Agent 실행 결과:\n",
      "[도구 호출]\n",
      "Tool: latest_news\n",
      "k: 5\n",
      "Log: \n",
      "Invoking: `latest_news` with `{'k': 5}`\n",
      "\n",
      "\n",
      "\n",
      "[관찰 내용]\n",
      "Observation: [{'url': 'https://news.google.com/rss/articles/CBMiggFBVV95cUxNM0FRblFQVGZYQjhWODFyLWFYbDllQU9LQmZaRzRYeGladlhRemtoNFNUSi1tTDAtUTc2RVZ2RGU4emg1ZTR6VXlfODNTNGlINXFhZDFmcHRiU1UxTkRNakpKV2FkMUd6Mkp4V0Z1Sjh6cFRmYWg5cm5CRkJBX3Q2U2t3?oc=5', 'content': '이스라엘 ‘하늘길’ 닫는 아랍 국가들…이란, ‘핵교리 수정’ 경고 - 한겨레'}, {'url': 'https://news.google.com/rss/articles/CBMikAFBVV95cUxOQ2Z2MEY5MmdpMzFBcDdqUjhQVXlFdzlVNlZuOV9ueG5DWlVYeTRvbElWU3VrTXROWnRhenhKR0VJc0J5c2M4aDJnOGRVQ1BKR3I3WUV3cWZQM2NlaTR6ODZDZllrZTNHbThVNk5QQjZhOG5SdzB3ODZ4WG1VUHNBeXVWUVZTbGhmbHR6VTFhNzPSAaQBQVVfeXFMT3JXekJDbnFUdjhROFlubG9kV25wSW13OWhzaE1aczZxZzdyX3I1c1NYbjhNd1FXYTZCY2lhbU96LTRKaE9QNFVraDEtdlFzTHZDUmp3LVJDa3NKeWJYNzNrY20tWGJwaU1NSnpQOEpSM3RoTDhyaGs2Mm5JdXo2UnVFZllRby1jWmV0VmItY3U5MVNDZ0N2LUZVV2F1c2drRUYtMmw?oc=5', 'content': '尹대통령, 러 외무 앞에서 “러·북 불법 협력으로 전쟁 장기화” - 조선일보'}, {'url': 'https://news.google.com/rss/articles/CBMiUEFVX3lxTE9vdGNna09OVk5WeXpKUkFXaEdDczVMd3d2SDJpeHhBMmtRaEM3dV9FRWtIY3lIYkRFLTFZUEJ3cUhuWVMtOElJWkpmaGFkLXdq0gFTQVVfeXFMTnQ5bVd0SEg0M3l1bEVuWU1qVEVXam1pY095Z3QtMFJidmktdjExdzBwRk1TSVVVdURhREhDTTBxLWNGdVVlMEx3QW9ERG9RUlVSd1E?oc=5', 'content': '“한국, 한반도 넘어 역내서 주도적 역할 확대…미 인태전략과 시너지 효과” - VOA Korea'}, {'url': 'https://news.google.com/rss/articles/CBMiekFVX3lxTE11Z0ZQZm8xSUFhLUZRb21NNDBSbkFnVzFOb19mbjZzNW1YMHBZUk9UOEtpS2RfY2NuNDA2aVFxTEtBTVZ0Rl8tNGZDSUliZ1p3OXlqTG9OX2UzMUh0OGhGaE5BTHQ2QUp5SkotcHF4OEhwdVY1ODdVSl930gF6QVVfeXFMTVdJaFBSLVFXb3laMkJScXJBLTVfZzZQVEpJXzBvaGtQUzJZaHVxZDZUUDVnT1JtdTVIeWE1LXhITFZ2YUZCRndvTmhHd1FfU01kSnQ1UTZEUktCbzhyLVhzcnh2M3FFLVBaeUNiWGMzNVRNZ19kZTQtY1E?oc=5', 'content': '전기차 화재 1명 사망‥큐텐 구영배 영장 기각 - MBC 뉴스'}, {'url': 'https://news.google.com/rss/articles/CBMiW0FVX3lxTE1tazMtWkhIVUE3R09rby1pM3RucU5RSTdJZWRMV0NBdnotYW5fNnZHWFExZ0VIWGIxSlBVZzcwSDJKQnNhdFJqMGEyY1VURlNiYk9POC1LSnN6V28?oc=5', 'content': '이주호, 40개 의대 총장과 간담회…“2개 학기 연속 휴학 제한해야” - KBS뉴스'}]\n",
      "[도구 호출]\n",
      "Tool: write_file\n",
      "file_path: 이스라엘_‘하늘길’_닫는_아랍_국가들…이란_‘핵교리_수정’_경고.txt\n",
      "text: 이스라엘 ‘하늘길’ 닫는 아랍 국가들…이란, ‘핵교리 수정’ 경고\n",
      "\n",
      "URL: https://news.google.com/rss/articles/CBMiggFBVV95cUxNM0FRblFQVGZYQjhWODFyLWFYbDllQU9LQmZaRzRYeGladlhRemtoNFNUSi1tTDAtUTc2RVZ2RGU4emg1ZTR6VXlfODNTNGlINXFhZDFmcHRiU1UxTkRNakpKV2FkMUd6Mkp4V0Z1Sjh6cFRmYWg5cm5CRkJBX3Q2U2t3?oc=5\n",
      "append: False\n",
      "Log: \n",
      "Invoking: `write_file` with `{'file_path': '이스라엘_‘하늘길’_닫는_아랍_국가들…이란_‘핵교리_수정’_경고.txt', 'text': '이스라엘 ‘하늘길’ 닫는 아랍 국가들…이란, ‘핵교리 수정’ 경고\\n\\nURL: https://news.google.com/rss/articles/CBMiggFBVV95cUxNM0FRblFQVGZYQjhWODFyLWFYbDllQU9LQmZaRzRYeGladlhRemtoNFNUSi1tTDAtUTc2RVZ2RGU4emg1ZTR6VXlfODNTNGlINXFhZDFmcHRiU1UxTkRNakpKV2FkMUd6Mkp4V0Z1Sjh6cFRmYWg5cm5CRkJBX3Q2U2t3?oc=5', 'append': False}`\n",
      "\n",
      "\n",
      "\n",
      "[도구 호출]\n",
      "Tool: write_file\n",
      "file_path: 尹대통령,_러_외무_앞에서_“러·북_불법_협력으로_전쟁_장기화”.txt\n",
      "text: 尹대통령, 러 외무 앞에서 “러·북 불법 협력으로 전쟁 장기화”\n",
      "\n",
      "URL: https://news.google.com/rss/articles/CBMikAFBVV95cUxOQ2Z2MEY5MmdpMzFBcDdqUjhQVXlFdzlVNlZuOV9ueG5DWlVYeTRvbElWU3VrTXROWnRhenhKR0VJc0J5c2M4aDJnOGRVQ1BKR3I3WUV3cWZQM2NlaTR6ODZDZllrZTNHbThVNk5QQjZhOG5SdzB3ODZ4WG1VUHNBeXVWUVZTbGhmbHR6VTFhNzPSAaQBQVVfeXFMT3JXekJDbnFUdjhROFlubG9kV25wSW13OWhzaE1aczZxZzdyX3I1c1NYbjhNd1FXYTZCY2lhbU96LTRKaE9QNFVraDEtdlFzTHZDUmp3LVJDa3NKeWJYNzNrY20tWGJwaU1NSnpQOEpSM3RoTDhyaGs2Mm5JdXo2UnVFZllRby1jWmV0VmItY3U5MVNDZ0N2LUZVV2F1c2drRUYtMmw?oc=5\n",
      "append: False\n",
      "Log: \n",
      "Invoking: `write_file` with `{'file_path': '尹대통령,_러_외무_앞에서_“러·북_불법_협력으로_전쟁_장기화”.txt', 'text': '尹대통령, 러 외무 앞에서 “러·북 불법 협력으로 전쟁 장기화”\\n\\nURL: https://news.google.com/rss/articles/CBMikAFBVV95cUxOQ2Z2MEY5MmdpMzFBcDdqUjhQVXlFdzlVNlZuOV9ueG5DWlVYeTRvbElWU3VrTXROWnRhenhKR0VJc0J5c2M4aDJnOGRVQ1BKR3I3WUV3cWZQM2NlaTR6ODZDZllrZTNHbThVNk5QQjZhOG5SdzB3ODZ4WG1VUHNBeXVWUVZTbGhmbHR6VTFhNzPSAaQBQVVfeXFMT3JXekJDbnFUdjhROFlubG9kV25wSW13OWhzaE1aczZxZzdyX3I1c1NYbjhNd1FXYTZCY2lhbU96LTRKaE9QNFVraDEtdlFzTHZDUmp3LVJDa3NKeWJYNzNrY20tWGJwaU1NSnpQOEpSM3RoTDhyaGs2Mm5JdXo2UnVFZllRby1jWmV0VmItY3U5MVNDZ0N2LUZVV2F1c2drRUYtMmw?oc=5', 'append': False}`\n",
      "\n",
      "\n",
      "\n",
      "[도구 호출]\n",
      "Tool: write_file\n",
      "file_path: “한국,_한반도_넘어_역내서_주도적_역할_확대…미_인태전략과_시너지_효과”.txt\n",
      "text: “한국, 한반도 넘어 역내서 주도적 역할 확대…미 인태전략과 시너지 효과”\n",
      "\n",
      "URL: https://news.google.com/rss/articles/CBMiUEFVX3lxTE9vdGNna09OVk5WeXpKUkFXaEdDczVMd3d2SDJpeHhBMmtRaEM3dV9FRWtIY3lIYkRFLTFZUEJ3cUhuWVMtOElJWkpmaGFkLXdq0gFTQVVfeXFMTnQ5bVd0SEg0M3l1bEVuWU1qVEVXam1pY095Z3QtMFJidmktdjExdzBwRk1TSVVVdURhREhDTTBxLWNGdVVlMEx3QW9ERG9RUlVSd1E?oc=5\n",
      "append: False\n",
      "Log: \n",
      "Invoking: `write_file` with `{'file_path': '“한국,_한반도_넘어_역내서_주도적_역할_확대…미_인태전략과_시너지_효과”.txt', 'text': '“한국, 한반도 넘어 역내서 주도적 역할 확대…미 인태전략과 시너지 효과”\\n\\nURL: https://news.google.com/rss/articles/CBMiUEFVX3lxTE9vdGNna09OVk5WeXpKUkFXaEdDczVMd3d2SDJpeHhBMmtRaEM3dV9FRWtIY3lIYkRFLTFZUEJ3cUhuWVMtOElJWkpmaGFkLXdq0gFTQVVfeXFMTnQ5bVd0SEg0M3l1bEVuWU1qVEVXam1pY095Z3QtMFJidmktdjExdzBwRk1TSVVVdURhREhDTTBxLWNGdVVlMEx3QW9ERG9RUlVSd1E?oc=5', 'append': False}`\n",
      "\n",
      "\n",
      "\n",
      "[도구 호출]\n",
      "Tool: write_file\n",
      "file_path: 전기차_화재_1명_사망‥큐텐_구영배_영장_기각.txt\n",
      "text: 전기차 화재 1명 사망‥큐텐 구영배 영장 기각\n",
      "\n",
      "URL: https://news.google.com/rss/articles/CBMiUEFVX3lxTE11Z0ZQZm8xSUFhLUZRb21NNDBSbkFnVzFOb19mbjZzNW1YMHBZUk9UOEtpS2RfY2NuNDA2aVFxTEtBTVZ0Rl8tNGZDSUliZ1p3OXlqTG9OX2UzMUh0OGhGaE5BTHQ2QUp5SkotcHF4OEhwdVY1ODdVSl930gF6QVVfeXFMTVdJaFBSLVFXb3laMkJScXJBLTVfZzZQVEpJXzBvaGtQUzJZaHVxZDZUUDVnT1JtdTVIeWE1LXhITFZ2YUZCRndvTmhHd1FfU01kSnQ1UTZEUktCbzhyLVhzcnh2M3FFLVBaeUNiWGMzNVRNZ19kZTQtY1E?oc=5\n",
      "append: False\n",
      "Log: \n",
      "Invoking: `write_file` with `{'file_path': '전기차_화재_1명_사망‥큐텐_구영배_영장_기각.txt', 'text': '전기차 화재 1명 사망‥큐텐 구영배 영장 기각\\n\\nURL: https://news.google.com/rss/articles/CBMiUEFVX3lxTE11Z0ZQZm8xSUFhLUZRb21NNDBSbkFnVzFOb19mbjZzNW1YMHBZUk9UOEtpS2RfY2NuNDA2aVFxTEtBTVZ0Rl8tNGZDSUliZ1p3OXlqTG9OX2UzMUh0OGhGaE5BTHQ2QUp5SkotcHF4OEhwdVY1ODdVSl930gF6QVVfeXFMTVdJaFBSLVFXb3laMkJScXJBLTVfZzZQVEpJXzBvaGtQUzJZaHVxZDZUUDVnT1JtdTVIeWE1LXhITFZ2YUZCRndvTmhHd1FfU01kSnQ1UTZEUktCbzhyLVhzcnh2M3FFLVBaeUNiWGMzNVRNZ19kZTQtY1E?oc=5', 'append': False}`\n",
      "\n",
      "\n",
      "\n",
      "[도구 호출]\n",
      "Tool: write_file\n",
      "file_path: 이주호,_40개_의대_총장과_간담회…“2개_학기_연속_휴학_제한해야”.txt\n",
      "text: 이주호, 40개 의대 총장과 간담회…“2개 학기 연속 휴학 제한해야”\n",
      "\n",
      "URL: https://news.google.com/rss/articles/CBMiW0FVX3lxTE1tazMtWkhIVUE3R09rby1pM3RucU5RSTdJZWRMV0NBdnotYW5fNnZHWFExZ0VIWGIxSlBVZzcwSDJKQnNhdFJqMGEyY1VURlNiYk9POC1LSnN6V28?oc=5\n",
      "append: False\n",
      "Log: \n",
      "Invoking: `write_file` with `{'file_path': '이주호,_40개_의대_총장과_간담회…“2개_학기_연속_휴학_제한해야”.txt', 'text': '이주호, 40개 의대 총장과 간담회…“2개 학기 연속 휴학 제한해야”\\n\\nURL: https://news.google.com/rss/articles/CBMiW0FVX3lxTE1tazMtWkhIVUE3R09rby1pM3RucU5RSTdJZWRMV0NBdnotYW5fNnZHWFExZ0VIWGIxSlBVZzcwSDJKQnNhdFJqMGEyY1VURlNiYk9POC1LSnN6V28?oc=5', 'append': False}`\n",
      "\n",
      "\n",
      "\n",
      "[관찰 내용]\n",
      "Observation: File written successfully to 이스라엘_‘하늘길’_닫는_아랍_국가들…이란_‘핵교리_수정’_경고.txt.\n",
      "[관찰 내용]\n",
      "Observation: File written successfully to 尹대통령,_러_외무_앞에서_“러·북_불법_협력으로_전쟁_장기화”.txt.\n",
      "[관찰 내용]\n",
      "Observation: File written successfully to “한국,_한반도_넘어_역내서_주도적_역할_확대…미_인태전략과_시너지_효과”.txt.\n",
      "[관찰 내용]\n",
      "Observation: File written successfully to 전기차_화재_1명_사망‥큐텐_구영배_영장_기각.txt.\n",
      "[관찰 내용]\n",
      "Observation: File written successfully to 이주호,_40개_의대_총장과_간담회…“2개_학기_연속_휴학_제한해야”.txt.\n",
      "[최종 답변]\n",
      "최신 뉴스 5개의 제목을 파일명으로 가지는 텍스트 파일이 성공적으로 생성되었습니다. 각 파일에는 뉴스의 내용과 URL이 포함되어 있습니다. 다음은 생성된 파일 목록입니다:\n",
      "\n",
      "1. **이스라엘_‘하늘길’_닫는_아랍_국가들…이란_‘핵교리_수정’_경고.txt**\n",
      "   - 내용: 이스라엘 ‘하늘길’ 닫는 아랍 국가들…이란, ‘핵교리 수정’ 경고\n",
      "   - URL: [링크](https://news.google.com/rss/articles/CBMiggFBVV95cUxNM0FRblFQVGZYQjhWODFyLWFYbDllQU9LQmZaRzRYeGladlhRemtoNFNUSi1tTDAtUTc2RVZ2RGU4emg1ZTR6VXlfODNTNGlINXFhZDFmcHRiU1UxTkRNakpKV2FkMUd6Mkp4V0Z1Sjh6cFRmYWg5cm5CRkJBX3Q2U2t3?oc=5)\n",
      "\n",
      "2. **尹대통령,_러_외무_앞에서_“러·북_불법_협력으로_전쟁_장기화”.txt**\n",
      "   - 내용: 尹대통령, 러 외무 앞에서 “러·북 불법 협력으로 전쟁 장기화”\n",
      "   - URL: [링크](https://news.google.com/rss/articles/CBMikAFBVV95cUxOQ2Z2MEY5MmdpMzFBcDdqUjhQVXlFdzlVNlZuOV9ueG5DWlVYeTRvbElWU3VrTXROWnRhenhKR0VJc0J5c2M4aDJnOGRVQ1BKR3I3WUV3cWZQM2NlaTR6ODZDZllrZTNHbThVNk5QQjZhOG5SdzB3ODZ4WG1VUHNBeXVWUVZTbGhmbHR6VTFhNzPSAaQBQVVfeXFMT3JXekJDbnFUdjhROFlubG9kV25wSW13OWhzaE1aczZxZzdyX3I1c1NYbjhNd1FXYTZCY2lhbU96LTRKaE9QNFVraDEtdlFzTHZDUmp3LVJDa3NKeWJYNzNrY20tWGJwaU1NSnpQOEpSM3RoTDhyaGs2Mm5JdXo2UnVFZllRby1jWmV0VmItY3U5MVNDZ0N2LUZVV2F1c2drRUYtMmw?oc=5)\n",
      "\n",
      "3. **“한국,_한반도_넘어_역내서_주도적_역할_확대…미_인태전략과_시너지_효과”.txt**\n",
      "   - 내용: “한국, 한반도 넘어 역내서 주도적 역할 확대…미 인태전략과 시너지 효과”\n",
      "   - URL: [링크](https://news.google.com/rss/articles/CBMiUEFVX3lxTE9vdGNna09OVk5WeXpKUkFXaEdDczVMd3d2SDJpeHhBMmtRaEM3dV9FRWtIY3lIYkRFLTFZUEJ3cUhuWVMtOElJWkpmaGFkLXdq0gFTQVVfeXFMTnQ5bVd0SEg0M3l1bEVuWU1qVEVXam1pY095Z3QtMFJidmktdjExdzBwRk1TSVVVdURhREhDTTBxLWNGdVVlMEx3QW9ERG9RUlVSd1E?oc=5)\n",
      "\n",
      "4. **전기차_화재_1명_사망‥큐텐_구영배_영장_기각.txt**\n",
      "   - 내용: 전기차 화재 1명 사망‥큐텐 구영배 영장 기각\n",
      "   - URL: [링크](https://news.google.com/rss/articles/CBMiUEFVX3lxTE11Z0ZQZm8xSUFhLUZRb21NNDBSbkFnVzFOb19mbjZzNW1YMHBZUk9UOEtpS2RfY2NuNDA2aVFxTEtBTVZ0Rl8tNGZDSUliZ1p3OXlqTG9OX2UzMUh0OGhGaE5BTHQ2QUp5SkotcHF4OEhwdVY1ODdVSl930gF6QVVfeXFMTVdJaFBSLVFXb3laMkJScXJBLTVfZzZQVEpJXzBvaGtQUzJZaHVxZDZUUDVnT1JtdTVIeWE1LXhITFZ2YUZCRndvTmhHd1FfU01kSnQ1UTZEUktCbzhyLVhzcnh2M3FFLVBaeUNiWGMzNVRNZ19kZTQtY1E?oc=5)\n",
      "\n",
      "5. **이주호,_40개_의대_총장과_간담회…“2개_학기_연속_휴학_제한해야”.txt**\n",
      "   - 내용: 이주호, 40개 의대 총장과 간담회…“2개 학기 연속 휴학 제한해야”\n",
      "   - URL: [링크](https://news.google.com/rss/articles/CBMiW0FVX3lxTE1tazMtWkhIVUE3R09rby1pM3RucU5RSTdJZWRMV0NBdnotYW5fNnZHWFExZ0VIWGIxSlBVZzcwSDJKQnNhdFJqMGEyY1VURlNiYk9POC1LSnN6V28?oc=5)\n",
      "\n",
      "이제 각 파일을 필요에 따라 사용할 수 있습니다!\n"
     ]
    }
   ],
   "source": [
    "result = agent_with_chat_history.stream(\n",
    "    {\n",
    "        \"input\": \"최신 뉴스 5개를 검색하고, 각 뉴스의 제목을 파일명으로 가지는 파일을 생성하고(.txt), \"\n",
    "        \"파일의 내용은 뉴스의 내용과 url을 추가하세요. \"\n",
    "    },\n",
    "    config={\"configurable\": {\"session_id\": \"abc123\"}},\n",
    ")\n",
    "\n",
    "print(\"Agent 실행 결과:\")\n",
    "for step in result:\n",
    "    agent_stream_parser.process_agent_steps(step)\n"
   ]
  },
  {
   "cell_type": "code",
   "execution_count": null,
   "metadata": {},
   "outputs": [],
   "source": []
  }
 ],
 "metadata": {
  "kernelspec": {
   "display_name": "llm",
   "language": "python",
   "name": "python3"
  },
  "language_info": {
   "codemirror_mode": {
    "name": "ipython",
    "version": 3
   },
   "file_extension": ".py",
   "mimetype": "text/x-python",
   "name": "python",
   "nbconvert_exporter": "python",
   "pygments_lexer": "ipython3",
   "version": "3.10.12"
  }
 },
 "nbformat": 4,
 "nbformat_minor": 2
}
