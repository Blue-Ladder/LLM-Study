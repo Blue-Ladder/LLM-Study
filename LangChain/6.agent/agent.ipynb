{
 "cells": [
  {
   "cell_type": "markdown",
   "metadata": {},
   "source": [
    "# 도구 호출 에이전트(Tool Calling Agent)\n",
    "\n",
    "모델이 하나 이상의 도구(tool) 가 호출되어야 하는 시기를 감지할 수 있다.\n",
    "\n",
    "쿼리가 해결될 때까지 반복적으로 도구를 호출하고 결과를 수신하는 에이전트를 만들 수 있다."
   ]
  },
  {
   "cell_type": "code",
   "execution_count": null,
   "metadata": {},
   "outputs": [],
   "source": [
    "from dotenv import load_dotenv\n",
    "\n",
    "# API 키 정보 로드\n",
    "load_dotenv()"
   ]
  },
  {
   "cell_type": "markdown",
   "metadata": {},
   "source": [
    "Tool 세팅"
   ]
  },
  {
   "cell_type": "code",
   "execution_count": 2,
   "metadata": {},
   "outputs": [
    {
     "name": "stdout",
     "output_type": "stream",
     "text": [
      "도구 이름: search_news\n",
      "도구 설명: Search Google News by input keyword\n",
      "도구 이름: python_repl_tool\n",
      "도구 설명: Use this to execute python code. If you want to see the output of a value,\n",
      "    you should print it out with `print(...)`. This is visible to the user.\n"
     ]
    }
   ],
   "source": [
    "from langchain.tools import tool\n",
    "from typing import List, Dict, Annotated\n",
    "from langchain_teddynote.tools import GoogleNews\n",
    "from langchain_experimental.utilities import PythonREPL\n",
    "\n",
    "\n",
    "# 도구 생성\n",
    "@tool\n",
    "def search_news(query: str) -> List[Dict[str, str]]:\n",
    "    \"\"\"Search Google News by input keyword\"\"\"\n",
    "    news_tool = GoogleNews()\n",
    "    return news_tool.search_by_keyword(query, k=5)\n",
    "\n",
    "\n",
    "# 도구 생성\n",
    "@tool\n",
    "def python_repl_tool(\n",
    "    code: Annotated[str, \"The python code to execute to generate your chart.\"],\n",
    "):\n",
    "    \"\"\"Use this to execute python code. If you want to see the output of a value,\n",
    "    you should print it out with `print(...)`. This is visible to the user.\"\"\"\n",
    "    result = \"\"\n",
    "    try:\n",
    "        result = PythonREPL().run(code)\n",
    "    except BaseException as e:\n",
    "        print(f\"Failed to execute. Error: {repr(e)}\")\n",
    "    finally:\n",
    "        return result\n",
    "\n",
    "\n",
    "print(f\"도구 이름: {search_news.name}\")\n",
    "print(f\"도구 설명: {search_news.description}\")\n",
    "print(f\"도구 이름: {python_repl_tool.name}\")\n",
    "print(f\"도구 설명: {python_repl_tool.description}\")\n",
    "\n",
    "tools = [search_news, python_repl_tool]\n"
   ]
  },
  {
   "cell_type": "markdown",
   "metadata": {},
   "source": [
    "Agent 생성 (create_tool_calling_agent)"
   ]
  },
  {
   "cell_type": "code",
   "execution_count": null,
   "metadata": {},
   "outputs": [],
   "source": [
    "from langchain_core.prompts import ChatPromptTemplate\n",
    "\n",
    "# 프롬프트 생성\n",
    "# 프롬프트는 에이전트에게 모델이 수행할 작업을 설명하는 텍스트를 제공합니다. (도구의 이름과 역할을 입력)\n",
    "prompt = ChatPromptTemplate.from_messages(\n",
    "    [\n",
    "        (\n",
    "            \"system\",\n",
    "            \"You are a helpful assistant. \"\n",
    "            \"Make sure to use the `search_news` tool for searching keyword related news.\",\n",
    "        ),\n",
    "        (\"placeholder\", \"{chat_history}\"),\n",
    "        (\"human\", \"{input}\"),\n",
    "        (\"placeholder\", \"{agent_scratchpad}\"),\n",
    "    ]\n",
    ")\n",
    "\n",
    "from langchain_openai import ChatOpenAI\n",
    "from langchain.agents import create_tool_calling_agent\n",
    "\n",
    "# LLM 정의\n",
    "llm = ChatOpenAI(model=\"gpt-4o-mini\", temperature=0)\n",
    "\n",
    "# Agent 생성\n",
    "agent = create_tool_calling_agent(llm, tools, prompt)"
   ]
  },
  {
   "cell_type": "markdown",
   "metadata": {},
   "source": [
    "Agent 실행기 (AgentExecutor)"
   ]
  },
  {
   "cell_type": "code",
   "execution_count": 4,
   "metadata": {},
   "outputs": [
    {
     "name": "stdout",
     "output_type": "stream",
     "text": [
      "\n",
      "\n",
      "\u001b[1m> Entering new AgentExecutor chain...\u001b[0m\n",
      "\u001b[32;1m\u001b[1;3m\n",
      "Invoking: `search_news` with `{'query': 'AI 투자'}`\n",
      "\n",
      "\n",
      "\u001b[0m\u001b[36;1m\u001b[1;3m[{'url': 'https://news.google.com/rss/articles/CBMiWkFVX3lxTE1CRl9iOVFRYmdaNm9hT3pKZmZOVkZvcVRsRG5sMWk4bjhsWTBseTdDQ0FWVWZ3bmw1anI0aEQ1U3lqLUhHUDhzYUhqLUsycXQ4QTFpYUljRTlMQdIBVEFVX3lxTE42b2NyYUNaRWdrQkxHX2dRal92U25COTRqZnNUb0IyUDMxM2FPWEZwQzRYOTU0STVnUHdWbWV6NnRWVnQ4NFNRd1plZlNiTnFpdUVMRQ?oc=5', 'content': \"삼성전자, 사상 최대 R&D·시설 투자…'AI 시대' 주도한다 - 한국경제\"}, {'url': 'https://news.google.com/rss/articles/CBMiakFVX3lxTE81QVlXam1wclZOV3loQndWUjVjU3FKUE9zMzRjbkU5b3RMSjFBaGVfMHBvM28wRDFyd05yMVhQYTVnZy1nVkhGZXBqLTV2Zks5bnFQdG8wVEtBeEJoZllhVkQwQ2d1MENteEE?oc=5', 'content': '오픈AI, 투자 유치 이후 글로벌 확장...뉴욕·파리·싱가포르 등 5곳에 지사 개설 - AI타임스'}, {'url': 'https://news.google.com/rss/articles/CBMiW0FVX3lxTE4yZEVnMVBTeGNZWEZzQmpzeHhsZ2o5UTVSR3g2OXhNUTZLendsT2R1Zlc1ejUzd3VLaWk1LXhnOElyY3lRSkRfYm5aUGIzXzRja0lSRE5QUFhzUmfSAV5BVV95cUxOSXJ5YU1xU1lrYmpJQWZVRXoycHhxaVp2eWVNb0Q5aW1kTWtTZzlBdXVsaXpiUm5OUXNpMFB1WXMyWWd6c28tVHFzUXgyMVNYaExRQWRKRzZ0bU5UQXRR?oc=5', 'content': 'AI 검색 라이너, 270억원 시리즈B 투자 유치 - 연합뉴스'}, {'url': 'https://news.google.com/rss/articles/CBMiYkFVX3lxTFAydm9EaDc5NFRDc2pLdmVtcUlwRjBNNHpLME5CV2d3dnZWZGRxWW9wbVVUWkRHZEx3eHZMaGF6dzRnVnBVVnRmd1Eya1UzU1ZvdXpKbm9OX3l2OENtem9VTVJ3?oc=5', 'content': 'AI 금융 투자 플랫폼 ‘엣지’ 운영사 쿠파, 중기부 팁스 선정 - 디지털데일리'}, {'url': 'https://news.google.com/rss/articles/CBMiTkFVX3lxTE5CX19HNHE1bkF2U1VCeWE5T0ZJQVJIbWZZcHdFMEg2N3FPZ2ZSRnYyazRUSWhGcV9wajFzQl9zRUdxbzJORG1GT0xBN1A1UQ?oc=5', 'content': 'AI 스타트업 보이저엑스, 165억 원 신규 투자 유치 - 매일경제'}]\u001b[0m\u001b[32;1m\u001b[1;3m다음은 AI 투자와 관련된 최근 뉴스입니다:\n",
      "\n",
      "1. [삼성전자, 사상 최대 R&D·시설 투자…'AI 시대' 주도한다 - 한국경제](https://news.google.com/rss/articles/CBMiWkFVX3lxTE1CRl9iOVFRYmdaNm9hT3pKZmZOVkZvcVRsRG5sMWk4bjhsWTBseTdDQ0FWVWZ3bmw1anI0aEQ1U3lqLUhHUDhzYUhqLUsycXQ4QTFpYUljRTlMQdIBVEFVX3lxTE42b2NyYUNaRWdrQkxHX2dRal92U25COTRqZnNUb0IyUDMxM2FPWEZwQzRYOTU0STVnUHdWbWV6NnRWVnQ4NFNRd1plZlNiTnFpdUVMRQ?oc=5)\n",
      "\n",
      "2. [오픈AI, 투자 유치 이후 글로벌 확장...뉴욕·파리·싱가포르 등 5곳에 지사 개설 - AI타임스](https://news.google.com/rss/articles/CBMiakFVX3lxTE81QVlXam1wclZOV3loQndWUjVjU3FKUE9zMzRjbkU5b3RMSjFBaGVfMHBvM28wRDFyd05yMVhQYTVnZy1nVkhGZXBqLTV2Zks5bnFQdG8wVEtBeEJoZllhVkQwQ2d1MENteEE?oc=5)\n",
      "\n",
      "3. [AI 검색 라이너, 270억원 시리즈B 투자 유치 - 연합뉴스](https://news.google.com/rss/articles/CBMiW0FVX3lxTE4yZEVnMVBTeGNZWEZzQmpzeHhsZ2o5UTVSR3g2OXhNUTZLendsT2R1Zlc1ejUzd3VLaWk1LXhnOElyY3lRSkRfYm5aUGIzXzRja0lSRE5QUFhzUmfSAV5BVV95cUxOSXJ5YU1xU1lrYmpJQWZVRXoycHhxaVp2eWVNb0Q5aW1kTWtTZzlBdXVsaXpiUm5OUXNpMFB1WXMyWWd6c28tVHFzUXgyMVNYaExRQWRKRzZ0bU5UQXRR?oc=5)\n",
      "\n",
      "4. [AI 금융 투자 플랫폼 ‘엣지’ 운영사 쿠파, 중기부 팁스 선정 - 디지털데일리](https://news.google.com/rss/articles/CBMiYkFVX3lxTFAydm9EaDc5NFRDc2pLdmVtcUlwRjBNNHpLME5CV2d3dnZWZGRxWW9wbVVUWkRHZEx3eHZMaGF6dzRnVnBVVnRmd1Eya1UzU1ZvdXpKbm9OX3l2OENtem9VTVJ3?oc=5)\n",
      "\n",
      "5. [AI 스타트업 보이저엑스, 165억 원 신규 투자 유치 - 매일경제](https://news.google.com/rss/articles/CBMiTkFVX3lxTE5CX19HNHE1bkF2U1VCeWE5T0ZJQVJIbWZZcHdFMEg2N3FPZ2ZSRnYyazRUSWhGcV9wajFzQl9zRUdxbzJORG1GT0xBN1A1UQ?oc=5)\n",
      "\n",
      "이 뉴스들은 AI 투자와 관련된 다양한 소식들을 다루고 있습니다.\u001b[0m\n",
      "\n",
      "\u001b[1m> Finished chain.\u001b[0m\n",
      "Agent 실행 결과:\n",
      "다음은 AI 투자와 관련된 최근 뉴스입니다:\n",
      "\n",
      "1. [삼성전자, 사상 최대 R&D·시설 투자…'AI 시대' 주도한다 - 한국경제](https://news.google.com/rss/articles/CBMiWkFVX3lxTE1CRl9iOVFRYmdaNm9hT3pKZmZOVkZvcVRsRG5sMWk4bjhsWTBseTdDQ0FWVWZ3bmw1anI0aEQ1U3lqLUhHUDhzYUhqLUsycXQ4QTFpYUljRTlMQdIBVEFVX3lxTE42b2NyYUNaRWdrQkxHX2dRal92U25COTRqZnNUb0IyUDMxM2FPWEZwQzRYOTU0STVnUHdWbWV6NnRWVnQ4NFNRd1plZlNiTnFpdUVMRQ?oc=5)\n",
      "\n",
      "2. [오픈AI, 투자 유치 이후 글로벌 확장...뉴욕·파리·싱가포르 등 5곳에 지사 개설 - AI타임스](https://news.google.com/rss/articles/CBMiakFVX3lxTE81QVlXam1wclZOV3loQndWUjVjU3FKUE9zMzRjbkU5b3RMSjFBaGVfMHBvM28wRDFyd05yMVhQYTVnZy1nVkhGZXBqLTV2Zks5bnFQdG8wVEtBeEJoZllhVkQwQ2d1MENteEE?oc=5)\n",
      "\n",
      "3. [AI 검색 라이너, 270억원 시리즈B 투자 유치 - 연합뉴스](https://news.google.com/rss/articles/CBMiW0FVX3lxTE4yZEVnMVBTeGNZWEZzQmpzeHhsZ2o5UTVSR3g2OXhNUTZLendsT2R1Zlc1ejUzd3VLaWk1LXhnOElyY3lRSkRfYm5aUGIzXzRja0lSRE5QUFhzUmfSAV5BVV95cUxOSXJ5YU1xU1lrYmpJQWZVRXoycHhxaVp2eWVNb0Q5aW1kTWtTZzlBdXVsaXpiUm5OUXNpMFB1WXMyWWd6c28tVHFzUXgyMVNYaExRQWRKRzZ0bU5UQXRR?oc=5)\n",
      "\n",
      "4. [AI 금융 투자 플랫폼 ‘엣지’ 운영사 쿠파, 중기부 팁스 선정 - 디지털데일리](https://news.google.com/rss/articles/CBMiYkFVX3lxTFAydm9EaDc5NFRDc2pLdmVtcUlwRjBNNHpLME5CV2d3dnZWZGRxWW9wbVVUWkRHZEx3eHZMaGF6dzRnVnBVVnRmd1Eya1UzU1ZvdXpKbm9OX3l2OENtem9VTVJ3?oc=5)\n",
      "\n",
      "5. [AI 스타트업 보이저엑스, 165억 원 신규 투자 유치 - 매일경제](https://news.google.com/rss/articles/CBMiTkFVX3lxTE5CX19HNHE1bkF2U1VCeWE5T0ZJQVJIbWZZcHdFMEg2N3FPZ2ZSRnYyazRUSWhGcV9wajFzQl9zRUdxbzJORG1GT0xBN1A1UQ?oc=5)\n",
      "\n",
      "이 뉴스들은 AI 투자와 관련된 다양한 소식들을 다루고 있습니다.\n"
     ]
    }
   ],
   "source": [
    "from langchain.agents import AgentExecutor\n",
    "\n",
    "# AgentExecutor 생성\n",
    "agent_executor = AgentExecutor(\n",
    "    agent=agent,\n",
    "    tools=tools,\n",
    "    verbose=True,\n",
    "    max_iterations=10,\n",
    "    max_execution_time=10,\n",
    "    handle_parsing_errors=True,\n",
    ")\n",
    "\n",
    "# AgentExecutor 실행\n",
    "result = agent_executor.invoke({\"input\": \"AI 투자와 관련된 뉴스를 검색해 주세요.\"})\n",
    "\n",
    "print(\"Agent 실행 결과:\")\n",
    "print(result[\"output\"])\n"
   ]
  },
  {
   "cell_type": "code",
   "execution_count": null,
   "metadata": {},
   "outputs": [],
   "source": []
  }
 ],
 "metadata": {
  "kernelspec": {
   "display_name": "llm",
   "language": "python",
   "name": "python3"
  },
  "language_info": {
   "codemirror_mode": {
    "name": "ipython",
    "version": 3
   },
   "file_extension": ".py",
   "mimetype": "text/x-python",
   "name": "python",
   "nbconvert_exporter": "python",
   "pygments_lexer": "ipython3",
   "version": "3.10.12"
  }
 },
 "nbformat": 4,
 "nbformat_minor": 2
}
