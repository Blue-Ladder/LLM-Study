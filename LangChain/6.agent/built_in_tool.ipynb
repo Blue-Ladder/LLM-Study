{
 "cells": [
  {
   "cell_type": "markdown",
   "metadata": {},
   "source": [
    "# 빌트인 도구(built-in tools)\n",
    "\n",
    "## 랭체인에서 제공하는 툴"
   ]
  },
  {
   "cell_type": "markdown",
   "metadata": {},
   "source": [
    "1. Python REPL 도구"
   ]
  },
  {
   "cell_type": "code",
   "execution_count": 12,
   "metadata": {},
   "outputs": [
    {
     "name": "stdout",
     "output_type": "stream",
     "text": [
      "CODE:\n",
      "import random\n",
      "\n",
      "def generate_lotto_numbers():\n",
      "    return sorted(random.sample(range(1, 46), 6))\n",
      "\n",
      "print(generate_lotto_numbers())\n",
      "[3, 5, 8, 12, 18, 41]\n",
      "\n"
     ]
    }
   ],
   "source": [
    "from dotenv import load_dotenv\n",
    "\n",
    "load_dotenv()\n",
    "\n",
    "from langchain_openai import ChatOpenAI\n",
    "from langchain_core.prompts import ChatPromptTemplate\n",
    "from langchain_core.output_parsers import StrOutputParser\n",
    "from langchain_core.runnables import RunnableLambda\n",
    "from langchain_experimental.tools import PythonREPLTool #pip install langchain_experimental\n",
    "\n",
    "# 파이썬 코드를 실행하는 도구를 생성합니다.\n",
    "python_tool = PythonREPLTool()\n",
    "\n",
    "# 파이썬 코드를 실행하고 중간 과정을 출력하고 도구 실행 결과를 반환하는 함수\n",
    "def print_and_execute(code, debug=True):\n",
    "    if debug:\n",
    "        print(\"CODE:\")\n",
    "        print(code)\n",
    "    return python_tool.invoke(code)\n",
    "\n",
    "\n",
    "# 파이썬 코드를 작성하도록 요청하는 프롬프트\n",
    "prompt = ChatPromptTemplate.from_messages(\n",
    "    [\n",
    "        (\n",
    "            \"system\",\n",
    "            \"You are Raymond Hetting, an expert python programmer, well versed in meta-programming and elegant, concise and short but well documented code. You follow the PEP8 style guide. \"\n",
    "            \"Return only the code, no intro, no explanation, no chatty, no markdown, no code block, no nothing. Just the code.\",\n",
    "        ),\n",
    "        (\"human\", \"{input}\"),\n",
    "    ]\n",
    ")\n",
    "# LLM 모델 생성\n",
    "llm = ChatOpenAI(model=\"gpt-4o\", temperature=0)\n",
    "\n",
    "# 프롬프트와 LLM 모델을 사용하여 체인 생성\n",
    "chain = prompt | llm | StrOutputParser() | RunnableLambda(print_and_execute)\n",
    "\n",
    "# 결과 출력\n",
    "print(chain.invoke(\"로또 번호 생성기를 출력하는 코드를 작성하세요.\"))"
   ]
  },
  {
   "cell_type": "markdown",
   "metadata": {},
   "source": [
    "2. TavilySearchResults : 검색 도구\n",
    "\n"
   ]
  },
  {
   "cell_type": "code",
   "execution_count": 2,
   "metadata": {},
   "outputs": [
    {
     "data": {
      "text/plain": [
       "[{'url': 'https://wikidocs.net/262582',\n",
       "  'content': '4 days ago · 도구(Tool)는 에이전트, 체인 또는 LLM이 외부 세계와 상호작용하기 위한 인터페이스입니다. LangChain 에서 기본 제공하는 도구를 사용하여 쉽게 도구를\\xa0...'},\n",
       " {'url': 'https://teddylee777.github.io/langchain/langchain-agent/',\n",
       "  'content': '태그:\\nAgent,\\nAPI KEY,\\nFAISS,\\nLangChain,\\nLangSmith,\\nmemory,\\nOpenAI,\\nPython,\\nRetriever,\\nTavily Search,\\ntools,\\n검색도구,\\n랭체인,\\n에이전트\\n카테고리:\\nlangchain\\n업데이트: 2024년 02월 09일\\n참고\\nLangChain RAG 파헤치기: 다음의 추적 링크에서 자세한 단계별 수행 결과를 확인할 수 있습니다\\nLangSmith 추적\\n다음의 추적 링크에서 자세한 단계별 수행 결과를 확인할 수 있습니다\\nLangSmith 추적\\n④ 메모리 추가하기\\n앞서 언급했듯이, 이 에이전트는 상태가 없습니다. LangChain 한국어 튜토리얼\\n바로가기 👀\\n[LangChain] 에이전트(Agent)와 도구(tools)를 활용한 지능형 검색 시스템 구축 가이드\\n2024년 02월 09일\\n41 분 소요\\n이 글에서는 LangChain 의 Agent 프레임워크를 활용하여 복잡한 검색과 📍 전체 템플릿 코드\\n다음의 추적 링크에서 자세한 단계별 수행 결과를 확인할 수 있습니다\\nLangSmith 추적\\n마무리입니다!\\n 문서 기반 QA 시스템 설계 방법 - 심화편\\n2024년 02월 06일\\n22 분 소요\\nLangChain의 RAG 시스템을 통해 문서(PDF, txt, 웹페이지 등)에 대한 질문-답변을 찾는 과정을 정리하였습니다.\\n'},\n",
       " {'url': 'https://wikidocs.net/233351',\n",
       "  'content': '또한 LangChain은 포맷하는 동안 렌더링할 메시지를 완전히 제어할 수 있는 MessagePlaceholder 를 제공합니다. 메시지 프롬프트 템플릿에 어떤 역할을 사용해야 할지 확실\\xa0...'},\n",
       " {'url': 'https://ncsoft.github.io/ncresearch/f4a00ed849299e3c91fb3244e74ea7f9b974ebb7',\n",
       "  'content': 'Jun 23, 2023 · LangChain은 이런 LLM을 좀 더 쉽게 사용할 수 있도록 개념들을 추상화하여, LLM을 사용하면서 편리할만한 패턴들을 규격화시킨 프레임워크입니다. 이 글\\xa0...'},\n",
       " {'url': 'https://13akstjq.github.io/TIL/post/2024-07-12-GenAIwithPythonLLMvsAgents',\n",
       "  'content': 'Jul 12, 2024 · 주요 라이브러리는 다음과 같습니다: LangChain — 거의 모든 LLM 기능을 포함하는 매쉬업 프레임워크입니다. Agent가 낮은 수준에서 코딩되어야 하는 경\\xa0...'},\n",
       " {'url': 'https://wikidocs.net/262595',\n",
       "  'content': 'LangChain에는 Tavily 검색 엔진을 도구로 쉽게 사용할 수 있는 내장 도구가 있습니다. Tavily Search 를 사용하기 위해서는 API KEY를 발급 받아야 합니다. Tavily Search\\xa0...'}]"
      ]
     },
     "execution_count": 2,
     "metadata": {},
     "output_type": "execute_result"
    }
   ],
   "source": [
    "from langchain_community.tools.tavily_search import TavilySearchResults\n",
    "\n",
    "# 도구 생성\n",
    "tool = TavilySearchResults(\n",
    "    max_results=6,\n",
    "    include_answer=True,\n",
    "    include_raw_content=True,\n",
    "    # include_images=True,\n",
    "    # search_depth=\"advanced\", # or \"basic\"\n",
    "    include_domains=[\"github.io\", \"wikidocs.net\"],\n",
    "    # exclude_domains = []\n",
    ")\n",
    "\n",
    "# 도구 실행\n",
    "tool.invoke({\"query\": \"LangChain Tools 에 대해서 알려주세요\"})"
   ]
  },
  {
   "cell_type": "markdown",
   "metadata": {},
   "source": [
    "# 사용자 정의 도구(Custom Tool)"
   ]
  },
  {
   "cell_type": "code",
   "execution_count": 16,
   "metadata": {},
   "outputs": [
    {
     "name": "stdout",
     "output_type": "stream",
     "text": [
      "7\n",
      "12\n"
     ]
    }
   ],
   "source": [
    "from langchain.tools import tool\n",
    "\n",
    "\n",
    "# 데코레이터를 사용하여 함수를 도구로 변환합니다.\n",
    "@tool\n",
    "def add_numbers(a: int, b: int) -> int:\n",
    "    \"\"\"Add two numbers\"\"\"\n",
    "    return a + b\n",
    "\n",
    "\n",
    "@tool\n",
    "def multiply_numbers(a: int, b: int) -> int:\n",
    "    \"\"\"Multiply two numbers\"\"\"\n",
    "    return a * b\n",
    "\n",
    "print(add_numbers.invoke({\"a\": 3, \"b\": 4}))\n",
    "\n",
    "print(multiply_numbers.invoke({\"a\": 3, \"b\": 4}))"
   ]
  },
  {
   "cell_type": "markdown",
   "metadata": {},
   "source": [
    "## 구글 뉴스기사 검색 도구"
   ]
  },
  {
   "cell_type": "code",
   "execution_count": 18,
   "metadata": {},
   "outputs": [
    {
     "data": {
      "text/plain": [
       "[{'url': 'https://news.google.com/rss/articles/CBMiakFVX3lxTE81QVlXam1wclZOV3loQndWUjVjU3FKUE9zMzRjbkU5b3RMSjFBaGVfMHBvM28wRDFyd05yMVhQYTVnZy1nVkhGZXBqLTV2Zks5bnFQdG8wVEtBeEJoZllhVkQwQ2d1MENteEE?oc=5',\n",
       "  'content': '오픈AI, 투자 유치 이후 글로벌 확장...뉴욕·파리·싱가포르 등 5곳에 지사 개설 - AI타임스'},\n",
       " {'url': 'https://news.google.com/rss/articles/CBMiW0FVX3lxTE4yZEVnMVBTeGNZWEZzQmpzeHhsZ2o5UTVSR3g2OXhNUTZLendsT2R1Zlc1ejUzd3VLaWk1LXhnOElyY3lRSkRfYm5aUGIzXzRja0lSRE5QUFhzUmfSAV5BVV95cUxOSXJ5YU1xU1lrYmpJQWZVRXoycHhxaVp2eWVNb0Q5aW1kTWtTZzlBdXVsaXpiUm5OUXNpMFB1WXMyWWd6c28tVHFzUXgyMVNYaExRQWRKRzZ0bU5UQXRR?oc=5',\n",
       "  'content': 'AI 검색 라이너, 270억원 시리즈B 투자 유치 - 연합뉴스'},\n",
       " {'url': 'https://news.google.com/rss/articles/CBMiWkFVX3lxTE41Uk9WUHVRS196S1ByVWx1V1IxQnlQbHhMSE03RXA5NXQ2cWk1RmMzX3kweVpQeEw1OWo5TzM3NGtWT2tMMW1NdXlEV2hIRmg2bVQ0aEROWllxQdIBVEFVX3lxTE04dDMyOE80dUNSNFMycFpmTTQ1TGUtQjREZlFGYXZpM2tuU3huQnVzWElRSUZFbEJFZlhBOTZFY3VLd2ZpRXVIVFp5YTY2aDBYTi1hRQ?oc=5',\n",
       "  'content': 'KB증권, 생성 AI 활용해 양방향 맞춤형 투자정보 제공 - 한국경제'},\n",
       " {'url': 'https://news.google.com/rss/articles/CBMiYkFVX3lxTFAydm9EaDc5NFRDc2pLdmVtcUlwRjBNNHpLME5CV2d3dnZWZGRxWW9wbVVUWkRHZEx3eHZMaGF6dzRnVnBVVnRmd1Eya1UzU1ZvdXpKbm9OX3l2OENtem9VTVJ3?oc=5',\n",
       "  'content': 'AI 금융 투자 플랫폼 ‘엣지’ 운영사 쿠파, 중기부 팁스 선정 - 디지털데일리'},\n",
       " {'url': 'https://news.google.com/rss/articles/CBMiTkFVX3lxTE5CX19HNHE1bkF2U1VCeWE5T0ZJQVJIbWZZcHdFMEg2N3FPZ2ZSRnYyazRUSWhGcV9wajFzQl9zRUdxbzJORG1GT0xBN1A1UQ?oc=5',\n",
       "  'content': 'AI 스타트업 보이저엑스, 165억 원 신규 투자 유치 - 매일경제'}]"
      ]
     },
     "execution_count": 18,
     "metadata": {},
     "output_type": "execute_result"
    }
   ],
   "source": [
    "from langchain_teddynote.tools import GoogleNews\n",
    "\n",
    "# 도구 생성\n",
    "news_tool = GoogleNews()\n",
    "\n",
    "# 최신 뉴스 검색\n",
    "news_tool.search_by_keyword(\"AI 투자\", k=5)\n",
    "#news_tool.search_by_keyword(k=5)"
   ]
  },
  {
   "cell_type": "markdown",
   "metadata": {},
   "source": [
    "구글 뉴스 검색 툴"
   ]
  },
  {
   "cell_type": "code",
   "execution_count": 19,
   "metadata": {},
   "outputs": [
    {
     "name": "stdout",
     "output_type": "stream",
     "text": [
      "AI 투자\n"
     ]
    },
    {
     "data": {
      "text/plain": [
       "[{'url': 'https://news.google.com/rss/articles/CBMiakFVX3lxTE81QVlXam1wclZOV3loQndWUjVjU3FKUE9zMzRjbkU5b3RMSjFBaGVfMHBvM28wRDFyd05yMVhQYTVnZy1nVkhGZXBqLTV2Zks5bnFQdG8wVEtBeEJoZllhVkQwQ2d1MENteEE?oc=5',\n",
       "  'content': '오픈AI, 투자 유치 이후 글로벌 확장...뉴욕·파리·싱가포르 등 5곳에 지사 개설 - AI타임스'},\n",
       " {'url': 'https://news.google.com/rss/articles/CBMiWkFVX3lxTE41Uk9WUHVRS196S1ByVWx1V1IxQnlQbHhMSE03RXA5NXQ2cWk1RmMzX3kweVpQeEw1OWo5TzM3NGtWT2tMMW1NdXlEV2hIRmg2bVQ0aEROWllxQdIBVEFVX3lxTE04dDMyOE80dUNSNFMycFpmTTQ1TGUtQjREZlFGYXZpM2tuU3huQnVzWElRSUZFbEJFZlhBOTZFY3VLd2ZpRXVIVFp5YTY2aDBYTi1hRQ?oc=5',\n",
       "  'content': 'KB증권, 생성 AI 활용해 양방향 맞춤형 투자정보 제공 - 한국경제'},\n",
       " {'url': 'https://news.google.com/rss/articles/CBMiW0FVX3lxTE4yZEVnMVBTeGNZWEZzQmpzeHhsZ2o5UTVSR3g2OXhNUTZLendsT2R1Zlc1ejUzd3VLaWk1LXhnOElyY3lRSkRfYm5aUGIzXzRja0lSRE5QUFhzUmfSAV5BVV95cUxOSXJ5YU1xU1lrYmpJQWZVRXoycHhxaVp2eWVNb0Q5aW1kTWtTZzlBdXVsaXpiUm5OUXNpMFB1WXMyWWd6c28tVHFzUXgyMVNYaExRQWRKRzZ0bU5UQXRR?oc=5',\n",
       "  'content': 'AI 검색 라이너, 270억원 시리즈B 투자 유치 - 연합뉴스'},\n",
       " {'url': 'https://news.google.com/rss/articles/CBMiVkFVX3lxTE9FdmQ4S2VSMmowbU0yYmVMRkxQNjk5Z2EzRGR5LWJFZVZuYVBvLUhoakYwd0tiM2tGczFfZm16TXJCbDYtbjI4eDg5WUlaVWRzeGx1X2F3?oc=5',\n",
       "  'content': '오펜하이머 \"MS,오픈AI 투자 손실 위험\"…\\'중립\\'하향 - 네이트 뉴스'},\n",
       " {'url': 'https://news.google.com/rss/articles/CBMiYkFVX3lxTFAydm9EaDc5NFRDc2pLdmVtcUlwRjBNNHpLME5CV2d3dnZWZGRxWW9wbVVUWkRHZEx3eHZMaGF6dzRnVnBVVnRmd1Eya1UzU1ZvdXpKbm9OX3l2OENtem9VTVJ3?oc=5',\n",
       "  'content': 'AI 금융 투자 플랫폼 ‘엣지’ 운영사 쿠파, 중기부 팁스 선정 - 디지털데일리'}]"
      ]
     },
     "execution_count": 19,
     "metadata": {},
     "output_type": "execute_result"
    }
   ],
   "source": [
    "from langchain_teddynote.tools import GoogleNews\n",
    "from langchain.tools import tool\n",
    "from typing import List, Dict\n",
    "\n",
    "\n",
    "# 키워드로 뉴스 검색하는 도구 생성\n",
    "@tool\n",
    "def search_keyword(query: str) -> List[Dict[str, str]]:\n",
    "    \"\"\"Look up news by keyword\"\"\"\n",
    "    print(query)\n",
    "    news_tool = GoogleNews()\n",
    "    return news_tool.search_by_keyword(query, k=5)\n",
    "\n",
    "# 실행 결과\n",
    "search_keyword.invoke({\"query\": \"AI 투자\"})"
   ]
  }
 ],
 "metadata": {
  "kernelspec": {
   "display_name": "llm",
   "language": "python",
   "name": "python3"
  },
  "language_info": {
   "codemirror_mode": {
    "name": "ipython",
    "version": 3
   },
   "file_extension": ".py",
   "mimetype": "text/x-python",
   "name": "python",
   "nbconvert_exporter": "python",
   "pygments_lexer": "ipython3",
   "version": "3.10.12"
  }
 },
 "nbformat": 4,
 "nbformat_minor": 2
}
