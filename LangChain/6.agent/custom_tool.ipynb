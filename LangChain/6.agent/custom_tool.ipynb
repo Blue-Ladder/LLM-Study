{
 "cells": [
  {
   "cell_type": "markdown",
   "metadata": {},
   "source": [
    "# 사용자 정의 도구(Custom Tool)"
   ]
  },
  {
   "cell_type": "code",
   "execution_count": 16,
   "metadata": {},
   "outputs": [
    {
     "name": "stdout",
     "output_type": "stream",
     "text": [
      "7\n",
      "12\n"
     ]
    }
   ],
   "source": [
    "from langchain.tools import tool\n",
    "\n",
    "\n",
    "# 데코레이터를 사용하여 함수를 도구로 변환합니다.\n",
    "@tool\n",
    "def add_numbers(a: int, b: int) -> int:\n",
    "    \"\"\"Add two numbers\"\"\"\n",
    "    return a + b\n",
    "\n",
    "\n",
    "@tool\n",
    "def multiply_numbers(a: int, b: int) -> int:\n",
    "    \"\"\"Multiply two numbers\"\"\"\n",
    "    return a * b\n",
    "\n",
    "print(add_numbers.invoke({\"a\": 3, \"b\": 4}))\n",
    "\n",
    "print(multiply_numbers.invoke({\"a\": 3, \"b\": 4}))"
   ]
  },
  {
   "cell_type": "markdown",
   "metadata": {},
   "source": [
    "## 구글 뉴스기사 검색 도구"
   ]
  },
  {
   "cell_type": "code",
   "execution_count": 18,
   "metadata": {},
   "outputs": [
    {
     "data": {
      "text/plain": [
       "[{'url': 'https://news.google.com/rss/articles/CBMiakFVX3lxTE81QVlXam1wclZOV3loQndWUjVjU3FKUE9zMzRjbkU5b3RMSjFBaGVfMHBvM28wRDFyd05yMVhQYTVnZy1nVkhGZXBqLTV2Zks5bnFQdG8wVEtBeEJoZllhVkQwQ2d1MENteEE?oc=5',\n",
       "  'content': '오픈AI, 투자 유치 이후 글로벌 확장...뉴욕·파리·싱가포르 등 5곳에 지사 개설 - AI타임스'},\n",
       " {'url': 'https://news.google.com/rss/articles/CBMiW0FVX3lxTE4yZEVnMVBTeGNZWEZzQmpzeHhsZ2o5UTVSR3g2OXhNUTZLendsT2R1Zlc1ejUzd3VLaWk1LXhnOElyY3lRSkRfYm5aUGIzXzRja0lSRE5QUFhzUmfSAV5BVV95cUxOSXJ5YU1xU1lrYmpJQWZVRXoycHhxaVp2eWVNb0Q5aW1kTWtTZzlBdXVsaXpiUm5OUXNpMFB1WXMyWWd6c28tVHFzUXgyMVNYaExRQWRKRzZ0bU5UQXRR?oc=5',\n",
       "  'content': 'AI 검색 라이너, 270억원 시리즈B 투자 유치 - 연합뉴스'},\n",
       " {'url': 'https://news.google.com/rss/articles/CBMiWkFVX3lxTE41Uk9WUHVRS196S1ByVWx1V1IxQnlQbHhMSE03RXA5NXQ2cWk1RmMzX3kweVpQeEw1OWo5TzM3NGtWT2tMMW1NdXlEV2hIRmg2bVQ0aEROWllxQdIBVEFVX3lxTE04dDMyOE80dUNSNFMycFpmTTQ1TGUtQjREZlFGYXZpM2tuU3huQnVzWElRSUZFbEJFZlhBOTZFY3VLd2ZpRXVIVFp5YTY2aDBYTi1hRQ?oc=5',\n",
       "  'content': 'KB증권, 생성 AI 활용해 양방향 맞춤형 투자정보 제공 - 한국경제'},\n",
       " {'url': 'https://news.google.com/rss/articles/CBMiYkFVX3lxTFAydm9EaDc5NFRDc2pLdmVtcUlwRjBNNHpLME5CV2d3dnZWZGRxWW9wbVVUWkRHZEx3eHZMaGF6dzRnVnBVVnRmd1Eya1UzU1ZvdXpKbm9OX3l2OENtem9VTVJ3?oc=5',\n",
       "  'content': 'AI 금융 투자 플랫폼 ‘엣지’ 운영사 쿠파, 중기부 팁스 선정 - 디지털데일리'},\n",
       " {'url': 'https://news.google.com/rss/articles/CBMiTkFVX3lxTE5CX19HNHE1bkF2U1VCeWE5T0ZJQVJIbWZZcHdFMEg2N3FPZ2ZSRnYyazRUSWhGcV9wajFzQl9zRUdxbzJORG1GT0xBN1A1UQ?oc=5',\n",
       "  'content': 'AI 스타트업 보이저엑스, 165억 원 신규 투자 유치 - 매일경제'}]"
      ]
     },
     "execution_count": 18,
     "metadata": {},
     "output_type": "execute_result"
    }
   ],
   "source": [
    "from langchain_teddynote.tools import GoogleNews\n",
    "\n",
    "# 도구 생성\n",
    "news_tool = GoogleNews()\n",
    "\n",
    "# 최신 뉴스 검색\n",
    "news_tool.search_by_keyword(\"AI 투자\", k=5)\n",
    "#news_tool.search_by_keyword(k=5)"
   ]
  },
  {
   "cell_type": "markdown",
   "metadata": {},
   "source": [
    "구글 뉴스 검색 툴"
   ]
  },
  {
   "cell_type": "code",
   "execution_count": 19,
   "metadata": {},
   "outputs": [
    {
     "name": "stdout",
     "output_type": "stream",
     "text": [
      "AI 투자\n"
     ]
    },
    {
     "data": {
      "text/plain": [
       "[{'url': 'https://news.google.com/rss/articles/CBMiakFVX3lxTE81QVlXam1wclZOV3loQndWUjVjU3FKUE9zMzRjbkU5b3RMSjFBaGVfMHBvM28wRDFyd05yMVhQYTVnZy1nVkhGZXBqLTV2Zks5bnFQdG8wVEtBeEJoZllhVkQwQ2d1MENteEE?oc=5',\n",
       "  'content': '오픈AI, 투자 유치 이후 글로벌 확장...뉴욕·파리·싱가포르 등 5곳에 지사 개설 - AI타임스'},\n",
       " {'url': 'https://news.google.com/rss/articles/CBMiWkFVX3lxTE41Uk9WUHVRS196S1ByVWx1V1IxQnlQbHhMSE03RXA5NXQ2cWk1RmMzX3kweVpQeEw1OWo5TzM3NGtWT2tMMW1NdXlEV2hIRmg2bVQ0aEROWllxQdIBVEFVX3lxTE04dDMyOE80dUNSNFMycFpmTTQ1TGUtQjREZlFGYXZpM2tuU3huQnVzWElRSUZFbEJFZlhBOTZFY3VLd2ZpRXVIVFp5YTY2aDBYTi1hRQ?oc=5',\n",
       "  'content': 'KB증권, 생성 AI 활용해 양방향 맞춤형 투자정보 제공 - 한국경제'},\n",
       " {'url': 'https://news.google.com/rss/articles/CBMiW0FVX3lxTE4yZEVnMVBTeGNZWEZzQmpzeHhsZ2o5UTVSR3g2OXhNUTZLendsT2R1Zlc1ejUzd3VLaWk1LXhnOElyY3lRSkRfYm5aUGIzXzRja0lSRE5QUFhzUmfSAV5BVV95cUxOSXJ5YU1xU1lrYmpJQWZVRXoycHhxaVp2eWVNb0Q5aW1kTWtTZzlBdXVsaXpiUm5OUXNpMFB1WXMyWWd6c28tVHFzUXgyMVNYaExRQWRKRzZ0bU5UQXRR?oc=5',\n",
       "  'content': 'AI 검색 라이너, 270억원 시리즈B 투자 유치 - 연합뉴스'},\n",
       " {'url': 'https://news.google.com/rss/articles/CBMiVkFVX3lxTE9FdmQ4S2VSMmowbU0yYmVMRkxQNjk5Z2EzRGR5LWJFZVZuYVBvLUhoakYwd0tiM2tGczFfZm16TXJCbDYtbjI4eDg5WUlaVWRzeGx1X2F3?oc=5',\n",
       "  'content': '오펜하이머 \"MS,오픈AI 투자 손실 위험\"…\\'중립\\'하향 - 네이트 뉴스'},\n",
       " {'url': 'https://news.google.com/rss/articles/CBMiYkFVX3lxTFAydm9EaDc5NFRDc2pLdmVtcUlwRjBNNHpLME5CV2d3dnZWZGRxWW9wbVVUWkRHZEx3eHZMaGF6dzRnVnBVVnRmd1Eya1UzU1ZvdXpKbm9OX3l2OENtem9VTVJ3?oc=5',\n",
       "  'content': 'AI 금융 투자 플랫폼 ‘엣지’ 운영사 쿠파, 중기부 팁스 선정 - 디지털데일리'}]"
      ]
     },
     "execution_count": 19,
     "metadata": {},
     "output_type": "execute_result"
    }
   ],
   "source": [
    "from langchain_teddynote.tools import GoogleNews\n",
    "from langchain.tools import tool\n",
    "from typing import List, Dict\n",
    "\n",
    "\n",
    "# 키워드로 뉴스 검색하는 도구 생성\n",
    "@tool\n",
    "def search_keyword(query: str) -> List[Dict[str, str]]:\n",
    "    \"\"\"Look up news by keyword\"\"\"\n",
    "    print(query)\n",
    "    news_tool = GoogleNews()\n",
    "    return news_tool.search_by_keyword(query, k=5)\n",
    "\n",
    "# 실행 결과\n",
    "search_keyword.invoke({\"query\": \"AI 투자\"})"
   ]
  }
 ],
 "metadata": {
  "kernelspec": {
   "display_name": "llm",
   "language": "python",
   "name": "python3"
  },
  "language_info": {
   "codemirror_mode": {
    "name": "ipython",
    "version": 3
   },
   "file_extension": ".py",
   "mimetype": "text/x-python",
   "name": "python",
   "nbconvert_exporter": "python",
   "pygments_lexer": "ipython3",
   "version": "3.10.12"
  }
 },
 "nbformat": 4,
 "nbformat_minor": 2
}
