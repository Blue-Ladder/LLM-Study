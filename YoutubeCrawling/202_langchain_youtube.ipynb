{
 "cells": [
  {
   "cell_type": "markdown",
   "metadata": {},
   "source": [
    "# 라이브러리 불러오기"
   ]
  },
  {
   "cell_type": "code",
   "execution_count": 58,
   "metadata": {},
   "outputs": [],
   "source": [
    "import pandas as pd\n",
    "import numpy as np\n",
    "\n",
    "import matplotlib.pyplot as plt\n",
    "import seaborn as sns\n",
    "import re\n",
    "\n",
    "# 한글 폰트 설정\n",
    "import matplotlib.font_manager as fm\n",
    "\n",
    "font_path = 'C:/Windows/Fonts/malgun.ttf'\n",
    "font_name = fm.FontProperties(fname=font_path).get_name()\n",
    "plt.rc('font', family=font_name)\n",
    "\n",
    "\n",
    "# 경고 문구 미표\n",
    "import warnings\n",
    "warnings.filterwarnings('ignore')"
   ]
  },
  {
   "cell_type": "markdown",
   "metadata": {},
   "source": [
    "# YouTubeSearchTool \n",
    "- 유튜브 검색해서 URL 목록을 제공하는 도구\n",
    "- 검색어: 키워드,개수"
   ]
  },
  {
   "cell_type": "code",
   "execution_count": 59,
   "metadata": {},
   "outputs": [],
   "source": [
    "from langchain_community.tools import YouTubeSearchTool #langchain 지원 유튜브 서치 툴\n",
    "\n",
    "tool = YouTubeSearchTool()"
   ]
  },
  {
   "cell_type": "code",
   "execution_count": 6,
   "metadata": {},
   "outputs": [],
   "source": [
    "results = tool.run(\"챔피언스리그 조추첨,10\") #run명령어(검색어, 갯수)"
   ]
  },
  {
   "cell_type": "code",
   "execution_count": 8,
   "metadata": {},
   "outputs": [
    {
     "name": "stdout",
     "output_type": "stream",
     "text": [
      "['https://www.youtube.com/watch?v=2tg57Svu3UU&pp=ygUc7LGU7ZS87Ja47Iqk66as6re4IOyhsOy2lOyyqA%3D%3D', 'https://www.youtube.com/watch?v=W5nsgsDp4OA&pp=ygUc7LGU7ZS87Ja47Iqk66as6re4IOyhsOy2lOyyqA%3D%3D', 'https://www.youtube.com/watch?v=Y_wxdpVOEY4&pp=ygUc7LGU7ZS87Ja47Iqk66as6re4IOyhsOy2lOyyqA%3D%3D', 'https://www.youtube.com/watch?v=3skPPkwD9No&pp=ygUc7LGU7ZS87Ja47Iqk66as6re4IOyhsOy2lOyyqA%3D%3D', 'https://www.youtube.com/watch?v=Ocvr_8aXQZU&pp=ygUc7LGU7ZS87Ja47Iqk66as6re4IOyhsOy2lOyyqA%3D%3D', 'https://www.youtube.com/watch?v=QBaCqcbaoxY&pp=ygUc7LGU7ZS87Ja47Iqk66as6re4IOyhsOy2lOyyqA%3D%3D', 'https://www.youtube.com/watch?v=87knwYLuHYM&pp=ygUc7LGU7ZS87Ja47Iqk66as6re4IOyhsOy2lOyyqA%3D%3D', 'https://www.youtube.com/watch?v=VVCpJFtaAHg&pp=ygUc7LGU7ZS87Ja47Iqk66as6re4IOyhsOy2lOyyqA%3D%3D', 'https://www.youtube.com/watch?v=6jO7GFYWz3Y&pp=ygUc7LGU7ZS87Ja47Iqk66as6re4IOyhsOy2lOyyqA%3D%3D', 'https://www.youtube.com/watch?v=JXXf5gCDAiE&pp=ygUc7LGU7ZS87Ja47Iqk66as6re4IOyhsOy2lOyyqA%3D%3D']\n"
     ]
    }
   ],
   "source": [
    "# 문자열을 파이썬 리스트로 변환\n",
    "import json\n",
    "url_list = json.loads(results.replace(\"'\", '\"'))\n",
    "\n",
    "# 결과 출력\n",
    "print(url_list)"
   ]
  },
  {
   "cell_type": "code",
   "execution_count": 9,
   "metadata": {},
   "outputs": [
    {
     "data": {
      "text/plain": [
       "10"
      ]
     },
     "execution_count": 9,
     "metadata": {},
     "output_type": "execute_result"
    }
   ],
   "source": [
    "len(url_list)"
   ]
  },
  {
   "cell_type": "code",
   "execution_count": 10,
   "metadata": {},
   "outputs": [
    {
     "data": {
      "text/plain": [
       "'https://www.youtube.com/watch?v=2tg57Svu3UU&pp=ygUc7LGU7ZS87Ja47Iqk66as6re4IOyhsOy2lOyyqA%3D%3D'"
      ]
     },
     "execution_count": 10,
     "metadata": {},
     "output_type": "execute_result"
    }
   ],
   "source": [
    "url_list[0]"
   ]
  },
  {
   "cell_type": "code",
   "execution_count": 12,
   "metadata": {},
   "outputs": [
    {
     "data": {
      "text/plain": [
       "20"
      ]
     },
     "execution_count": 12,
     "metadata": {},
     "output_type": "execute_result"
    }
   ],
   "source": [
    "# 함수로 정의\n",
    "def search_youtube(keyword, max_results=20):\n",
    "    \"\"\"\n",
    "    유튜브에서 키워드 검색 결과를 가져오는 함수\n",
    "    Args:\n",
    "        keyword: 검색할 키워드\n",
    "        max_results: 가져올 최대 결과 수\n",
    "    Returns:\n",
    "        url_list: 검색 결과의 URL 리스트\n",
    "    \"\"\"\n",
    "    tool = YouTubeSearchTool()\n",
    "    results = tool.run(f\"{keyword},{max_results}\")\n",
    "    url_list = json.loads(results.replace(\"'\", '\"'))\n",
    "    return url_list\n",
    "\n",
    "\n",
    "# 함수 실행\n",
    "url_list = search_youtube(\"챔피언스리그 조추첨\")\n",
    "len(url_list)"
   ]
  },
  {
   "cell_type": "code",
   "execution_count": 13,
   "metadata": {},
   "outputs": [
    {
     "data": {
      "text/plain": [
       "20"
      ]
     },
     "execution_count": 13,
     "metadata": {},
     "output_type": "execute_result"
    }
   ],
   "source": [
    "url_list2 = search_youtube(\"챔피언스리그 조추첨\")\n",
    "len(url_list2)"
   ]
  },
  {
   "cell_type": "code",
   "execution_count": 14,
   "metadata": {},
   "outputs": [
    {
     "data": {
      "text/plain": [
       "10"
      ]
     },
     "execution_count": 14,
     "metadata": {},
     "output_type": "execute_result"
    }
   ],
   "source": [
    "len(set(url_list) - set(url_list2)) # 유튜브 검색 결과가 매번 바뀜"
   ]
  },
  {
   "cell_type": "markdown",
   "metadata": {},
   "source": [
    "# YoutubeLoader\n",
    "- url을 입력하면 유튜브 자막을 추출하여 문서 객체로 변환\n",
    "- add_video_info: 비디오 정보를 추가"
   ]
  },
  {
   "cell_type": "code",
   "execution_count": 15,
   "metadata": {},
   "outputs": [
    {
     "name": "stdout",
     "output_type": "stream",
     "text": [
      "1\n",
      "page_content='이번 시즌부터 챔스 대회 운영 방식이 개편되면서 기존 32개 클럽에서 36개의 클럽으로 확대되었고 이웃 더욱 재미있어질 거라고 예상되는 24 25 시즌 챔스 조추첨 결과에 대해 알아보자 포트 1 잉글랜드 프리미어 리그 맨체스터 시티 독일 군대스리가 바이에르 미는 스페인라리가 레알 마드리드 프랑스 리가 파리생제르만 잉글랜드 프리미어 리그 리버풀 이탈리아 세리의 인터밀란 독일 분데스리가 도르트문트 독일 분데스리가 라이프비 스페 라리가 바르셀로나 포트 독일 분데스리가 바이언 공사 레보 데드 스테라 리가 아틀레티코 마드리드 이탈리아 세리의 a 아틀란다 이탈리아 세리의 a 유벤투스 포르투갈 프리메이라리가 벤피카 잉글랜드 프리미어 리그 아스날 벨기에 프리그 클럽 프레 우크라이나 프리미어 리그 샤타 도네츠 이탈리아 세리의 a 밀란 포트 3 네덜란드에 레디 BC 페에 노르드 포르투가 프리메이라리가 스포르팅 리스본 네덜란드 ldbc psv 인벤 크로아티아 프로리그 디나모 자그레브 오스트리아 스리가 즈루 프랑스 리그 앙리 세르비아 수리가 츠르베나 즈베즈다 스위스 슈퍼리그 영보이즈 스코트랜드 프리미어리그 셀틱 포트 4 슬로바키아 스리가 슬로반 브라티슬라바 프랑스리그 AS 모나고 체스카 포트발 로바 리가 스파르타 프라 잉글랜드 프리미어리그 아스톤빌라 이탈리아 세리의 a 볼로나 스페인라리가 지로나 독일 분데스리가 슈트가르트 오스트리아 분데스리가 슈트 그라스 프랑스 리그 스타드 브레스 이렇게 챔피언스 리그 조추 처음 결과 각 팀별 포트 1 포트 2 포트 3 포트 4 경기가 확정이 되면서 과연 36개의 클럽 중 16강으로 올라가게 돼 자신의 체해 클럽은 어디인가요' metadata={'source': '2tg57Svu3UU', 'title': '챔피언스리그 진출 클럽!! 레전드 빅 매치 탄생!!', 'description': 'Unknown', 'view_count': 3479, 'thumbnail_url': 'https://i.ytimg.com/vi/2tg57Svu3UU/hq720.jpg', 'publish_date': '2024-08-29 00:00:00', 'length': 100, 'author': '포츠맨'}\n",
      "{'source': '2tg57Svu3UU', 'title': '챔피언스리그 진출 클럽!! 레전드 빅 매치 탄생!!', 'description': 'Unknown', 'view_count': 3479, 'thumbnail_url': 'https://i.ytimg.com/vi/2tg57Svu3UU/hq720.jpg', 'publish_date': '2024-08-29 00:00:00', 'length': 100, 'author': '포츠맨'}\n"
     ]
    }
   ],
   "source": [
    "from langchain_community.document_loaders import YoutubeLoader\n",
    "# langchain에서 자막을 추출하는 기능 지원\n",
    "# 자막을 포함한 동영상 정보를 가져오기\n",
    "loader = YoutubeLoader.from_youtube_url(\n",
    "    url_list[0], \n",
    "    add_video_info=True,\n",
    "    language=[\"ko\", \"en\"],\n",
    "    translation=\"ko\",\n",
    ")\n",
    "\n",
    "docs = loader.load()\n",
    "print(len(docs))\n",
    "print(docs[0])\n",
    "print(docs[0].metadata)"
   ]
  },
  {
   "cell_type": "code",
   "execution_count": 16,
   "metadata": {},
   "outputs": [
    {
     "name": "stdout",
     "output_type": "stream",
     "text": [
      "1\n",
      "page_content='이번 시즌부터 챔스 대회 운영 방식이 개편되면서 기존 32개 클럽에서 36개의 클럽으로 확대되었고 이웃 더욱 재미있어질 거라고 예상되는 24 25 시즌 챔스 조추첨 결과에 대해 알아보자 포트 1 잉글랜드 프리미어 리그 맨체스터 시티 독일 군대스리가 바이에르 미는 스페인라리가 레알 마드리드 프랑스 리가 파리생제르만 잉글랜드 프리미어 리그 리버풀 이탈리아 세리의 인터밀란 독일 분데스리가 도르트문트 독일 분데스리가 라이프비 스페 라리가 바르셀로나 포트 독일 분데스리가 바이언 공사 레보 데드 스테라 리가 아틀레티코 마드리드 이탈리아 세리의 a 아틀란다 이탈리아 세리의 a 유벤투스 포르투갈 프리메이라리가 벤피카 잉글랜드 프리미어 리그 아스날 벨기에 프리그 클럽 프레 우크라이나 프리미어 리그 샤타 도네츠 이탈리아 세리의 a 밀란 포트 3 네덜란드에 레디 BC 페에 노르드 포르투가 프리메이라리가 스포르팅 리스본 네덜란드 ldbc psv 인벤 크로아티아 프로리그 디나모 자그레브 오스트리아 스리가 즈루 프랑스 리그 앙리 세르비아 수리가 츠르베나 즈베즈다 스위스 슈퍼리그 영보이즈 스코트랜드 프리미어리그 셀틱 포트 4 슬로바키아 스리가 슬로반 브라티슬라바 프랑스리그 AS 모나고 체스카 포트발 로바 리가 스파르타 프라 잉글랜드 프리미어리그 아스톤빌라 이탈리아 세리의 a 볼로나 스페인라리가 지로나 독일 분데스리가 슈트가르트 오스트리아 분데스리가 슈트 그라스 프랑스 리그 스타드 브레스 이렇게 챔피언스 리그 조추 처음 결과 각 팀별 포트 1 포트 2 포트 3 포트 4 경기가 확정이 되면서 과연 36개의 클럽 중 16강으로 올라가게 돼 자신의 체해 클럽은 어디인가요' metadata={'source': '2tg57Svu3UU', 'title': '챔피언스리그 진출 클럽!! 레전드 빅 매치 탄생!!', 'description': 'Unknown', 'view_count': 3692, 'thumbnail_url': 'https://i.ytimg.com/vi/2tg57Svu3UU/hq720.jpg', 'publish_date': '2024-08-29 00:00:00', 'length': 100, 'author': '포츠맨'}\n"
     ]
    }
   ],
   "source": [
    "# 함수를 정의\n",
    "def get_youtube_video_transcript(url):\n",
    "    \"\"\"\n",
    "    YouTube 동영상의 자막을 가져오는 함수\n",
    "    Args:\n",
    "        url (str): YouTube 동영상 URL\n",
    "    Returns:\n",
    "        Document: 동영상 자막 정보 객체\n",
    "    \"\"\"\n",
    "    loader = YoutubeLoader.from_youtube_url(\n",
    "        url,\n",
    "        add_video_info=True,\n",
    "        language=[\"ko\", \"en\"],\n",
    "        translation=\"ko\",\n",
    "    )\n",
    "\n",
    "    docs = loader.load()\n",
    "    return docs\n",
    "\n",
    "# 함수 실행\n",
    "docs = get_youtube_video_transcript(url_list[0])\n",
    "print(len(docs))\n",
    "print(docs[0])"
   ]
  },
  {
   "cell_type": "markdown",
   "metadata": {},
   "source": [
    "# create_extraction_chain 활용하여 요약, 추출"
   ]
  },
  {
   "cell_type": "code",
   "execution_count": 65,
   "metadata": {},
   "outputs": [],
   "source": [
    "import os\n",
    "from dotenv import load_dotenv\n",
    "\n",
    "load_dotenv()\n",
    "\n",
    "OPENAI_API_KEY = os.environ[\"OPENAI_API_KEY\"]"
   ]
  },
  {
   "cell_type": "code",
   "execution_count": 18,
   "metadata": {},
   "outputs": [
    {
     "data": {
      "text/plain": [
       "Document(page_content='이번 시즌부터 챔스 대회 운영 방식이 개편되면서 기존 32개 클럽에서 36개의 클럽으로 확대되었고 이웃 더욱 재미있어질 거라고 예상되는 24 25 시즌 챔스 조추첨 결과에 대해 알아보자 포트 1 잉글랜드 프리미어 리그 맨체스터 시티 독일 군대스리가 바이에르 미는 스페인라리가 레알 마드리드 프랑스 리가 파리생제르만 잉글랜드 프리미어 리그 리버풀 이탈리아 세리의 인터밀란 독일 분데스리가 도르트문트 독일 분데스리가 라이프비 스페 라리가 바르셀로나 포트 독일 분데스리가 바이언 공사 레보 데드 스테라 리가 아틀레티코 마드리드 이탈리아 세리의 a 아틀란다 이탈리아 세리의 a 유벤투스 포르투갈 프리메이라리가 벤피카 잉글랜드 프리미어 리그 아스날 벨기에 프리그 클럽 프레 우크라이나 프리미어 리그 샤타 도네츠 이탈리아 세리의 a 밀란 포트 3 네덜란드에 레디 BC 페에 노르드 포르투가 프리메이라리가 스포르팅 리스본 네덜란드 ldbc psv 인벤 크로아티아 프로리그 디나모 자그레브 오스트리아 스리가 즈루 프랑스 리그 앙리 세르비아 수리가 츠르베나 즈베즈다 스위스 슈퍼리그 영보이즈 스코트랜드 프리미어리그 셀틱 포트 4 슬로바키아 스리가 슬로반 브라티슬라바 프랑스리그 AS 모나고 체스카 포트발 로바 리가 스파르타 프라 잉글랜드 프리미어리그 아스톤빌라 이탈리아 세리의 a 볼로나 스페인라리가 지로나 독일 분데스리가 슈트가르트 오스트리아 분데스리가 슈트 그라스 프랑스 리그 스타드 브레스 이렇게 챔피언스 리그 조추 처음 결과 각 팀별 포트 1 포트 2 포트 3 포트 4 경기가 확정이 되면서 과연 36개의 클럽 중 16강으로 올라가게 돼 자신의 체해 클럽은 어디인가요', metadata={'source': '2tg57Svu3UU', 'title': '챔피언스리그 진출 클럽!! 레전드 빅 매치 탄생!!', 'description': 'Unknown', 'view_count': 3692, 'thumbnail_url': 'https://i.ytimg.com/vi/2tg57Svu3UU/hq720.jpg', 'publish_date': '2024-08-29 00:00:00', 'length': 100, 'author': '포츠맨'})"
      ]
     },
     "execution_count": 18,
     "metadata": {},
     "output_type": "execute_result"
    }
   ],
   "source": [
    "docs[0]"
   ]
  },
  {
   "cell_type": "code",
   "execution_count": 21,
   "metadata": {},
   "outputs": [
    {
     "data": {
      "text/plain": [
       "{'input': Document(page_content='이번 시즌부터 챔스 대회 운영 방식이 개편되면서 기존 32개 클럽에서 36개의 클럽으로 확대되었고 이웃 더욱 재미있어질 거라고 예상되는 24 25 시즌 챔스 조추첨 결과에 대해 알아보자 포트 1 잉글랜드 프리미어 리그 맨체스터 시티 독일 군대스리가 바이에르 미는 스페인라리가 레알 마드리드 프랑스 리가 파리생제르만 잉글랜드 프리미어 리그 리버풀 이탈리아 세리의 인터밀란 독일 분데스리가 도르트문트 독일 분데스리가 라이프비 스페 라리가 바르셀로나 포트 독일 분데스리가 바이언 공사 레보 데드 스테라 리가 아틀레티코 마드리드 이탈리아 세리의 a 아틀란다 이탈리아 세리의 a 유벤투스 포르투갈 프리메이라리가 벤피카 잉글랜드 프리미어 리그 아스날 벨기에 프리그 클럽 프레 우크라이나 프리미어 리그 샤타 도네츠 이탈리아 세리의 a 밀란 포트 3 네덜란드에 레디 BC 페에 노르드 포르투가 프리메이라리가 스포르팅 리스본 네덜란드 ldbc psv 인벤 크로아티아 프로리그 디나모 자그레브 오스트리아 스리가 즈루 프랑스 리그 앙리 세르비아 수리가 츠르베나 즈베즈다 스위스 슈퍼리그 영보이즈 스코트랜드 프리미어리그 셀틱 포트 4 슬로바키아 스리가 슬로반 브라티슬라바 프랑스리그 AS 모나고 체스카 포트발 로바 리가 스파르타 프라 잉글랜드 프리미어리그 아스톤빌라 이탈리아 세리의 a 볼로나 스페인라리가 지로나 독일 분데스리가 슈트가르트 오스트리아 분데스리가 슈트 그라스 프랑스 리그 스타드 브레스 이렇게 챔피언스 리그 조추 처음 결과 각 팀별 포트 1 포트 2 포트 3 포트 4 경기가 확정이 되면서 과연 36개의 클럽 중 16강으로 올라가게 돼 자신의 체해 클럽은 어디인가요', metadata={'source': '2tg57Svu3UU', 'title': '챔피언스리그 진출 클럽!! 레전드 빅 매치 탄생!!', 'description': 'Unknown', 'view_count': 3692, 'thumbnail_url': 'https://i.ytimg.com/vi/2tg57Svu3UU/hq720.jpg', 'publish_date': '2024-08-29 00:00:00', 'length': 100, 'author': '포츠맨'}),\n",
       " 'text': [{'팀_이름': '맨체스터 시티',\n",
       "   '소속_리그': '잉글랜드 프리미어 리그',\n",
       "   '포트_번호': '포트 1',\n",
       "   '상대팀_목록': '도르트문트, 레알 마드리드, 파리생제르만'},\n",
       "  {'팀_이름': '리버풀',\n",
       "   '소속_리그': '잉글랜드 프리미어 리그',\n",
       "   '포트_번호': '포트 1',\n",
       "   '상대팀_목록': '도르트문트, 레알 마드리드, 파리생제르만'},\n",
       "  {'팀_이름': '인터밀란',\n",
       "   '소속_리그': '이탈리아 세리의',\n",
       "   '포트_번호': '포트 1',\n",
       "   '상대팀_목록': '도르트문트, 레알 마드리드, 파리생제르만'},\n",
       "  {'팀_이름': '바이에른 미는',\n",
       "   '소속_리그': '독일 군대스리가',\n",
       "   '포트_번호': '포트 1',\n",
       "   '상대팀_목록': '도르트문트, 레알 마드리드, 파리생제르만'},\n",
       "  {'팀_이름': '바르셀로나',\n",
       "   '소속_리그': '스페인라리가',\n",
       "   '포트_번호': '포트 2',\n",
       "   '상대팀_목록': 'PSV, 스포르팅 리스본, 벤피카'},\n",
       "  {'팀_이름': '아틀레티코 마드리드',\n",
       "   '소속_리그': '스페인라리가',\n",
       "   '포트_번호': '포트 2',\n",
       "   '상대팀_목록': 'PSV, 스포르팅 리스본, 벤피카'},\n",
       "  {'팀_이름': '유벤투스',\n",
       "   '소속_리그': '이탈리아 세리의',\n",
       "   '포트_번호': '포트 2',\n",
       "   '상대팀_목록': 'PSV, 스포르팅 리스본, 벤피카'},\n",
       "  {'팀_이름': '아스날',\n",
       "   '소속_리그': '잉글랜드 프리미어 리그',\n",
       "   '포트_번호': '포트 2',\n",
       "   '상대팀_목록': 'PSV, 스포르팅 리스본, 벤피카'},\n",
       "  {'팀_이름': '레디 BC 페에 노르드',\n",
       "   '소속_리그': '네덜란드에',\n",
       "   '포트_번호': '포트 3',\n",
       "   '상대팀_목록': 'AS 모나고, 셀틱, 스파르타 프라'},\n",
       "  {'팀_이름': 'PSV',\n",
       "   '소속_리그': '네덜란드 ldbc',\n",
       "   '포트_번호': '포트 3',\n",
       "   '상대팀_목록': 'AS 모나고, 셀틱, 스파르타 프라'},\n",
       "  {'팀_이름': '스포르팅 리스본',\n",
       "   '소속_리그': '포르투가 프리메이라리가',\n",
       "   '포트_번호': '포트 3',\n",
       "   '상대팀_목록': 'AS 모나고, 셀틱, 스파르타 프라'},\n",
       "  {'팀_이름': '슬로반 브라티슬라바',\n",
       "   '소속_리그': '슬로바키아 스리가',\n",
       "   '포트_번호': '포트 4',\n",
       "   '상대팀_목록': 'AS 모나고, 셀틱, 스파르타 프라'}]}"
      ]
     },
     "execution_count": 21,
     "metadata": {},
     "output_type": "execute_result"
    }
   ],
   "source": [
    "from langchain.chains import create_extraction_chain\n",
    "from langchain_openai import ChatOpenAI\n",
    "from langchain_core.prompts import ChatPromptTemplate\n",
    "\n",
    "# 스키마 정의\n",
    "schema = {\n",
    "    \"properties\": {\n",
    "        \"팀_이름\": {\"type\": \"string\"},\n",
    "        \"소속_리그\": {\"type\": \"string\"},\n",
    "        \"포트_번호\": {\"type\": \"string\"},\n",
    "        \"상대팀_목록\": {\"type\": \"string\"},\n",
    "    },\n",
    "    \"required\": [\"팀_이름\", \"소속_리그\", \"포트_번호\", \"상대팀_목록\"],\n",
    "}\n",
    "\n",
    "\n",
    "# Chain 생성\n",
    "prompt_template = \"\"\"Extract and save the relevant entities mentioned \\\n",
    "in the following passage together with their properties. \n",
    "Only extract the properties mentioned in the 'information_extraction' function. \\\n",
    "When no suitable data is present, show the default value 'N/A'.\n",
    "\n",
    "Passage:\n",
    "{input}\n",
    "\"\"\" \n",
    "\n",
    "prompt = ChatPromptTemplate.from_template(prompt_template)\n",
    "llm = ChatOpenAI(temperature=0, model_name=\"gpt-3.5-turbo-0125\", api_key=OPENAI_API_KEY)\n",
    "chain = create_extraction_chain(schema=schema, llm=llm, prompt=prompt)\n",
    "\n",
    "# Chain 실행\n",
    "response = chain.invoke(docs[0])\n",
    "\n",
    "# 결과 확인\n",
    "response"
   ]
  },
  {
   "cell_type": "code",
   "execution_count": 22,
   "metadata": {},
   "outputs": [
    {
     "data": {
      "text/html": [
       "<div>\n",
       "<style scoped>\n",
       "    .dataframe tbody tr th:only-of-type {\n",
       "        vertical-align: middle;\n",
       "    }\n",
       "\n",
       "    .dataframe tbody tr th {\n",
       "        vertical-align: top;\n",
       "    }\n",
       "\n",
       "    .dataframe thead th {\n",
       "        text-align: right;\n",
       "    }\n",
       "</style>\n",
       "<table border=\"1\" class=\"dataframe\">\n",
       "  <thead>\n",
       "    <tr style=\"text-align: right;\">\n",
       "      <th></th>\n",
       "      <th>팀_이름</th>\n",
       "      <th>소속_리그</th>\n",
       "      <th>포트_번호</th>\n",
       "      <th>상대팀_목록</th>\n",
       "    </tr>\n",
       "  </thead>\n",
       "  <tbody>\n",
       "    <tr>\n",
       "      <th>0</th>\n",
       "      <td>맨체스터 시티</td>\n",
       "      <td>잉글랜드 프리미어 리그</td>\n",
       "      <td>포트 1</td>\n",
       "      <td>도르트문트, 레알 마드리드, 파리생제르만</td>\n",
       "    </tr>\n",
       "    <tr>\n",
       "      <th>1</th>\n",
       "      <td>리버풀</td>\n",
       "      <td>잉글랜드 프리미어 리그</td>\n",
       "      <td>포트 1</td>\n",
       "      <td>도르트문트, 레알 마드리드, 파리생제르만</td>\n",
       "    </tr>\n",
       "    <tr>\n",
       "      <th>2</th>\n",
       "      <td>인터밀란</td>\n",
       "      <td>이탈리아 세리의</td>\n",
       "      <td>포트 1</td>\n",
       "      <td>도르트문트, 레알 마드리드, 파리생제르만</td>\n",
       "    </tr>\n",
       "    <tr>\n",
       "      <th>3</th>\n",
       "      <td>바이에른 미는</td>\n",
       "      <td>독일 군대스리가</td>\n",
       "      <td>포트 1</td>\n",
       "      <td>도르트문트, 레알 마드리드, 파리생제르만</td>\n",
       "    </tr>\n",
       "    <tr>\n",
       "      <th>4</th>\n",
       "      <td>바르셀로나</td>\n",
       "      <td>스페인라리가</td>\n",
       "      <td>포트 2</td>\n",
       "      <td>PSV, 스포르팅 리스본, 벤피카</td>\n",
       "    </tr>\n",
       "  </tbody>\n",
       "</table>\n",
       "</div>"
      ],
      "text/plain": [
       "      팀_이름         소속_리그 포트_번호                  상대팀_목록\n",
       "0  맨체스터 시티  잉글랜드 프리미어 리그  포트 1  도르트문트, 레알 마드리드, 파리생제르만\n",
       "1      리버풀  잉글랜드 프리미어 리그  포트 1  도르트문트, 레알 마드리드, 파리생제르만\n",
       "2     인터밀란      이탈리아 세리의  포트 1  도르트문트, 레알 마드리드, 파리생제르만\n",
       "3  바이에른 미는      독일 군대스리가  포트 1  도르트문트, 레알 마드리드, 파리생제르만\n",
       "4    바르셀로나        스페인라리가  포트 2      PSV, 스포르팅 리스본, 벤피카"
      ]
     },
     "execution_count": 22,
     "metadata": {},
     "output_type": "execute_result"
    }
   ],
   "source": [
    "# 결과를 판다스 데이터프레임으로 변환\n",
    "df = pd.DataFrame(response['text'])\n",
    "df.head()"
   ]
  },
  {
   "cell_type": "code",
   "execution_count": 25,
   "metadata": {},
   "outputs": [],
   "source": [
    "# 전체 동영상에 대해 자막을 추출하고 엔티티를 추출\n",
    "def extract_entities_from_youtube_videos(url_list):\n",
    "    \"\"\"\n",
    "    YouTube 동영상의 자막을 가져와 엔티티를 추출하는 함수\n",
    "    Args:\n",
    "        url_list (list): YouTube 동영상 URL 리스트\n",
    "    Returns:\n",
    "        pd.DataFrame: 엔티티 추출 결과\n",
    "    \"\"\"\n",
    "    # 스키마 정의\n",
    "    schema = {\n",
    "        \"properties\": {\n",
    "            \"팀_이름\": {\"type\": \"string\"},\n",
    "            \"소속_리그\": {\"type\": \"string\"},\n",
    "            \"포트_번호\": {\"type\": \"string\"},\n",
    "            \"상대팀_목록\": {\"type\": \"string\"},\n",
    "        },\n",
    "    \"required\": [\"팀_이름\", \"소속_리그\", \"포트_번호\", \"상대팀_목록\"],\n",
    "}\n",
    "\n",
    "\n",
    "    # Chain 생성\n",
    "    prompt_template = \"\"\"Extract and save the relevant entities mentioned \\\n",
    "    in the following passage together with their properties. \n",
    "    Only extract the properties mentioned in the 'information_extraction' function. \\\n",
    "    When no suitable data is present, show the default value 'N/A'.\n",
    "\n",
    "    Passage:\n",
    "    {input}\n",
    "    \"\"\" \n",
    "\n",
    "    prompt = ChatPromptTemplate.from_template(prompt_template)\n",
    "    llm = ChatOpenAI(temperature=0, model_name=\"gpt-3.5-turbo-0125\", api_key=OPENAI_API_KEY)\n",
    "    chain = create_extraction_chain(schema=schema, llm=llm, prompt=prompt)\n",
    "\n",
    "    # 결과를 저장할 데이터프레임 생성\n",
    "    df = pd.DataFrame()\n",
    "\n",
    "    for url in url_list:\n",
    "        # 동영상 자막 가져오기\n",
    "        docs = get_youtube_video_transcript(url)\n",
    "\n",
    "        # Chain 실행\n",
    "        response = chain.invoke(docs[0])\n",
    "\n",
    "        # 결과를 데이터프레임으로 변환\n",
    "        df = pd.concat([df, pd.DataFrame(response['text'])])\n",
    "\n",
    "    return df"
   ]
  },
  {
   "cell_type": "code",
   "execution_count": 26,
   "metadata": {},
   "outputs": [
    {
     "data": {
      "text/html": [
       "<div>\n",
       "<style scoped>\n",
       "    .dataframe tbody tr th:only-of-type {\n",
       "        vertical-align: middle;\n",
       "    }\n",
       "\n",
       "    .dataframe tbody tr th {\n",
       "        vertical-align: top;\n",
       "    }\n",
       "\n",
       "    .dataframe thead th {\n",
       "        text-align: right;\n",
       "    }\n",
       "</style>\n",
       "<table border=\"1\" class=\"dataframe\">\n",
       "  <thead>\n",
       "    <tr style=\"text-align: right;\">\n",
       "      <th></th>\n",
       "      <th>팀_이름</th>\n",
       "      <th>소속_리그</th>\n",
       "      <th>포트_번호</th>\n",
       "      <th>상대팀_목록</th>\n",
       "    </tr>\n",
       "  </thead>\n",
       "  <tbody>\n",
       "    <tr>\n",
       "      <th>0</th>\n",
       "      <td>맨체스터 시티</td>\n",
       "      <td>잉글랜드 프리미어 리그</td>\n",
       "      <td>포트 1</td>\n",
       "      <td>도르트문트, 라이프비, 바이언 공사, 레보 데드</td>\n",
       "    </tr>\n",
       "    <tr>\n",
       "      <th>1</th>\n",
       "      <td>레알 마드리드</td>\n",
       "      <td>스페인 라리가</td>\n",
       "      <td>포트 1</td>\n",
       "      <td>파리생제르만, 바르셀로나, 아틀레티코 마드리드</td>\n",
       "    </tr>\n",
       "    <tr>\n",
       "      <th>2</th>\n",
       "      <td>인터밀란</td>\n",
       "      <td>이탈리아 세리의</td>\n",
       "      <td>포트 1</td>\n",
       "      <td>밀란, 유벤투스, 볼로나</td>\n",
       "    </tr>\n",
       "    <tr>\n",
       "      <th>3</th>\n",
       "      <td>벤피카</td>\n",
       "      <td>포르투갈 프리메이라리가</td>\n",
       "      <td>포트 2</td>\n",
       "      <td>아스날, 샤타 도네츠, 스포르팅 리스본</td>\n",
       "    </tr>\n",
       "    <tr>\n",
       "      <th>4</th>\n",
       "      <td>PSV 인벤</td>\n",
       "      <td>네덜란드 ldbc</td>\n",
       "      <td>포트 3</td>\n",
       "      <td>레디 BC, 프레 우크라이나, 디나모 자그레브</td>\n",
       "    </tr>\n",
       "    <tr>\n",
       "      <th>5</th>\n",
       "      <td>AS 모나고</td>\n",
       "      <td>프랑스리그</td>\n",
       "      <td>포트 4</td>\n",
       "      <td>AS 모나고, 스파르타 프라, 아스톤빌라</td>\n",
       "    </tr>\n",
       "    <tr>\n",
       "      <th>0</th>\n",
       "      <td>토트넘</td>\n",
       "      <td>N/A</td>\n",
       "      <td>N/A</td>\n",
       "      <td>N/A</td>\n",
       "    </tr>\n",
       "    <tr>\n",
       "      <th>1</th>\n",
       "      <td>아약스</td>\n",
       "      <td>N/A</td>\n",
       "      <td>N/A</td>\n",
       "      <td>N/A</td>\n",
       "    </tr>\n",
       "    <tr>\n",
       "      <th>2</th>\n",
       "      <td>페르트</td>\n",
       "      <td>N/A</td>\n",
       "      <td>N/A</td>\n",
       "      <td>N/A</td>\n",
       "    </tr>\n",
       "    <tr>\n",
       "      <th>3</th>\n",
       "      <td>바이에른 뮌헨</td>\n",
       "      <td>N/A</td>\n",
       "      <td>N/A</td>\n",
       "      <td>N/A</td>\n",
       "    </tr>\n",
       "    <tr>\n",
       "      <th>4</th>\n",
       "      <td>아스날</td>\n",
       "      <td>N/A</td>\n",
       "      <td>N/A</td>\n",
       "      <td>N/A</td>\n",
       "    </tr>\n",
       "    <tr>\n",
       "      <th>5</th>\n",
       "      <td>인터밀란</td>\n",
       "      <td>N/A</td>\n",
       "      <td>N/A</td>\n",
       "      <td>N/A</td>\n",
       "    </tr>\n",
       "    <tr>\n",
       "      <th>6</th>\n",
       "      <td>AC 밀란</td>\n",
       "      <td>N/A</td>\n",
       "      <td>N/A</td>\n",
       "      <td>N/A</td>\n",
       "    </tr>\n",
       "    <tr>\n",
       "      <th>7</th>\n",
       "      <td>셀틱</td>\n",
       "      <td>N/A</td>\n",
       "      <td>N/A</td>\n",
       "      <td>N/A</td>\n",
       "    </tr>\n",
       "    <tr>\n",
       "      <th>8</th>\n",
       "      <td>아스톤 빌라</td>\n",
       "      <td>N/A</td>\n",
       "      <td>N/A</td>\n",
       "      <td>N/A</td>\n",
       "    </tr>\n",
       "  </tbody>\n",
       "</table>\n",
       "</div>"
      ],
      "text/plain": [
       "      팀_이름         소속_리그 포트_번호                      상대팀_목록\n",
       "0  맨체스터 시티  잉글랜드 프리미어 리그  포트 1  도르트문트, 라이프비, 바이언 공사, 레보 데드\n",
       "1  레알 마드리드       스페인 라리가  포트 1   파리생제르만, 바르셀로나, 아틀레티코 마드리드\n",
       "2     인터밀란      이탈리아 세리의  포트 1               밀란, 유벤투스, 볼로나\n",
       "3      벤피카  포르투갈 프리메이라리가  포트 2       아스날, 샤타 도네츠, 스포르팅 리스본\n",
       "4   PSV 인벤     네덜란드 ldbc  포트 3   레디 BC, 프레 우크라이나, 디나모 자그레브\n",
       "5   AS 모나고         프랑스리그  포트 4      AS 모나고, 스파르타 프라, 아스톤빌라\n",
       "0      토트넘           N/A   N/A                         N/A\n",
       "1      아약스           N/A   N/A                         N/A\n",
       "2      페르트           N/A   N/A                         N/A\n",
       "3  바이에른 뮌헨           N/A   N/A                         N/A\n",
       "4      아스날           N/A   N/A                         N/A\n",
       "5     인터밀란           N/A   N/A                         N/A\n",
       "6    AC 밀란           N/A   N/A                         N/A\n",
       "7       셀틱           N/A   N/A                         N/A\n",
       "8   아스톤 빌라           N/A   N/A                         N/A"
      ]
     },
     "execution_count": 26,
     "metadata": {},
     "output_type": "execute_result"
    }
   ],
   "source": [
    "df = extract_entities_from_youtube_videos(url_list[:2])\n",
    "df"
   ]
  },
  {
   "cell_type": "markdown",
   "metadata": {},
   "source": [
    "# 유튜브 동영상 댓글 분석\n",
    "삼성 SDS 채널 구독 이벤트   \n",
    "https://www.youtube.com/watch?v=j_EciRV3V1k&t=15s"
   ]
  },
  {
   "cell_type": "markdown",
   "metadata": {},
   "source": [
    "## 댓글 데이터 크롤링으로 수집"
   ]
  },
  {
   "cell_type": "code",
   "execution_count": 5,
   "metadata": {},
   "outputs": [],
   "source": [
    "# 삼성 SDS 채널 구독 이벤트 \n",
    "\n",
    "url = \"https://www.youtube.com/watch?v=j_EciRV3V1k&t=15s\""
   ]
  },
  {
   "cell_type": "code",
   "execution_count": 11,
   "metadata": {},
   "outputs": [],
   "source": [
    "# Seleium 드라이버 생성\n",
    "from selenium import webdriver\n",
    "from selenium.webdriver.chrome.service import Service\n",
    "from webdriver_manager.chrome import ChromeDriverManager\n",
    "\n",
    "from selenium.webdriver.common.keys import Keys\n",
    "from selenium.webdriver.common.by import By\n",
    "\n",
    "from bs4 import BeautifulSoup\n",
    "import time\n",
    "import random\n",
    "\n",
    "# Chrome 옵션 설정\n",
    "options = webdriver.ChromeOptions()\n",
    "# options.add_argument('--headless')  \n",
    "\n",
    "# 드라이버 서비스 생성\n",
    "service = Service()\n",
    "\n",
    "# 웹 드라이버 초기화\n",
    "driver = webdriver.Chrome(service=service, options=options)\n",
    "\n",
    "# 윈도우 크기 설정\n",
    "driver.set_window_size(800, 600)\n",
    "\n",
    "# URL 접속하여 실행\n",
    "driver.implicitly_wait(5)\n",
    "driver.get(url)\n",
    "\n",
    "# 팝업의 '아니요' 버튼을 클릭하여 닫기\n",
    "try:\n",
    "    dismiss_button = driver.find_element(By.CSS_SELECTOR, \"#dismiss-button button\")\n",
    "    dismiss_button.click()\n",
    "except:\n",
    "    pass "
   ]
  },
  {
   "cell_type": "code",
   "execution_count": 12,
   "metadata": {},
   "outputs": [
    {
     "name": "stdout",
     "output_type": "stream",
     "text": [
      "2858\n"
     ]
    }
   ],
   "source": [
    "# 현재 페이지 높이\n",
    "current_page_height = driver.execute_script(\"return document.documentElement.scrollHeight\") \n",
    "print(current_page_height)\n",
    "\n",
    "\n",
    "# 스크롤 다운\n",
    "while current_page_height < 100000: \n",
    "    \n",
    "    driver.execute_script(f\"window.scrollTo({current_page_height}, {current_page_height + 10000});\") \n",
    "    time.sleep(random.randint(1, 4))\n",
    "    body = driver.find_element(By.CSS_SELECTOR, 'body')\n",
    "    body.send_keys(Keys.PAGE_DOWN)\n",
    "    time.sleep(random.randint(1, 4))\n",
    "    \n",
    "    scrolled_page_height = driver.execute_script(\"return document.documentElement.scrollHeight\")  \n",
    "    if scrolled_page_height == current_page_height: \n",
    "        break\n",
    "    current_page_height = driver.execute_script(\"return document.documentElement.scrollHeight\")     \n"
   ]
  },
  {
   "cell_type": "code",
   "execution_count": 13,
   "metadata": {},
   "outputs": [
    {
     "name": "stdout",
     "output_type": "stream",
     "text": [
      "445\n",
      "<ytd-comment-thread-renderer class=\"style-scope ytd-item-section-renderer\"><!--css-build:shady--><!--css-build:shady--><dom-if class=\"style-scope ytd-comment-thread-renderer\"><template is=\"dom-if\"></template></dom-if>\n",
      "<ytd-comment-view-model class=\"style-scope ytd-comment-thread-renderer\" id=\"comment\" style=\"--ytd-comment-paid-background-color: initial;\"><!--css-build:shady--><!--css-build:shady--><div class=\"style-scope ytd-comment-view-model\" id=\"paid-comment-background\"></div>\n",
      "<div class=\"style-scope ytd-comment-view-model\" id=\"linked-comment-badge\"></div>\n",
      "<div class=\"style-scope ytd-comment-view-model\" id=\"body\">\n",
      "<div class=\"style-scope ytd-comment-view-model\" id=\"author-thumbnail\">\n",
      "<a aria-label=\"@user-li3hn3lw6q\" class=\"yt-simple-endpoint style-scope ytd-comment-view-model\" href=\"/@user-li3hn3lw6q\" role=\"button\">\n",
      "<yt-img-shadow class=\"style-scope ytd-comment-view-model no-transition\" fit=\"\" height=\"40\" loaded=\"\" style=\"background-color: transparent;\" width=\"40\"><!--css-build:shady--><!--css-build:shady--><img alt=\"\" class=\"style-scope yt-img-shadow\" draggable=\"false\" height=\"40\" id=\"img\" src=\"https://yt3.ggpht.com/OwqfHZTNg8o_3bkDkJZwGG5iJfef6rqPGkUf1eYM1oom1KlSAWhRbEaRsZV5wgy9mI0W1Omg=s88-c-k-c0x00ffffff-no-rj\" width=\"40\"/></yt-img-shadow>\n",
      "</a>\n",
      "</div>\n",
      "<div class=\"style-scope ytd-comment-view-model\" id=\"main\">\n",
      "<div class=\"style-scope ytd-comment-view-model\" id=\"header\">\n",
      "<div class=\"style-scope ytd-comment-view-model\" id=\"pinned-comment-badge\"></div>\n",
      "<div class=\"style-scope ytd-comment-view-model\" id=\"header-author\">\n",
      "<h3 class=\"style-scope ytd-comment-view-model\">\n",
      "<a class=\"yt-simple-endpoint style-scope ytd-comment-view-model\" href=\"/@user-li3hn3lw6q\" id=\"author-text\">\n",
      "<span class=\"style-scope ytd-comment-view-model style-scope ytd-comment-view-model\">\n",
      "              @user-li3hn3lw6q\n",
      "            </span>\n",
      "</a>\n",
      "</h3>\n",
      "<span class=\"style-scope ytd-comment-view-model\" id=\"author-comment-badge\"></span>\n",
      "<span class=\"style-scope ytd-comment-view-model\" id=\"sponsor-comment-badge\"></span>\n",
      "<span class=\"style-scope ytd-comment-view-model\" dir=\"auto\" id=\"published-time-text\">\n",
      "<a class=\"yt-simple-endpoint style-scope ytd-comment-view-model\" href=\"/watch?v=j_EciRV3V1k&amp;lc=UgziOn37H2aTUj7UqmJ4AaABAg\">\n",
      "            6개월 전\n",
      "          </a>\n",
      "</span>\n",
      "</div>\n",
      "</div>\n",
      "<ytd-expander class=\"style-scope ytd-comment-view-model\" collapsed=\"\" id=\"expander\" max-number-of-lines=\"4\" should-use-number-of-lines=\"\" style=\"--ytd-expander-max-lines: 4;\"><!--css-build:shady--><!--css-build:shady--><div class=\"style-scope ytd-expander\" id=\"content\">\n",
      "<yt-pdg-comment-chip-renderer class=\"style-scope ytd-comment-view-model\" hidden=\"\" id=\"paid-comment-chip\" slot=\"content\"><!--css-build:shady--><!--css-build:shady--><div class=\"style-scope yt-pdg-comment-chip-renderer\" id=\"comment-chip-container\"><yt-icon class=\"style-scope yt-pdg-comment-chip-renderer\"><!--css-build:shady--><!--css-build:shady--></yt-icon><span class=\"style-scope yt-pdg-comment-chip-renderer\" id=\"comment-chip-price\"> </span></div></yt-pdg-comment-chip-renderer><yt-attributed-string class=\"style-scope ytd-comment-view-model\" id=\"content-text\" slot=\"content\" user-input=\"\"><span class=\"yt-core-attributed-string yt-core-attributed-string--white-space-pre-wrap\" dir=\"auto\">AI의 능력을 모두의 능력으로 만드는 기업 하이퍼오토메이션 엑셀레이터 <span class=\"yt-core-attributed-string--inline-block-mod\" style=\"margin-left: 2px; margin-right: 2px;\"><img alt=\"\" class=\"yt-core-image yt-core-attributed-string__image-element yt-core-attributed-string__image-element--image-alignment-vertical-center yt-core-image--content-mode-scale-to-fill\" style=\"height: 16px; width: 16px;\"/></span>\n",
      "삼성SDS ' AI시대 오피스&amp;라이프 즐겁고 흥미롭게 잘 보았습니다 ^^\n",
      "<span class=\"\" dir=\"auto\" style=\"font-weight: 400;\"><a class=\"yt-core-attributed-string__link yt-core-attributed-string__link--call-to-action-color\" force-new-state=\"true\" href=\"/hashtag/%EC%82%BC%EC%84%B1sds\" tabindex=\"0\" target=\"\">#삼성SDS</a></span> 2024년 새해에는 부디 꽃길만 걸으시고, 소망하시는 모든 일이 이루이 지시기를 진심으로 바라고 응원합니다.\n",
      "앞으로도 다양한 연령층에서, 더더욱 많은 분들에게 사랑받으시길 응원합니다.\n",
      "그리고 더욱더 친근하고 신뢰가는 모습으로, 서로가 더 많이 교류하면서 자주 소통하는 사이가 되기를 바래봅니다.\n",
      "또한, 지금처럼 저희들에게 유용하고 알찬 정보 많이많이 전해주시길 부탁드리고, 그 수고에 항상 감사드립니다.</span></yt-attributed-string>\n",
      "</div>\n",
      "<tp-yt-paper-button animated=\"\" aria-disabled=\"false\" aria-expanded=\"true\" class=\"style-scope ytd-expander\" elevation=\"0\" hidden=\"\" id=\"less\" noink=\"\" role=\"button\" style-target=\"host\" tabindex=\"0\"><!--css-build:shady-->\n",
      "<span class=\"less-button style-scope ytd-comment-view-model\" slot=\"less-button\">간략히</span>\n",
      "</tp-yt-paper-button>\n",
      "<tp-yt-paper-button animated=\"\" aria-disabled=\"false\" aria-expanded=\"false\" class=\"style-scope ytd-expander\" elevation=\"0\" id=\"more\" noink=\"\" role=\"button\" style-target=\"host\" tabindex=\"0\"><!--css-build:shady-->\n",
      "<span class=\"more-button style-scope ytd-comment-view-model\" slot=\"more-button\">자세히 보기</span>\n",
      "</tp-yt-paper-button>\n",
      "</ytd-expander>\n",
      "<ytd-tri-state-button-view-model class=\"translate-button style-scope ytd-comment-view-model\" hidden=\"\" state=\"untoggled\"><!--css-build:shady--><!--css-build:shady--><tp-yt-paper-button animated=\"\" aria-disabled=\"false\" class=\"style-scope ytd-tri-state-button-view-model\" elevation=\"0\" noink=\"\" role=\"button\" style-target=\"host\" tabindex=\"0\"><!--css-build:shady-->\n",
      "</tp-yt-paper-button></ytd-tri-state-button-view-model>\n",
      "<ytd-comment-engagement-bar class=\"style-scope ytd-comment-view-model\" id=\"action-buttons\"><!--css-build:shady--><!--css-build:shady--><div class=\"style-scope ytd-comment-engagement-bar\" id=\"toolbar\">\n",
      "<ytd-toggle-button-renderer button-renderer=\"true\" button-tooltip-position=\"bottom\" class=\"style-scope ytd-comment-engagement-bar\" icon-size=\"16\" id=\"like-button\"><!--css-build:shady--><yt-button-shape><a aria-current=\"false\" aria-label=\"나와 사용자 1명이 이 댓글을 좋아함\" class=\"yt-spec-button-shape-next yt-spec-button-shape-next--text yt-spec-button-shape-next--mono yt-spec-button-shape-next--size-s yt-spec-button-shape-next--icon-button yt-spec-button-shape-next--override-small-size-icon\" force-new-state=\"true\" href=\"https://accounts.google.com/ServiceLogin?service=youtube&amp;uilel=3&amp;passive=true&amp;continue=https%3A%2F%2Fwww.youtube.com%2Fsignin%3Faction_handle_signin%3Dtrue%26app%3Ddesktop%26hl%3Dko%26next%3D%252Fwatch%253Fv%253Dj_EciRV3V1k&amp;hl=ko\" rel=\"nofollow\" style=\"\" target=\"\" title=\"\"><div aria-hidden=\"true\" class=\"yt-spec-button-shape-next__icon\"><yt-icon style=\"width: 24px; height: 24px;\"><!--css-build:shady--><!--css-build:shady--><span class=\"yt-icon-shape yt-spec-icon-shape\"><div style=\"width: 100%; height: 100%; display: block; fill: currentcolor;\"><svg aria-hidden=\"true\" enable-background=\"new 0 0 24 24\" focusable=\"false\" height=\"24\" style=\"pointer-events: none; display: inherit; width: 100%; height: 100%;\" viewbox=\"0 0 24 24\" width=\"24\" xmlns=\"http://www.w3.org/2000/svg\"><path d=\"M18.77,11h-4.23l1.52-4.94C16.38,5.03,15.54,4,14.38,4c-0.58,0-1.14,0.24-1.52,0.65L7,11H3v10h4h1h9.43 c1.06,0,1.98-0.67,2.19-1.61l1.34-6C21.23,12.15,20.18,11,18.77,11z M7,20H4v-8h3V20z M19.98,13.17l-1.34,6 C18.54,19.65,18.03,20,17.43,20H8v-8.61l5.6-6.06C13.79,5.12,14.08,5,14.38,5c0.26,0,0.5,0.11,0.63,0.3 c0.07,0.1,0.15,0.26,0.09,0.47l-1.52,4.94L13.18,12h1.35h4.23c0.41,0,0.8,0.17,1.03,0.46C19.92,12.61,20.05,12.86,19.98,13.17z\"></path></svg></div></span></yt-icon></div><yt-touch-feedback-shape style=\"border-radius: inherit;\"><div aria-hidden=\"true\" class=\"yt-spec-touch-feedback-shape yt-spec-touch-feedback-shape--touch-response\"><div class=\"yt-spec-touch-feedback-shape__stroke\" style=\"\"></div><div class=\"yt-spec-touch-feedback-shape__fill\" style=\"\"></div></div></yt-touch-feedback-shape></a></yt-button-shape>\n",
      "<tp-yt-paper-tooltip fit-to-visible-bounds=\"\" offset=\"8\" role=\"tooltip\" tabindex=\"-1\"><!--css-build:shady--><div class=\"hidden style-scope tp-yt-paper-tooltip\" id=\"tooltip\" style-target=\"tooltip\">\n",
      "  좋아요\n",
      "</div>\n",
      "</tp-yt-paper-tooltip>\n",
      "</ytd-toggle-button-renderer>\n",
      "<span class=\"style-scope ytd-comment-engagement-bar\" id=\"vote-count-middle\">\n",
      "    1\n",
      "  </span>\n",
      "<ytd-toggle-button-renderer button-renderer=\"true\" button-tooltip-position=\"bottom\" class=\"style-scope ytd-comment-engagement-bar\" icon-size=\"16\" id=\"dislike-button\"><!--css-build:shady--><yt-button-shape><a aria-current=\"false\" aria-label=\"댓글 싫어요 표시\" class=\"yt-spec-button-shape-next yt-spec-button-shape-next--text yt-spec-button-shape-next--mono yt-spec-button-shape-next--size-s yt-spec-button-shape-next--icon-button yt-spec-button-shape-next--override-small-size-icon\" force-new-state=\"true\" href=\"https://accounts.google.com/ServiceLogin?service=youtube&amp;uilel=3&amp;passive=true&amp;continue=https%3A%2F%2Fwww.youtube.com%2Fsignin%3Faction_handle_signin%3Dtrue%26app%3Ddesktop%26hl%3Dko%26next%3D%252Fwatch%253Fv%253Dj_EciRV3V1k&amp;hl=ko\" rel=\"nofollow\" style=\"\" target=\"\" title=\"\"><div aria-hidden=\"true\" class=\"yt-spec-button-shape-next__icon\"><yt-icon style=\"width: 24px; height: 24px;\"><!--css-build:shady--><!--css-build:shady--><span class=\"yt-icon-shape yt-spec-icon-shape\"><div style=\"width: 100%; height: 100%; display: block; fill: currentcolor;\"><svg aria-hidden=\"true\" focusable=\"false\" height=\"24\" style=\"pointer-events: none; display: inherit; width: 100%; height: 100%;\" viewbox=\"0 0 24 24\" width=\"24\" xmlns=\"http://www.w3.org/2000/svg\"><path d=\"M17,4h-1H6.57C5.5,4,4.59,4.67,4.38,5.61l-1.34,6C2.77,12.85,3.82,14,5.23,14h4.23l-1.52,4.94C7.62,19.97,8.46,21,9.62,21 c0.58,0,1.14-0.24,1.52-0.65L17,14h4V4H17z M10.4,19.67C10.21,19.88,9.92,20,9.62,20c-0.26,0-0.5-0.11-0.63-0.3 c-0.07-0.1-0.15-0.26-0.09-0.47l1.52-4.94l0.4-1.29H9.46H5.23c-0.41,0-0.8-0.17-1.03-0.46c-0.12-0.15-0.25-0.4-0.18-0.72l1.34-6 C5.46,5.35,5.97,5,6.57,5H16v8.61L10.4,19.67z M20,13h-3V5h3V13z\"></path></svg></div></span></yt-icon></div><yt-touch-feedback-shape style=\"border-radius: inherit;\"><div aria-hidden=\"true\" class=\"yt-spec-touch-feedback-shape yt-spec-touch-feedback-shape--touch-response\"><div class=\"yt-spec-touch-feedback-shape__stroke\" style=\"\"></div><div class=\"yt-spec-touch-feedback-shape__fill\" style=\"\"></div></div></yt-touch-feedback-shape></a></yt-button-shape>\n",
      "<tp-yt-paper-tooltip fit-to-visible-bounds=\"\" offset=\"8\" role=\"tooltip\" tabindex=\"-1\"><!--css-build:shady--><div class=\"hidden style-scope tp-yt-paper-tooltip\" id=\"tooltip\" style-target=\"tooltip\">\n",
      "  싫어요\n",
      "</div>\n",
      "</tp-yt-paper-tooltip>\n",
      "</ytd-toggle-button-renderer>\n",
      "<div class=\"style-scope ytd-comment-engagement-bar\" id=\"creator-heart\"><ytd-creator-heart-renderer class=\"style-scope ytd-comment-engagement-bar\" heart-button-style=\"unknown\"><!--css-build:shady--><!--css-build:shady--><yt-icon-button class=\"style-scope ytd-creator-heart-renderer\" disabled=\"\" id=\"creator-heart-button\" role=\"button\"><!--css-build:shady--><!--css-build:shady--><button aria-label=\"하트\" class=\"style-scope yt-icon-button\" disabled=\"\" id=\"button\">\n",
      "<yt-img-shadow class=\"style-scope ytd-creator-heart-renderer no-transition\" id=\"hearted-thumbnail\" loaded=\"\" style=\"background-color: transparent;\"><!--css-build:shady--><!--css-build:shady--><img alt=\"\" class=\"style-scope yt-img-shadow\" draggable=\"false\" id=\"img\" src=\"https://yt3.ggpht.com/xIRGYkTZimsSqd4pbew699dUQc46oO0qyNw629QlEAKVgip8XzKTLqtlajMTC2pfcnf1vbDZ4KQ=s88-c-k-c0x00ffffff-no-rj\"/></yt-img-shadow>\n",
      "<yt-icon class=\"style-scope ytd-creator-heart-renderer\" id=\"hearted-border\"><!--css-build:shady--><!--css-build:shady--><span class=\"yt-icon-shape yt-spec-icon-shape\"><div style=\"width: 100%; height: 100%; display: block; fill: currentcolor;\"><svg aria-hidden=\"true\" focusable=\"false\" height=\"24\" style=\"pointer-events: none; display: inherit; width: 100%; height: 100%;\" viewbox=\"0 0 24 24\" width=\"24\" xmlns=\"http://www.w3.org/2000/svg\"><path d=\"M16.5 3C19.02 3 21 5.19 21 7.99c0 3.7-3.28 6.94-8.25 11.86l-.75.74-.74-.73-.04-.04C6.27 14.92 3 11.69 3 7.99 3 5.19 4.98 3 7.5 3c1.4 0 2.79.71 3.71 1.89L12 5.9l.79-1.01C13.71 3.71 15.1 3 16.5 3Zm0-1c-1.74 0-3.41.88-4.5 2.28C10.91 2.88 9.24 2 7.5 2 4.42 2 2 4.64 2 7.99c0 4.12 3.4 7.48 8.55 12.58L12 22l1.45-1.44C18.6 15.47 22 12.11 22 7.99 22 4.64 19.58 2 16.5 2Z\"></path></svg></div></span></yt-icon>\n",
      "<yt-icon class=\"style-scope ytd-creator-heart-renderer\" id=\"hearted\"><!--css-build:shady--><!--css-build:shady--><span class=\"yt-icon-shape yt-spec-icon-shape\"><div style=\"width: 100%; height: 100%; display: block; fill: currentcolor;\"><svg aria-hidden=\"true\" focusable=\"false\" height=\"24\" style=\"pointer-events: none; display: inherit; width: 100%; height: 100%;\" viewbox=\"0 0 24 24\" width=\"24\" xmlns=\"http://www.w3.org/2000/svg\"><path d=\"M16.5 2c-1.74 0-3.41.88-4.5 2.28C10.91 2.88 9.24 2 7.5 2 4.42 2 2 4.64 2 7.99c0 4.12 3.4 7.48 8.55 12.58L12 22l1.45-1.44C18.6 15.47 22 12.11 22 7.99 22 4.64 19.58 2 16.5 2Z\"></path></svg></div></span></yt-icon>\n",
      "<ps-dom-if class=\"style-scope ytd-creator-heart-renderer\"><template is=\"dom-if\"></template></ps-dom-if>\n",
      "<ps-dom-if class=\"style-scope ytd-creator-heart-renderer\"><template is=\"dom-if\"></template></ps-dom-if>\n",
      "</button><yt-interaction class=\"circular style-scope yt-icon-button\" id=\"interaction\"><!--css-build:shady--><!--css-build:shady--><div class=\"stroke style-scope yt-interaction\"></div><div class=\"fill style-scope yt-interaction\"></div></yt-interaction></yt-icon-button>\n",
      "<tp-yt-paper-tooltip class=\"style-scope ytd-creator-heart-renderer\" role=\"tooltip\" tabindex=\"-1\"><!--css-build:shady--><div class=\"hidden style-scope tp-yt-paper-tooltip\" id=\"tooltip\" style-target=\"tooltip\">\n",
      "  삼성SDS님의 ❤\n",
      "</div>\n",
      "</tp-yt-paper-tooltip>\n",
      "</ytd-creator-heart-renderer></div>\n",
      "<ytd-button-renderer button-next=\"\" button-renderer=\"\" class=\"style-scope ytd-comment-engagement-bar\" force-icon-button=\"true\" id=\"reply-button-end\"><!--css-build:shady--><yt-button-shape><a aria-label=\"답글\" class=\"yt-spec-button-shape-next yt-spec-button-shape-next--text yt-spec-button-shape-next--mono yt-spec-button-shape-next--size-s\" force-new-state=\"true\" href=\"https://accounts.google.com/ServiceLogin?service=youtube&amp;uilel=3&amp;passive=true&amp;continue=https%3A%2F%2Fwww.youtube.com%2Fsignin%3Faction_handle_signin%3Dtrue%26app%3Ddesktop%26hl%3Dko%26next%3D%252Fwatch%253Fv%253Dj_EciRV3V1k&amp;hl=ko\" rel=\"nofollow\" style=\"\" target=\"\" title=\"\"><div class=\"yt-spec-button-shape-next__button-text-content\"><span class=\"yt-core-attributed-string yt-core-attributed-string--white-space-no-wrap\" role=\"text\">답글</span></div><yt-touch-feedback-shape style=\"border-radius: inherit;\"><div aria-hidden=\"true\" class=\"yt-spec-touch-feedback-shape yt-spec-touch-feedback-shape--touch-response\"><div class=\"yt-spec-touch-feedback-shape__stroke\" style=\"\"></div><div class=\"yt-spec-touch-feedback-shape__fill\" style=\"\"></div></div></yt-touch-feedback-shape></a></yt-button-shape><tp-yt-paper-tooltip disable-upgrade=\"\" offset=\"8\"></tp-yt-paper-tooltip></ytd-button-renderer>\n",
      "</div>\n",
      "<div class=\"style-scope ytd-comment-engagement-bar\" id=\"reply-dialog\"></div>\n",
      "</ytd-comment-engagement-bar>\n",
      "</div>\n",
      "<div class=\"style-scope ytd-comment-view-model\" id=\"action-menu\">\n",
      "<ytd-menu-renderer class=\"style-scope ytd-comment-view-model\" menu-active=\"\" safe-area=\"\"><!--css-build:shady--><!--css_build_scope:ytd-menu-renderer--><!--css_build_styles:video.youtube.src.web.polymer.shared.ui.styles.yt_base_styles.yt.base.styles.css.js--><div class=\"top-level-buttons style-scope ytd-menu-renderer\" id=\"top-level-buttons-computed\"></div><div class=\"style-scope ytd-menu-renderer\" id=\"flexible-item-buttons\"></div><yt-icon-button class=\"dropdown-trigger style-scope ytd-menu-renderer\" hidden=\"\" id=\"button\" role=\"button\" style-target=\"button\"><!--css-build:shady--><!--css-build:shady--><button class=\"style-scope yt-icon-button\" id=\"button\"><yt-icon class=\"style-scope ytd-menu-renderer\"><!--css-build:shady--><!--css-build:shady--><span class=\"yt-icon-shape yt-spec-icon-shape\"><div style=\"width: 100%; height: 100%; display: block; fill: currentcolor;\"><svg aria-hidden=\"true\" enable-background=\"new 0 0 24 24\" focusable=\"false\" height=\"24\" style=\"pointer-events: none; display: inherit; width: 100%; height: 100%;\" viewbox=\"0 0 24 24\" width=\"24\" xmlns=\"http://www.w3.org/2000/svg\"><path d=\"M12 16.5c.83 0 1.5.67 1.5 1.5s-.67 1.5-1.5 1.5-1.5-.67-1.5-1.5.67-1.5 1.5-1.5zM10.5 12c0 .83.67 1.5 1.5 1.5s1.5-.67 1.5-1.5-.67-1.5-1.5-1.5-1.5.67-1.5 1.5zm0-6c0 .83.67 1.5 1.5 1.5s1.5-.67 1.5-1.5-.67-1.5-1.5-1.5-1.5.67-1.5 1.5z\"></path></svg></div></span></yt-icon></button><yt-interaction class=\"circular style-scope yt-icon-button\" id=\"interaction\"><!--css-build:shady--><!--css-build:shady--><div class=\"stroke style-scope yt-interaction\"></div><div class=\"fill style-scope yt-interaction\"></div></yt-interaction></yt-icon-button><yt-button-shape class=\"style-scope ytd-menu-renderer\" disable-upgrade=\"\" hidden=\"\" id=\"button-shape\" version=\"modern\"></yt-button-shape></ytd-menu-renderer>\n",
      "</div>\n",
      "</div>\n",
      "<div class=\"style-scope ytd-comment-view-model\" hidden=\"\" id=\"edit-dialog\"></div>\n",
      "</ytd-comment-view-model>\n",
      "<dom-if class=\"style-scope ytd-comment-thread-renderer\"><template is=\"dom-if\"></template></dom-if>\n",
      "<div class=\"style-scope ytd-comment-thread-renderer\" hidden=\"\" id=\"replies\"></div>\n",
      "</ytd-comment-thread-renderer>\n"
     ]
    }
   ],
   "source": [
    "# HTML 소스 파싱 \n",
    "html = driver.page_source\n",
    "soup = BeautifulSoup(html, 'html.parser')\n",
    "soup.find(name=\"div\", attrs={\"id\":\"contents\"})\n",
    "\n",
    "# 댓글 요소를 찾기\n",
    "reviews = soup.find_all(name='ytd-comment-thread-renderer', attrs={'class':'style-scope ytd-item-section-renderer'})\n",
    "\n",
    "print(len(reviews))\n",
    "print(reviews[2])"
   ]
  },
  {
   "cell_type": "code",
   "execution_count": 14,
   "metadata": {},
   "outputs": [
    {
     "data": {
      "text/plain": [
       "'@user-li3hn3lw6q'"
      ]
     },
     "execution_count": 14,
     "metadata": {},
     "output_type": "execute_result"
    }
   ],
   "source": [
    "### 사용자 이름\n",
    "#author-text > span\n",
    "reviews[2].select(\"#author-text > span\")[0].text.strip()"
   ]
  },
  {
   "cell_type": "code",
   "execution_count": 15,
   "metadata": {},
   "outputs": [
    {
     "data": {
      "text/plain": [
       "\"AI의 능력을 모두의 능력으로 만드는 기업 하이퍼오토메이션 엑셀레이터 \\r\\n삼성SDS ' AI시대 오피스&라이프 즐겁고 흥미롭게 잘 보았습니다 ^^\\r\\n#삼성SDS 2024년 새해에는 부디 꽃길만 걸으시고, 소망하시는 모든 일이 이루이 지시기를 진심으로 바라고 응원합니다.\\r\\n앞으로도 다양한 연령층에서, 더더욱 많은 분들에게 사랑받으시길 응원합니다.\\r\\n그리고 더욱더 친근하고 신뢰가는 모습으로, 서로가 더 많이 교류하면서 자주 소통하는 사이가 되기를 바래봅니다.\\r\\n또한, 지금처럼 저희들에게 유용하고 알찬 정보 많이많이 전해주시길 부탁드리고, 그 수고에 항상 감사드립니다.\""
      ]
     },
     "execution_count": 15,
     "metadata": {},
     "output_type": "execute_result"
    }
   ],
   "source": [
    "### 댓글 텍스트\n",
    "#content-text\n",
    "reviews[2].select(\"#content-text\")[0].text"
   ]
  },
  {
   "cell_type": "code",
   "execution_count": 16,
   "metadata": {},
   "outputs": [
    {
     "data": {
      "text/plain": [
       "'6개월 전'"
      ]
     },
     "execution_count": 16,
     "metadata": {},
     "output_type": "execute_result"
    }
   ],
   "source": [
    "### 날짜\n",
    "#published-time-text\n",
    "reviews[2].select(\"#published-time-text\")[0].text.strip()"
   ]
  },
  {
   "cell_type": "code",
   "execution_count": 17,
   "metadata": {},
   "outputs": [
    {
     "name": "stdout",
     "output_type": "stream",
     "text": [
      "{'author': '@user-li3hn3lw6q', 'comment': \"AI의 능력을 모두의 능력으로 만드는 기업 하이퍼오토메이션 엑셀레이터 \\r\\n삼성SDS ' AI시대 오피스&라이프 즐겁고 흥미롭게 잘 보았습니다 ^^\\r\\n#삼성SDS 2024년 새해에는 부디 꽃길만 걸으시고, 소망하시는 모든 일이 이루이 지시기를 진심으로 바라고 응원합니다.\\r\\n앞으로도 다양한 연령층에서, 더더욱 많은 분들에게 사랑받으시길 응원합니다.\\r\\n그리고 더욱더 친근하고 신뢰가는 모습으로, 서로가 더 많이 교류하면서 자주 소통하는 사이가 되기를 바래봅니다.\\r\\n또한, 지금처럼 저희들에게 유용하고 알찬 정보 많이많이 전해주시길 부탁드리고, 그 수고에 항상 감사드립니다.\", 'date': '6개월 전'}\n"
     ]
    }
   ],
   "source": [
    "### 리뷰 정보(이름, 댓글, 날짜)를 추출하는 함수 정의\n",
    "def get_review_info(review):\n",
    "    \"\"\"\n",
    "    댓글 요소에서 사용자 이름, 댓글, 날짜를 추출하는 함수\n",
    "    Args:\n",
    "        review: 댓글 요소\n",
    "    Returns:\n",
    "        dict: 사용자 이름, 댓글, 날짜 정보를 담은 딕셔너리\n",
    "    \"\"\"\n",
    "    author = review.select(\"#author-text > span\")[0].text.strip()\n",
    "    comment = review.select(\"#content-text\")[0].text\n",
    "    date = review.select(\"#published-time-text\")[0].text.strip()\n",
    "    return {\"author\": author, \"comment\": comment, \"date\": date}\n",
    "\n",
    "\n",
    "# 리뷰 정보 추출\n",
    "review_info = get_review_info(reviews[2])\n",
    "print(review_info)"
   ]
  },
  {
   "cell_type": "code",
   "execution_count": 21,
   "metadata": {},
   "outputs": [
    {
     "name": "stdout",
     "output_type": "stream",
     "text": [
      "2024-08-31 05:29:52\n"
     ]
    }
   ],
   "source": [
    "import re\n",
    "from datetime import datetime\n",
    "from dateutil.relativedelta import relativedelta\n",
    "\n",
    "def convert_time_strings(time_str, current_time=None):\n",
    "    \"\"\"\n",
    "    시간 문자열을 datetime 객체로 변환하는 함수\n",
    "    Args:\n",
    "        time_str: 시간 문자열\n",
    "        current_time: 기준 시간\n",
    "    Returns:\n",
    "        datetime: 변환된 datetime 객체\n",
    "    \"\"\"\n",
    "    if current_time is None:\n",
    "        current_time = datetime.now()\n",
    "\n",
    "    time_str = time_str.replace(\" \", \"\").strip()\n",
    "\n",
    "    if \"분전\" in time_str:\n",
    "        minutes = time_str.replace(\"분전\", \"\")\n",
    "        minutes = re.sub(\"[^0-9]\", \"\", minutes)\n",
    "        minutes = int(minutes)\n",
    "        return (current_time - relativedelta(minutes=minutes)).strftime(\"%Y-%m-%d %H:%M:%S\")\n",
    "        \n",
    "    elif \"시간전\" in time_str:\n",
    "        hours = time_str.replace(\"시간전\", \"\")\n",
    "        hours = re.sub(\"[^0-9]\", \"\", hours)\n",
    "        hours = int(hours)\n",
    "        return (current_time - relativedelta(hours=hours)).strftime(\"%Y-%m-%d %H:%M:%S\")\n",
    "    \n",
    "    elif \"일전\" in time_str:\n",
    "        days = time_str.replace(\"일전\", \"\")\n",
    "        days = re.sub(\"[^0-9]\", \"\", days)\n",
    "        days = int(days)\n",
    "        return (current_time - relativedelta(days=days)).strftime(\"%Y-%m-%d %H:%M:%S\")\n",
    "    elif \"주전\" in time_str:\n",
    "        weeks = time_str.replace(\"주전\", \"\")\n",
    "        weeks = re.sub(\"[^0-9]\", \"\", weeks)\n",
    "        weeks = int(weeks)\n",
    "        return (current_time - relativedelta(weeks=weeks)).strftime(\"%Y-%m-%d %H:%M:%S\")\n",
    "    elif \"개월전\" in time_str:\n",
    "        months = time_str.replace(\"개월전\", \"\")\n",
    "        months = re.sub(\"[^0-9]\", \"\", months)\n",
    "        months = int(months)\n",
    "        return (current_time - relativedelta(months=months)).strftime(\"%Y-%m-%d %H:%M:%S\")\n",
    "    elif \"년전\" in time_str:\n",
    "        years = time_str.replace(\"년전\", \"\")\n",
    "        years = re.sub(\"[^0-9]\", \"\", years)\n",
    "        years = int(years)\n",
    "        return (current_time - relativedelta(years=years)).strftime(\"%Y-%m-%d %H:%M:%S\")\n",
    "    else:\n",
    "        try:\n",
    "            time_str = (time_str).strftime(\"%Y-%m-%d %H:%M:%S\")\n",
    "        except:\n",
    "            time_str = np.nan\n",
    "        return time_str\n",
    "    \n",
    "# 시간 문자열 변환\n",
    "time_str = \"1시간전\"\n",
    "converted_time = convert_time_strings(time_str)\n",
    "print(converted_time)"
   ]
  },
  {
   "cell_type": "code",
   "execution_count": 23,
   "metadata": {},
   "outputs": [
    {
     "name": "stdout",
     "output_type": "stream",
     "text": [
      "{'author': '@user-li3hn3lw6q', 'comment': \"AI의 능력을 모두의 능력으로 만드는 기업 하이퍼오토메이션 엑셀레이터 \\r\\n삼성SDS ' AI시대 오피스&라이프 즐겁고 흥미롭게 잘 보았습니다 ^^\\r\\n#삼성SDS 2024년 새해에는 부디 꽃길만 걸으시고, 소망하시는 모든 일이 이루이 지시기를 진심으로 바라고 응원합니다.\\r\\n앞으로도 다양한 연령층에서, 더더욱 많은 분들에게 사랑받으시길 응원합니다.\\r\\n그리고 더욱더 친근하고 신뢰가는 모습으로, 서로가 더 많이 교류하면서 자주 소통하는 사이가 되기를 바래봅니다.\\r\\n또한, 지금처럼 저희들에게 유용하고 알찬 정보 많이많이 전해주시길 부탁드리고, 그 수고에 항상 감사드립니다.\", 'date': '2024-02-29 06:31:23'}\n"
     ]
    }
   ],
   "source": [
    "### 리뷰 정보(이름, 댓글, 좋아요, 날짜)를 추출하는 함수 정의\n",
    "def get_review_info(review):\n",
    "    \"\"\"\n",
    "    댓글 요소에서 사용자 이름, 댓글, 날짜를 추출하는 함수\n",
    "    Args:\n",
    "        review: 댓글 요소\n",
    "    Returns:\n",
    "        dict: 사용자 이름, 댓글, 날짜 정보를 담은 딕셔너리\n",
    "    \"\"\"\n",
    "    author = review.select(\"#author-text > span\")[0].text.strip()\n",
    "    comment = review.select(\"#content-text\")[0].text\n",
    "    date = review.select(\"#published-time-text\")[0].text.strip()\n",
    "    try:\n",
    "        date = convert_time_strings(date)\n",
    "    except:\n",
    "        pass\n",
    "    return {\"author\": author, \"comment\": comment, \"date\": date}\n",
    "\n",
    "\n",
    "# 리뷰 정보 추출\n",
    "review_info = get_review_info(reviews[2])\n",
    "print(review_info)"
   ]
  },
  {
   "cell_type": "code",
   "execution_count": 25,
   "metadata": {},
   "outputs": [
    {
     "name": "stdout",
     "output_type": "stream",
     "text": [
      "445\n",
      "{'author': '@SAMSUNGSDS', 'comment': \" 채널 구독 EVENT \\r\\n\\r\\nAI의 능력을 모두의 능력으로 만드는 기업 하이퍼오토메이션 엑셀레이터 \\r\\n\\r\\n삼성SDS ' AI시대 오피스&라이프'  (https://youtu.be/j_EciRV3V1k) \\r\\n\\r\\n영상 시청과 함께 유튜브 채널 구독하고 소문내주세요 \\n추첨을 통해  갤럭시탭 S9 FE, 갤럭시 워치 6 등 다양한 선물을 드립니다. \\r\\n\\r\\n\\r\\n이벤트 기간\\r\\n\\r\\n참여 기간 : 2024년  01월 29일 (월) ~ 2024년 02월 29일 (금)\\r\\n당첨자 발표 : 2024년 03월 15일 (금) 개별 연락\\nSTEP 1.  AI시대 오피스&라이프 브랜드 필름 시청하기 (https://youtu.be/j_EciRV3V1k)\\r\\nSTEP 2. 삼성SDS  유튜브 채널 구독하고  소문내기\\r\\nSTEP 3. 구독 화면을 캡쳐해 아래  링크로 제출하면 완료!\\r\\n\\r\\n\\r\\n 이벤트 참여 링크 : https://naver.me/5K54zUuQ\\r\\n채널 구독하고 캡처한 이미지 제출 완료 시 참여로 인정됩니다.\\n추첨 선물 \\r\\n 갤럭시탭 S9 FE / Wi-Fi, 128GB (1명)\\r\\n 갤럭시 워치 6 / 44mm, Bluetooth (2명)\\r\\n 도미노피자+콜라 기프티콘(10명) \\r\\n 스타벅스 카페 아메리카노 T 기프티콘(100명)\", 'date': '2024-01-31 06:34:22'}\n"
     ]
    }
   ],
   "source": [
    "### 한 페이지의 모든 리뷰를 반복문으로 추출하는 함수 정의\n",
    "\n",
    "def get_youtube_reviews(url):\n",
    "    \"\"\"\n",
    "    한 페이지의 모든 리뷰를 추출하는 함수\n",
    "    Args:\n",
    "        url: YouTube 동영상 URL\n",
    "    Returns:\n",
    "        list: 리뷰 정보 딕셔너리를 담은 리스트\n",
    "    \"\"\"\n",
    "    # driver 설정\n",
    "    options = webdriver.ChromeOptions()\n",
    "    options.add_argument('--headless')  \n",
    "    service = Service()\n",
    "    driver = webdriver.Chrome(service=service, options=options)\n",
    "    driver.set_window_size(800, 600)\n",
    "    driver.get(url)\n",
    "    driver.implicitly_wait(5)\n",
    "    time.sleep(5)\n",
    "\n",
    "    # 팝업 닫기\n",
    "    try:\n",
    "        dismiss_button = driver.find_element(By.CSS_SELECTOR, \"#dismiss-button button\")\n",
    "        dismiss_button.click()\n",
    "    except:\n",
    "        pass\n",
    "\n",
    "    driver.implicitly_wait(5)\n",
    "    time.sleep(5)\n",
    "   \n",
    "    current_page_height = driver.execute_script(\"return document.documentElement.scrollHeight\") \n",
    "    while current_page_height < 100000: \n",
    "        driver.execute_script(f\"window.scrollTo({current_page_height}, {current_page_height + 10000});\") \n",
    "        time.sleep(random.randint(1, 4))\n",
    "        body = driver.find_element(By.CSS_SELECTOR, 'body')\n",
    "        body.send_keys(Keys.PAGE_DOWN)\n",
    "        time.sleep(random.randint(1, 4))\n",
    "        scrolled_page_height = driver.execute_script(\"return document.documentElement.scrollHeight\")  \n",
    "        if scrolled_page_height == current_page_height: \n",
    "            break\n",
    "        current_page_height = driver.execute_script(\"return document.documentElement.scrollHeight\")  \n",
    "\n",
    "    # HTML 추출하고 driver 닫기\n",
    "    driver.implicitly_wait(5)\n",
    "    html = driver.page_source\n",
    "    driver.close()\n",
    "    \n",
    "    # HTML 파싱\n",
    "    soup = BeautifulSoup(html, 'html.parser')\n",
    "    reviews = soup.find_all(name='ytd-comment-thread-renderer', attrs={'class':'style-scope ytd-item-section-renderer'})\n",
    "    review_list = []\n",
    "    for review in reviews:\n",
    "        review_info = get_review_info(review)\n",
    "        review_list.append(review_info)\n",
    "    return review_list\n",
    "\n",
    "\n",
    "# 함수 실행\n",
    "reviews = get_youtube_reviews(url)\n",
    "print(len(reviews))\n",
    "print(reviews[0])"
   ]
  },
  {
   "cell_type": "code",
   "execution_count": 29,
   "metadata": {},
   "outputs": [
    {
     "data": {
      "text/html": [
       "<div>\n",
       "<style scoped>\n",
       "    .dataframe tbody tr th:only-of-type {\n",
       "        vertical-align: middle;\n",
       "    }\n",
       "\n",
       "    .dataframe tbody tr th {\n",
       "        vertical-align: top;\n",
       "    }\n",
       "\n",
       "    .dataframe thead th {\n",
       "        text-align: right;\n",
       "    }\n",
       "</style>\n",
       "<table border=\"1\" class=\"dataframe\">\n",
       "  <thead>\n",
       "    <tr style=\"text-align: right;\">\n",
       "      <th></th>\n",
       "      <th>author</th>\n",
       "      <th>comment</th>\n",
       "      <th>date</th>\n",
       "    </tr>\n",
       "  </thead>\n",
       "  <tbody>\n",
       "    <tr>\n",
       "      <th>0</th>\n",
       "      <td>@SAMSUNGSDS</td>\n",
       "      <td>채널 구독 EVENT \\r\\n\\r\\nAI의 능력을 모두의 능력으로 만드는 기업 하...</td>\n",
       "      <td>2024-01-31 06:34:22</td>\n",
       "    </tr>\n",
       "    <tr>\n",
       "      <th>1</th>\n",
       "      <td>@user-pw3gk2vn5e</td>\n",
       "      <td>삼성SDS의 생성형 AI 서비스가 오피스와 우리의 라이프에 어떤 새바람을 일으킬지\\...</td>\n",
       "      <td>2024-02-29 06:34:22</td>\n",
       "    </tr>\n",
       "    <tr>\n",
       "      <th>2</th>\n",
       "      <td>@user-li3hn3lw6q</td>\n",
       "      <td>AI의 능력을 모두의 능력으로 만드는 기업 하이퍼오토메이션 엑셀레이터 \\r\\n삼성S...</td>\n",
       "      <td>2024-02-29 06:34:22</td>\n",
       "    </tr>\n",
       "    <tr>\n",
       "      <th>3</th>\n",
       "      <td>@user-jc6zw1gf9u</td>\n",
       "      <td>AI시대 오피스&amp;라이프 오 멋지네요, 삼성 화이팅 노력한데로 이뤄지는 밝은 미래를 ...</td>\n",
       "      <td>2024-02-29 06:34:22</td>\n",
       "    </tr>\n",
       "    <tr>\n",
       "      <th>4</th>\n",
       "      <td>@humavv</td>\n",
       "      <td>때와장소를 가리지않는다!딱 맞는표현이네요~!!AI는 어디에든 무궁무진한 기능인것같아...</td>\n",
       "      <td>2024-02-29 06:34:22</td>\n",
       "    </tr>\n",
       "  </tbody>\n",
       "</table>\n",
       "</div>"
      ],
      "text/plain": [
       "             author                                            comment  \\\n",
       "0       @SAMSUNGSDS   채널 구독 EVENT \\r\\n\\r\\nAI의 능력을 모두의 능력으로 만드는 기업 하...   \n",
       "1  @user-pw3gk2vn5e  삼성SDS의 생성형 AI 서비스가 오피스와 우리의 라이프에 어떤 새바람을 일으킬지\\...   \n",
       "2  @user-li3hn3lw6q  AI의 능력을 모두의 능력으로 만드는 기업 하이퍼오토메이션 엑셀레이터 \\r\\n삼성S...   \n",
       "3  @user-jc6zw1gf9u  AI시대 오피스&라이프 오 멋지네요, 삼성 화이팅 노력한데로 이뤄지는 밝은 미래를 ...   \n",
       "4           @humavv  때와장소를 가리지않는다!딱 맞는표현이네요~!!AI는 어디에든 무궁무진한 기능인것같아...   \n",
       "\n",
       "                  date  \n",
       "0  2024-01-31 06:34:22  \n",
       "1  2024-02-29 06:34:22  \n",
       "2  2024-02-29 06:34:22  \n",
       "3  2024-02-29 06:34:22  \n",
       "4  2024-02-29 06:34:22  "
      ]
     },
     "execution_count": 29,
     "metadata": {},
     "output_type": "execute_result"
    }
   ],
   "source": [
    "import pandas as pd\n",
    "# 판다스 데이터프레임으로 변환\n",
    "df = pd.DataFrame(reviews)\n",
    "df.head()"
   ]
  },
  {
   "cell_type": "code",
   "execution_count": 30,
   "metadata": {},
   "outputs": [],
   "source": [
    "# 수집한 데이터를 저장\n",
    "df.to_csv(\"youtube_reviews.csv\", index=False)"
   ]
  },
  {
   "cell_type": "code",
   "execution_count": 31,
   "metadata": {},
   "outputs": [],
   "source": [
    "# 저장해둔 데이터를 불러오는 코드\n",
    "df = pd.read_csv(\"youtube_reviews.csv\")"
   ]
  },
  {
   "cell_type": "code",
   "execution_count": 32,
   "metadata": {},
   "outputs": [
    {
     "data": {
      "text/plain": [
       "count                              445\n",
       "mean     2024-02-22 15:50:57.384269568\n",
       "min                2024-01-31 06:34:22\n",
       "25%                2024-01-31 06:34:23\n",
       "50%                2024-02-29 06:34:22\n",
       "75%                2024-02-29 06:34:23\n",
       "max                2024-08-10 06:34:22\n",
       "Name: date, dtype: object"
      ]
     },
     "execution_count": 32,
     "metadata": {},
     "output_type": "execute_result"
    }
   ],
   "source": [
    "pd.to_datetime(df['date']).describe()"
   ]
  },
  {
   "cell_type": "markdown",
   "metadata": {},
   "source": [
    "## 시간에 따른 리뷰 수의 변화를 그래프로 시각화"
   ]
  },
  {
   "cell_type": "code",
   "execution_count": 40,
   "metadata": {},
   "outputs": [
    {
     "data": {
      "image/png": "[encoded data removed]",
      "text/plain": [
       "<Figure size 1000x400 with 1 Axes>"
      ]
     },
     "metadata": {},
     "output_type": "display_data"
    }
   ],
   "source": [
    "import matplotlib.pyplot as plt  # matplotlib 라이브러리 임포트\n",
    "# 날짜 데이터를 datetime 객체로 변환\n",
    "df['date'] = pd.to_datetime(df['date'])\n",
    "\n",
    "# 날짜별로 데이터를 그룹화하고 리뷰 수를 계산\n",
    "review_counts = df.groupby(df['date'].dt.date).size()\n",
    "\n",
    "# 그래프로 시각화\n",
    "plt.figure(figsize=(10, 4))\n",
    "review_counts.plot(kind='line', marker='o', linestyle='-')\n",
    "plt.title('Daily Review Counts Over Time')\n",
    "plt.xlabel('Date')\n",
    "plt.ylabel('Number of Reviews')\n",
    "plt.grid(True)\n",
    "plt.show()\n"
   ]
  },
  {
   "cell_type": "markdown",
   "metadata": {},
   "source": [
    "## Huggingface Pipleline 으로 감성 분석"
   ]
  },
  {
   "cell_type": "code",
   "execution_count": 41,
   "metadata": {},
   "outputs": [
    {
     "name": "stderr",
     "output_type": "stream",
     "text": [
      "c:\\Users\\minns\\AppData\\Local\\Programs\\Python\\Python311\\Lib\\site-packages\\tqdm\\auto.py:21: TqdmWarning: IProgress not found. Please update jupyter and ipywidgets. See https://ipywidgets.readthedocs.io/en/stable/user_install.html\n",
      "  from .autonotebook import tqdm as notebook_tqdm\n",
      "c:\\Users\\minns\\AppData\\Local\\Programs\\Python\\Python311\\Lib\\site-packages\\huggingface_hub\\file_download.py:1150: FutureWarning: `resume_download` is deprecated and will be removed in version 1.0.0. Downloads always resume when possible. If you want to force a new download, use `force_download=True`.\n",
      "  warnings.warn(\n",
      "c:\\Users\\minns\\AppData\\Local\\Programs\\Python\\Python311\\Lib\\site-packages\\huggingface_hub\\file_download.py:159: UserWarning: `huggingface_hub` cache-system uses symlinks by default to efficiently store duplicated files but your machine does not support them in C:\\Users\\minns\\.cache\\huggingface\\hub\\models--dudcjs2779--sentiment-analysis-with-klue-bert-base. Caching files will still work but in a degraded version that might require more space on your disk. This warning can be disabled by setting the `HF_HUB_DISABLE_SYMLINKS_WARNING` environment variable. For more details, see https://huggingface.co/docs/huggingface_hub/how-to-cache#limitations.\n",
      "To support symlinks on Windows, you either need to activate Developer Mode or to run Python as an administrator. In order to see activate developer mode, see this article: https://docs.microsoft.com/en-us/windows/apps/get-started/enable-your-device-for-development\n",
      "  warnings.warn(message)\n"
     ]
    },
    {
     "data": {
      "text/plain": [
       "[{'label': 'LABEL_1', 'score': 0.9777422547340393},\n",
       " {'label': 'LABEL_2', 'score': 0.5432390570640564},\n",
       " {'label': 'LABEL_0', 'score': 0.550918459892273},\n",
       " {'label': 'LABEL_2', 'score': 0.9763168096542358},\n",
       " {'label': 'LABEL_1', 'score': 0.9642011523246765}]"
      ]
     },
     "execution_count": 41,
     "metadata": {},
     "output_type": "execute_result"
    }
   ],
   "source": [
    "from transformers import pipeline\n",
    "sentiment_pipeline = pipeline(model=\"dudcjs2779/sentiment-analysis-with-klue-bert-base\")\n",
    "data = [\"너무 좋아요\", \"조금 아쉬웠어요\", \"좋은지 나쁜지 모르겠어요\", \"최악이에요\", \"최고에요\"]\n",
    "sentiment_pipeline(data)"
   ]
  },
  {
   "cell_type": "code",
   "execution_count": 42,
   "metadata": {},
   "outputs": [
    {
     "data": {
      "text/plain": [
       "count     444.000000\n",
       "mean       63.144144\n",
       "std        93.198746\n",
       "min         3.000000\n",
       "25%        23.000000\n",
       "50%        39.000000\n",
       "75%        65.000000\n",
       "max      1430.000000\n",
       "Name: comment, dtype: float64"
      ]
     },
     "execution_count": 42,
     "metadata": {},
     "output_type": "execute_result"
    }
   ],
   "source": [
    "df['comment'].str.len().describe()"
   ]
  },
  {
   "cell_type": "code",
   "execution_count": 43,
   "metadata": {},
   "outputs": [
    {
     "data": {
      "text/html": [
       "<div>\n",
       "<style scoped>\n",
       "    .dataframe tbody tr th:only-of-type {\n",
       "        vertical-align: middle;\n",
       "    }\n",
       "\n",
       "    .dataframe tbody tr th {\n",
       "        vertical-align: top;\n",
       "    }\n",
       "\n",
       "    .dataframe thead th {\n",
       "        text-align: right;\n",
       "    }\n",
       "</style>\n",
       "<table border=\"1\" class=\"dataframe\">\n",
       "  <thead>\n",
       "    <tr style=\"text-align: right;\">\n",
       "      <th></th>\n",
       "      <th>author</th>\n",
       "      <th>comment</th>\n",
       "      <th>date</th>\n",
       "    </tr>\n",
       "  </thead>\n",
       "  <tbody>\n",
       "    <tr>\n",
       "      <th>235</th>\n",
       "      <td>@user-kn1iq3up9w</td>\n",
       "      <td>광고가 참좋네요</td>\n",
       "      <td>2024-01-31 06:34:22</td>\n",
       "    </tr>\n",
       "    <tr>\n",
       "      <th>351</th>\n",
       "      <td>@user-yw3qc3kr1w</td>\n",
       "      <td>좋아요..삼성최고</td>\n",
       "      <td>2024-02-29 06:34:23</td>\n",
       "    </tr>\n",
       "    <tr>\n",
       "      <th>361</th>\n",
       "      <td>@user-xf3wn7ml7u</td>\n",
       "      <td>영상잘보았습니다</td>\n",
       "      <td>2024-02-29 06:34:23</td>\n",
       "    </tr>\n",
       "    <tr>\n",
       "      <th>381</th>\n",
       "      <td>@sinang1204</td>\n",
       "      <td>좋아요</td>\n",
       "      <td>2024-01-31 06:34:23</td>\n",
       "    </tr>\n",
       "    <tr>\n",
       "      <th>383</th>\n",
       "      <td>@user-kr5ne2do7m</td>\n",
       "      <td>기능이 기대되요!</td>\n",
       "      <td>2024-02-29 06:34:23</td>\n",
       "    </tr>\n",
       "    <tr>\n",
       "      <th>394</th>\n",
       "      <td>@user-eh1cj6bq3e</td>\n",
       "      <td>진짜 대단하네요</td>\n",
       "      <td>2024-02-29 06:34:23</td>\n",
       "    </tr>\n",
       "    <tr>\n",
       "      <th>396</th>\n",
       "      <td>@leech3313</td>\n",
       "      <td>참여하고가용 ^^</td>\n",
       "      <td>2024-01-31 06:34:23</td>\n",
       "    </tr>\n",
       "    <tr>\n",
       "      <th>398</th>\n",
       "      <td>@user-tc9lf8co6t</td>\n",
       "      <td>미래 AI시대</td>\n",
       "      <td>2024-01-31 06:34:23</td>\n",
       "    </tr>\n",
       "    <tr>\n",
       "      <th>409</th>\n",
       "      <td>@user-gt3tk5ou6h</td>\n",
       "      <td>세상너무좋네여</td>\n",
       "      <td>2024-02-29 06:34:23</td>\n",
       "    </tr>\n",
       "    <tr>\n",
       "      <th>413</th>\n",
       "      <td>@user-vt4fv6pq8c</td>\n",
       "      <td>AI가 기대돼요.</td>\n",
       "      <td>2024-01-31 06:34:23</td>\n",
       "    </tr>\n",
       "    <tr>\n",
       "      <th>414</th>\n",
       "      <td>@user-wk8hi4hf2y</td>\n",
       "      <td>좋네요</td>\n",
       "      <td>2024-01-31 06:34:23</td>\n",
       "    </tr>\n",
       "    <tr>\n",
       "      <th>416</th>\n",
       "      <td>@hey_jey_</td>\n",
       "      <td>응원합니다 ;)</td>\n",
       "      <td>2024-02-29 06:34:23</td>\n",
       "    </tr>\n",
       "    <tr>\n",
       "      <th>421</th>\n",
       "      <td>@storyhan</td>\n",
       "      <td>Ai좋은거야~</td>\n",
       "      <td>2024-02-29 06:34:23</td>\n",
       "    </tr>\n",
       "    <tr>\n",
       "      <th>434</th>\n",
       "      <td>@user-cm4vo3dn4x</td>\n",
       "      <td>Good!!</td>\n",
       "      <td>2024-02-29 06:34:23</td>\n",
       "    </tr>\n",
       "    <tr>\n",
       "      <th>436</th>\n",
       "      <td>@user-qr6oi9my1x</td>\n",
       "      <td>다맞는말ㅋㅋㅋㅋㅋ</td>\n",
       "      <td>2024-02-29 06:34:23</td>\n",
       "    </tr>\n",
       "    <tr>\n",
       "      <th>437</th>\n",
       "      <td>@rillala</td>\n",
       "      <td>화이팅</td>\n",
       "      <td>2024-02-29 06:34:23</td>\n",
       "    </tr>\n",
       "    <tr>\n",
       "      <th>439</th>\n",
       "      <td>@user-et2vy2rx2d</td>\n",
       "      <td>ai시대의 선구자</td>\n",
       "      <td>2024-05-31 06:34:23</td>\n",
       "    </tr>\n",
       "    <tr>\n",
       "      <th>441</th>\n",
       "      <td>@donghoonlee9555</td>\n",
       "      <td>AI오라 !!</td>\n",
       "      <td>2024-02-29 06:34:23</td>\n",
       "    </tr>\n",
       "    <tr>\n",
       "      <th>444</th>\n",
       "      <td>@i8071625</td>\n",
       "      <td>싱기하다..</td>\n",
       "      <td>2024-01-31 06:34:23</td>\n",
       "    </tr>\n",
       "  </tbody>\n",
       "</table>\n",
       "</div>"
      ],
      "text/plain": [
       "               author    comment                date\n",
       "235  @user-kn1iq3up9w   광고가 참좋네요 2024-01-31 06:34:22\n",
       "351  @user-yw3qc3kr1w  좋아요..삼성최고 2024-02-29 06:34:23\n",
       "361  @user-xf3wn7ml7u  영상잘보았습니다  2024-02-29 06:34:23\n",
       "381       @sinang1204       좋아요  2024-01-31 06:34:23\n",
       "383  @user-kr5ne2do7m  기능이 기대되요! 2024-02-29 06:34:23\n",
       "394  @user-eh1cj6bq3e   진짜 대단하네요 2024-02-29 06:34:23\n",
       "396        @leech3313  참여하고가용 ^^ 2024-01-31 06:34:23\n",
       "398  @user-tc9lf8co6t    미래 AI시대 2024-01-31 06:34:23\n",
       "409  @user-gt3tk5ou6h    세상너무좋네여 2024-02-29 06:34:23\n",
       "413  @user-vt4fv6pq8c  AI가 기대돼요. 2024-01-31 06:34:23\n",
       "414  @user-wk8hi4hf2y        좋네요 2024-01-31 06:34:23\n",
       "416         @hey_jey_   응원합니다 ;) 2024-02-29 06:34:23\n",
       "421         @storyhan    Ai좋은거야~ 2024-02-29 06:34:23\n",
       "434  @user-cm4vo3dn4x     Good!! 2024-02-29 06:34:23\n",
       "436  @user-qr6oi9my1x  다맞는말ㅋㅋㅋㅋㅋ 2024-02-29 06:34:23\n",
       "437          @rillala        화이팅 2024-02-29 06:34:23\n",
       "439  @user-et2vy2rx2d  ai시대의 선구자 2024-05-31 06:34:23\n",
       "441  @donghoonlee9555    AI오라 !! 2024-02-29 06:34:23\n",
       "444         @i8071625     싱기하다.. 2024-01-31 06:34:23"
      ]
     },
     "execution_count": 43,
     "metadata": {},
     "output_type": "execute_result"
    }
   ],
   "source": [
    "df[df['comment'].str.len() < 10]"
   ]
  },
  {
   "cell_type": "code",
   "execution_count": 44,
   "metadata": {},
   "outputs": [
    {
     "name": "stderr",
     "output_type": "stream",
     "text": [
      "c:\\Users\\minns\\AppData\\Local\\Programs\\Python\\Python311\\Lib\\site-packages\\huggingface_hub\\file_download.py:1150: FutureWarning: `resume_download` is deprecated and will be removed in version 1.0.0. Downloads always resume when possible. If you want to force a new download, use `force_download=True`.\n",
      "  warnings.warn(\n"
     ]
    },
    {
     "data": {
      "text/plain": [
       "'LABEL_1'"
      ]
     },
     "execution_count": 44,
     "metadata": {},
     "output_type": "execute_result"
    }
   ],
   "source": [
    "# 리뷰에 대한 감정 분석 결과를 긍정, 부정으로 예측 \n",
    "def analyze_sentiment_classification(review):\n",
    "    \"\"\"\n",
    "    리뷰에 대한 감정 분석 결과를 중립(LABEL_0), 긍정(LABEL_1), 부정(LABEL_2)로 분류\n",
    "    Args:\n",
    "        review: 리뷰 텍스트\n",
    "    Returns:\n",
    "        float: 감정 분석 결과\n",
    "    \"\"\"\n",
    "    sentiment_pipeline = pipeline(model=\"dudcjs2779/sentiment-analysis-with-klue-bert-base\")\n",
    "    sentiment = sentiment_pipeline([str(review)[:100]])[0]\n",
    "    \n",
    "    return sentiment['label']\n",
    "\n",
    "# 함수 실행\n",
    "sentiment_labels = analyze_sentiment_classification(data[0])\n",
    "sentiment_labels"
   ]
  },
  {
   "cell_type": "code",
   "execution_count": 45,
   "metadata": {},
   "outputs": [
    {
     "data": {
      "text/plain": [
       "'너무 좋아요'"
      ]
     },
     "execution_count": 45,
     "metadata": {},
     "output_type": "execute_result"
    }
   ],
   "source": [
    "data[0]"
   ]
  },
  {
   "cell_type": "code",
   "execution_count": 46,
   "metadata": {},
   "outputs": [
    {
     "data": {
      "text/plain": [
       "0     채널 구독 EVENT \\r\\n\\r\\nAI의 능력을 모두의 능력으로 만드는 기업 하...\n",
       "1    삼성SDS의 생성형 AI 서비스가 오피스와 우리의 라이프에 어떤 새바람을 일으킬지\\...\n",
       "2    AI의 능력을 모두의 능력으로 만드는 기업 하이퍼오토메이션 엑셀레이터 \\r\\n삼성S...\n",
       "3    AI시대 오피스&라이프 오 멋지네요, 삼성 화이팅 노력한데로 이뤄지는 밝은 미래를 ...\n",
       "4    때와장소를 가리지않는다!딱 맞는표현이네요~!!AI는 어디에든 무궁무진한 기능인것같아...\n",
       "Name: comment, dtype: object"
      ]
     },
     "execution_count": 46,
     "metadata": {},
     "output_type": "execute_result"
    }
   ],
   "source": [
    "df['comment'].head()"
   ]
  },
  {
   "cell_type": "code",
   "execution_count": 47,
   "metadata": {},
   "outputs": [
    {
     "data": {
      "text/plain": [
       "0     채널 구독 EVENT AI의 능력을 모두의 능력으로 만드는 기업 하이퍼오토메이션 ...\n",
       "1    삼성SDS의 생성형 AI 서비스가 오피스와 우리의 라이프에 어떤 새바람을 일으킬지너...\n",
       "2    AI의 능력을 모두의 능력으로 만드는 기업 하이퍼오토메이션 엑셀레이터 삼성SDS  ...\n",
       "3    AI시대 오피스라이프 오 멋지네요 삼성 화이팅 노력한데로 이뤄지는 밝은 미래를 꿈꾸...\n",
       "4    때와장소를 가리지않는다딱 맞는표현이네요AI는 어디에든 무궁무진한 기능인것같아요삼성S...\n",
       "Name: comment, dtype: object"
      ]
     },
     "execution_count": 47,
     "metadata": {},
     "output_type": "execute_result"
    }
   ],
   "source": [
    "# HTML 태그 제거\n",
    "df['comment'] = df['comment'].str.replace('[^A-Za-z0-9가-힣ㄱ-ㅎ\\ ]', '', regex=True)\n",
    "df['comment'].head()"
   ]
  },
  {
   "cell_type": "code",
   "execution_count": 48,
   "metadata": {},
   "outputs": [
    {
     "data": {
      "text/html": [
       "<div>\n",
       "<style scoped>\n",
       "    .dataframe tbody tr th:only-of-type {\n",
       "        vertical-align: middle;\n",
       "    }\n",
       "\n",
       "    .dataframe tbody tr th {\n",
       "        vertical-align: top;\n",
       "    }\n",
       "\n",
       "    .dataframe thead th {\n",
       "        text-align: right;\n",
       "    }\n",
       "</style>\n",
       "<table border=\"1\" class=\"dataframe\">\n",
       "  <thead>\n",
       "    <tr style=\"text-align: right;\">\n",
       "      <th></th>\n",
       "      <th>author</th>\n",
       "      <th>comment</th>\n",
       "      <th>date</th>\n",
       "      <th>sentiment_class</th>\n",
       "    </tr>\n",
       "  </thead>\n",
       "  <tbody>\n",
       "    <tr>\n",
       "      <th>0</th>\n",
       "      <td>@SAMSUNGSDS</td>\n",
       "      <td>채널 구독 EVENT AI의 능력을 모두의 능력으로 만드는 기업 하이퍼오토메이션 ...</td>\n",
       "      <td>2024-01-31 06:34:22</td>\n",
       "      <td>LABEL_1</td>\n",
       "    </tr>\n",
       "    <tr>\n",
       "      <th>1</th>\n",
       "      <td>@user-pw3gk2vn5e</td>\n",
       "      <td>삼성SDS의 생성형 AI 서비스가 오피스와 우리의 라이프에 어떤 새바람을 일으킬지너...</td>\n",
       "      <td>2024-02-29 06:34:22</td>\n",
       "      <td>LABEL_1</td>\n",
       "    </tr>\n",
       "    <tr>\n",
       "      <th>2</th>\n",
       "      <td>@user-li3hn3lw6q</td>\n",
       "      <td>AI의 능력을 모두의 능력으로 만드는 기업 하이퍼오토메이션 엑셀레이터 삼성SDS  ...</td>\n",
       "      <td>2024-02-29 06:34:22</td>\n",
       "      <td>LABEL_1</td>\n",
       "    </tr>\n",
       "    <tr>\n",
       "      <th>3</th>\n",
       "      <td>@user-jc6zw1gf9u</td>\n",
       "      <td>AI시대 오피스라이프 오 멋지네요 삼성 화이팅 노력한데로 이뤄지는 밝은 미래를 꿈꾸...</td>\n",
       "      <td>2024-02-29 06:34:22</td>\n",
       "      <td>LABEL_0</td>\n",
       "    </tr>\n",
       "    <tr>\n",
       "      <th>4</th>\n",
       "      <td>@humavv</td>\n",
       "      <td>때와장소를 가리지않는다딱 맞는표현이네요AI는 어디에든 무궁무진한 기능인것같아요삼성S...</td>\n",
       "      <td>2024-02-29 06:34:22</td>\n",
       "      <td>LABEL_1</td>\n",
       "    </tr>\n",
       "  </tbody>\n",
       "</table>\n",
       "</div>"
      ],
      "text/plain": [
       "             author                                            comment  \\\n",
       "0       @SAMSUNGSDS   채널 구독 EVENT AI의 능력을 모두의 능력으로 만드는 기업 하이퍼오토메이션 ...   \n",
       "1  @user-pw3gk2vn5e  삼성SDS의 생성형 AI 서비스가 오피스와 우리의 라이프에 어떤 새바람을 일으킬지너...   \n",
       "2  @user-li3hn3lw6q  AI의 능력을 모두의 능력으로 만드는 기업 하이퍼오토메이션 엑셀레이터 삼성SDS  ...   \n",
       "3  @user-jc6zw1gf9u  AI시대 오피스라이프 오 멋지네요 삼성 화이팅 노력한데로 이뤄지는 밝은 미래를 꿈꾸...   \n",
       "4           @humavv  때와장소를 가리지않는다딱 맞는표현이네요AI는 어디에든 무궁무진한 기능인것같아요삼성S...   \n",
       "\n",
       "                 date sentiment_class  \n",
       "0 2024-01-31 06:34:22         LABEL_1  \n",
       "1 2024-02-29 06:34:22         LABEL_1  \n",
       "2 2024-02-29 06:34:22         LABEL_1  \n",
       "3 2024-02-29 06:34:22         LABEL_0  \n",
       "4 2024-02-29 06:34:22         LABEL_1  "
      ]
     },
     "execution_count": 48,
     "metadata": {},
     "output_type": "execute_result"
    }
   ],
   "source": [
    "# 리뷰에 대한 감정 분석 결과를 데이터프레임에 추가\n",
    "df['sentiment_class'] = df['comment'].apply(analyze_sentiment_classification)\n",
    "df.head()"
   ]
  },
  {
   "cell_type": "code",
   "execution_count": 50,
   "metadata": {},
   "outputs": [
    {
     "data": {
      "text/html": [
       "<div>\n",
       "<style scoped>\n",
       "    .dataframe tbody tr th:only-of-type {\n",
       "        vertical-align: middle;\n",
       "    }\n",
       "\n",
       "    .dataframe tbody tr th {\n",
       "        vertical-align: top;\n",
       "    }\n",
       "\n",
       "    .dataframe thead th {\n",
       "        text-align: right;\n",
       "    }\n",
       "</style>\n",
       "<table border=\"1\" class=\"dataframe\">\n",
       "  <thead>\n",
       "    <tr style=\"text-align: right;\">\n",
       "      <th></th>\n",
       "      <th>author</th>\n",
       "      <th>comment</th>\n",
       "      <th>date</th>\n",
       "      <th>sentiment_class</th>\n",
       "    </tr>\n",
       "  </thead>\n",
       "  <tbody>\n",
       "    <tr>\n",
       "      <th>0</th>\n",
       "      <td>@SAMSUNGSDS</td>\n",
       "      <td>채널 구독 EVENT AI의 능력을 모두의 능력으로 만드는 기업 하이퍼오토메이션 ...</td>\n",
       "      <td>2024-01-31 06:34:22</td>\n",
       "      <td>LABEL_1</td>\n",
       "    </tr>\n",
       "    <tr>\n",
       "      <th>1</th>\n",
       "      <td>@user-pw3gk2vn5e</td>\n",
       "      <td>삼성SDS의 생성형 AI 서비스가 오피스와 우리의 라이프에 어떤 새바람을 일으킬지너...</td>\n",
       "      <td>2024-02-29 06:34:22</td>\n",
       "      <td>LABEL_1</td>\n",
       "    </tr>\n",
       "    <tr>\n",
       "      <th>2</th>\n",
       "      <td>@user-li3hn3lw6q</td>\n",
       "      <td>AI의 능력을 모두의 능력으로 만드는 기업 하이퍼오토메이션 엑셀레이터 삼성SDS  ...</td>\n",
       "      <td>2024-02-29 06:34:22</td>\n",
       "      <td>LABEL_1</td>\n",
       "    </tr>\n",
       "    <tr>\n",
       "      <th>3</th>\n",
       "      <td>@user-jc6zw1gf9u</td>\n",
       "      <td>AI시대 오피스라이프 오 멋지네요 삼성 화이팅 노력한데로 이뤄지는 밝은 미래를 꿈꾸...</td>\n",
       "      <td>2024-02-29 06:34:22</td>\n",
       "      <td>LABEL_0</td>\n",
       "    </tr>\n",
       "    <tr>\n",
       "      <th>4</th>\n",
       "      <td>@humavv</td>\n",
       "      <td>때와장소를 가리지않는다딱 맞는표현이네요AI는 어디에든 무궁무진한 기능인것같아요삼성S...</td>\n",
       "      <td>2024-02-29 06:34:22</td>\n",
       "      <td>LABEL_1</td>\n",
       "    </tr>\n",
       "  </tbody>\n",
       "</table>\n",
       "</div>"
      ],
      "text/plain": [
       "             author                                            comment  \\\n",
       "0       @SAMSUNGSDS   채널 구독 EVENT AI의 능력을 모두의 능력으로 만드는 기업 하이퍼오토메이션 ...   \n",
       "1  @user-pw3gk2vn5e  삼성SDS의 생성형 AI 서비스가 오피스와 우리의 라이프에 어떤 새바람을 일으킬지너...   \n",
       "2  @user-li3hn3lw6q  AI의 능력을 모두의 능력으로 만드는 기업 하이퍼오토메이션 엑셀레이터 삼성SDS  ...   \n",
       "3  @user-jc6zw1gf9u  AI시대 오피스라이프 오 멋지네요 삼성 화이팅 노력한데로 이뤄지는 밝은 미래를 꿈꾸...   \n",
       "4           @humavv  때와장소를 가리지않는다딱 맞는표현이네요AI는 어디에든 무궁무진한 기능인것같아요삼성S...   \n",
       "\n",
       "                  date sentiment_class  \n",
       "0  2024-01-31 06:34:22         LABEL_1  \n",
       "1  2024-02-29 06:34:22         LABEL_1  \n",
       "2  2024-02-29 06:34:22         LABEL_1  \n",
       "3  2024-02-29 06:34:22         LABEL_0  \n",
       "4  2024-02-29 06:34:22         LABEL_1  "
      ]
     },
     "execution_count": 50,
     "metadata": {},
     "output_type": "execute_result"
    }
   ],
   "source": [
    "df.to_csv(\"youtube_reviews_classification.csv\", index=False)\n",
    "df = pd.read_csv(\"youtube_reviews_classification.csv\")\n",
    "df.head()"
   ]
  },
  {
   "cell_type": "code",
   "execution_count": 52,
   "metadata": {},
   "outputs": [
    {
     "data": {
      "image/png": "[encoded data removed]",
      "text/plain": [
       "<Figure size 1000x300 with 1 Axes>"
      ]
     },
     "metadata": {},
     "output_type": "display_data"
    }
   ],
   "source": [
    "# 감성 분석 결과를 막대 그래프로 비교\n",
    "import seaborn as sns\n",
    "plt.figure(figsize=(10, 3))\n",
    "sns.countplot(x='sentiment_class', data=df)\n",
    "plt.show()"
   ]
  },
  {
   "cell_type": "code",
   "execution_count": 53,
   "metadata": {},
   "outputs": [
    {
     "data": {
      "text/html": [
       "<div>\n",
       "<style scoped>\n",
       "    .dataframe tbody tr th:only-of-type {\n",
       "        vertical-align: middle;\n",
       "    }\n",
       "\n",
       "    .dataframe tbody tr th {\n",
       "        vertical-align: top;\n",
       "    }\n",
       "\n",
       "    .dataframe thead th {\n",
       "        text-align: right;\n",
       "    }\n",
       "</style>\n",
       "<table border=\"1\" class=\"dataframe\">\n",
       "  <thead>\n",
       "    <tr style=\"text-align: right;\">\n",
       "      <th></th>\n",
       "      <th>author</th>\n",
       "      <th>comment</th>\n",
       "      <th>date</th>\n",
       "      <th>sentiment_class</th>\n",
       "    </tr>\n",
       "  </thead>\n",
       "  <tbody>\n",
       "    <tr>\n",
       "      <th>83</th>\n",
       "      <td>@rookiek9754</td>\n",
       "      <td>이래라 저래라 이랬다 저랬다 깜박 꿈뻑 뽜샤 퐈와아아아아브릭스 부뤼튀 귀욥</td>\n",
       "      <td>2024-01-31 06:34:22</td>\n",
       "      <td>LABEL_2</td>\n",
       "    </tr>\n",
       "    <tr>\n",
       "      <th>121</th>\n",
       "      <td>@user-oo1kq9hk5m</td>\n",
       "      <td>AI시대가 오고 있네요세상이 너무 빨리 변화되어정신이 없습니다</td>\n",
       "      <td>2024-01-31 06:34:22</td>\n",
       "      <td>LABEL_2</td>\n",
       "    </tr>\n",
       "    <tr>\n",
       "      <th>267</th>\n",
       "      <td>@rounlee4873</td>\n",
       "      <td>정교한 필터링으로 정말 너무나 많은 부정확하고 도움 안 되는 인터넷 세상에서 필요한...</td>\n",
       "      <td>2024-02-29 06:34:22</td>\n",
       "      <td>LABEL_2</td>\n",
       "    </tr>\n",
       "    <tr>\n",
       "      <th>294</th>\n",
       "      <td>@bumjunyoo1359</td>\n",
       "      <td>오 진짜 이렇게 되나요 그럼 우리 회사도</td>\n",
       "      <td>2024-01-31 06:34:22</td>\n",
       "      <td>LABEL_2</td>\n",
       "    </tr>\n",
       "    <tr>\n",
       "      <th>399</th>\n",
       "      <td>@user-ho1qb7sr7j</td>\n",
       "      <td>에이 아이</td>\n",
       "      <td>2024-02-29 06:34:23</td>\n",
       "      <td>LABEL_2</td>\n",
       "    </tr>\n",
       "    <tr>\n",
       "      <th>431</th>\n",
       "      <td>@user-rl9ns5qb4o</td>\n",
       "      <td>광고에 나온 해줘 해줘 하는 분들 별로 하는 일 없어보이는데 곧 짤리겠죠 ㅋㅋ</td>\n",
       "      <td>2024-02-29 06:34:23</td>\n",
       "      <td>LABEL_2</td>\n",
       "    </tr>\n",
       "    <tr>\n",
       "      <th>442</th>\n",
       "      <td>@sleeping-gypsy</td>\n",
       "      <td>ㅎㅎ 나도 뻔뻔하게 별걸 다물어보고 이래라저래라 이랬다저랬다 해야겠다</td>\n",
       "      <td>2024-02-29 06:34:23</td>\n",
       "      <td>LABEL_2</td>\n",
       "    </tr>\n",
       "    <tr>\n",
       "      <th>444</th>\n",
       "      <td>@i8071625</td>\n",
       "      <td>싱기하다</td>\n",
       "      <td>2024-01-31 06:34:23</td>\n",
       "      <td>LABEL_2</td>\n",
       "    </tr>\n",
       "  </tbody>\n",
       "</table>\n",
       "</div>"
      ],
      "text/plain": [
       "               author                                            comment  \\\n",
       "83       @rookiek9754          이래라 저래라 이랬다 저랬다 깜박 꿈뻑 뽜샤 퐈와아아아아브릭스 부뤼튀 귀욥   \n",
       "121  @user-oo1kq9hk5m                 AI시대가 오고 있네요세상이 너무 빨리 변화되어정신이 없습니다   \n",
       "267      @rounlee4873  정교한 필터링으로 정말 너무나 많은 부정확하고 도움 안 되는 인터넷 세상에서 필요한...   \n",
       "294    @bumjunyoo1359                             오 진짜 이렇게 되나요 그럼 우리 회사도   \n",
       "399  @user-ho1qb7sr7j                                              에이 아이   \n",
       "431  @user-rl9ns5qb4o        광고에 나온 해줘 해줘 하는 분들 별로 하는 일 없어보이는데 곧 짤리겠죠 ㅋㅋ   \n",
       "442   @sleeping-gypsy             ㅎㅎ 나도 뻔뻔하게 별걸 다물어보고 이래라저래라 이랬다저랬다 해야겠다   \n",
       "444         @i8071625                                               싱기하다   \n",
       "\n",
       "                    date sentiment_class  \n",
       "83   2024-01-31 06:34:22         LABEL_2  \n",
       "121  2024-01-31 06:34:22         LABEL_2  \n",
       "267  2024-02-29 06:34:22         LABEL_2  \n",
       "294  2024-01-31 06:34:22         LABEL_2  \n",
       "399  2024-02-29 06:34:23         LABEL_2  \n",
       "431  2024-02-29 06:34:23         LABEL_2  \n",
       "442  2024-02-29 06:34:23         LABEL_2  \n",
       "444  2024-01-31 06:34:23         LABEL_2  "
      ]
     },
     "execution_count": 53,
     "metadata": {},
     "output_type": "execute_result"
    }
   ],
   "source": [
    "# 부정 감성을 갖고 있는 데이터를 확인 \n",
    "df[df['sentiment_class']==\"LABEL_2\"]"
   ]
  },
  {
   "cell_type": "code",
   "execution_count": 54,
   "metadata": {},
   "outputs": [
    {
     "name": "stderr",
     "output_type": "stream",
     "text": [
      "C:\\Users\\minns\\AppData\\Roaming\\Python\\Python311\\site-packages\\IPython\\core\\pylabtools.py:170: UserWarning: Glyph 47532 (\\N{HANGUL SYLLABLE RI}) missing from current font.\n",
      "  fig.canvas.print_figure(bytes_io, **kw)\n",
      "C:\\Users\\minns\\AppData\\Roaming\\Python\\Python311\\site-packages\\IPython\\core\\pylabtools.py:170: UserWarning: Glyph 48624 (\\N{HANGUL SYLLABLE BYU}) missing from current font.\n",
      "  fig.canvas.print_figure(bytes_io, **kw)\n",
      "C:\\Users\\minns\\AppData\\Roaming\\Python\\Python311\\site-packages\\IPython\\core\\pylabtools.py:170: UserWarning: Glyph 49688 (\\N{HANGUL SYLLABLE SU}) missing from current font.\n",
      "  fig.canvas.print_figure(bytes_io, **kw)\n",
      "C:\\Users\\minns\\AppData\\Roaming\\Python\\Python311\\site-packages\\IPython\\core\\pylabtools.py:170: UserWarning: Glyph 50900 (\\N{HANGUL SYLLABLE WEOL}) missing from current font.\n",
      "  fig.canvas.print_figure(bytes_io, **kw)\n",
      "C:\\Users\\minns\\AppData\\Roaming\\Python\\Python311\\site-packages\\IPython\\core\\pylabtools.py:170: UserWarning: Glyph 48324 (\\N{HANGUL SYLLABLE BYEOL}) missing from current font.\n",
      "  fig.canvas.print_figure(bytes_io, **kw)\n",
      "C:\\Users\\minns\\AppData\\Roaming\\Python\\Python311\\site-packages\\IPython\\core\\pylabtools.py:170: UserWarning: Glyph 44048 (\\N{HANGUL SYLLABLE GAM}) missing from current font.\n",
      "  fig.canvas.print_figure(bytes_io, **kw)\n",
      "C:\\Users\\minns\\AppData\\Roaming\\Python\\Python311\\site-packages\\IPython\\core\\pylabtools.py:170: UserWarning: Glyph 49457 (\\N{HANGUL SYLLABLE SEONG}) missing from current font.\n",
      "  fig.canvas.print_figure(bytes_io, **kw)\n",
      "C:\\Users\\minns\\AppData\\Roaming\\Python\\Python311\\site-packages\\IPython\\core\\pylabtools.py:170: UserWarning: Glyph 48516 (\\N{HANGUL SYLLABLE BUN}) missing from current font.\n",
      "  fig.canvas.print_figure(bytes_io, **kw)\n",
      "C:\\Users\\minns\\AppData\\Roaming\\Python\\Python311\\site-packages\\IPython\\core\\pylabtools.py:170: UserWarning: Glyph 49437 (\\N{HANGUL SYLLABLE SEOG}) missing from current font.\n",
      "  fig.canvas.print_figure(bytes_io, **kw)\n",
      "C:\\Users\\minns\\AppData\\Roaming\\Python\\Python311\\site-packages\\IPython\\core\\pylabtools.py:170: UserWarning: Glyph 44208 (\\N{HANGUL SYLLABLE GYEOL}) missing from current font.\n",
      "  fig.canvas.print_figure(bytes_io, **kw)\n",
      "C:\\Users\\minns\\AppData\\Roaming\\Python\\Python311\\site-packages\\IPython\\core\\pylabtools.py:170: UserWarning: Glyph 44284 (\\N{HANGUL SYLLABLE GWA}) missing from current font.\n",
      "  fig.canvas.print_figure(bytes_io, **kw)\n",
      "C:\\Users\\minns\\AppData\\Roaming\\Python\\Python311\\site-packages\\IPython\\core\\pylabtools.py:170: UserWarning: Glyph 45216 (\\N{HANGUL SYLLABLE NAL}) missing from current font.\n",
      "  fig.canvas.print_figure(bytes_io, **kw)\n",
      "C:\\Users\\minns\\AppData\\Roaming\\Python\\Python311\\site-packages\\IPython\\core\\pylabtools.py:170: UserWarning: Glyph 51676 (\\N{HANGUL SYLLABLE JJA}) missing from current font.\n",
      "  fig.canvas.print_figure(bytes_io, **kw)\n"
     ]
    },
    {
     "data": {
      "image/png": "[encoded data removed]",
      "text/plain": [
       "<Figure size 1000x500 with 1 Axes>"
      ]
     },
     "metadata": {},
     "output_type": "display_data"
    }
   ],
   "source": [
    "### 시간의 변화에 따른 감성 분석 변화\n",
    "\n",
    "# 'date' 열을 datetime 형태로 변환\n",
    "df['date'] = pd.to_datetime(df['date'])\n",
    "\n",
    "# 월별로 감성 클래스의 빈도 계산\n",
    "df['month'] = df['date'].dt.month  \n",
    "grouped_data = df.groupby(['month', 'sentiment_class']).size().reset_index(name='counts')\n",
    "\n",
    "# Pivot Table 생성\n",
    "pivot_data = grouped_data.pivot(index='month', columns='sentiment_class', values='counts').fillna(0)\n",
    "\n",
    "# 시각화\n",
    "pivot_data.plot(kind='bar', stacked=True, figsize=(10, 5))\n",
    "plt.title('월별 감성 분석 결과')\n",
    "plt.xlabel('날짜')\n",
    "plt.ylabel('리뷰 수')\n",
    "plt.show()"
   ]
  },
  {
   "cell_type": "markdown",
   "metadata": {},
   "source": [
    "## 랭체인을 활용한 LLM 감성분석 (분류)"
   ]
  },
  {
   "cell_type": "code",
   "execution_count": 55,
   "metadata": {},
   "outputs": [
    {
     "name": "stdout",
     "output_type": "stream",
     "text": [
      "review: 매우 유익했습니다!\n",
      "긍정\n"
     ]
    }
   ],
   "source": [
    "from langchain_core.prompts.few_shot import FewShotPromptTemplate\n",
    "from langchain_core.prompts.prompt import PromptTemplate\n",
    "\n",
    "# 리뷰 예시와 해당 리뷰의 감성(긍정, 부정, 중립)을 정의\n",
    "examples = [\n",
    "    {\n",
    "        \"review\": \"매우 유익했습니다!\",\n",
    "        \"sentiment\": \"긍정\",\n",
    "    },\n",
    "    {\n",
    "        \"review\": \"매우 실망스러웠어요.\",\n",
    "        \"sentiment\": \"부정\",\n",
    "    },\n",
    "    {\n",
    "        \"review\": \"만족스러웠습니다.\",\n",
    "        \"sentiment\": \"긍정\",\n",
    "    },\n",
    "    {\n",
    "        \"review\": \"사용이 간편해서 좋았습니다.\",\n",
    "        \"sentiment\": \"긍정\",\n",
    "    },\n",
    "    {\n",
    "        \"review\": \"내용이 조금 지루했지만, 정보는 유용했습니다.\",\n",
    "        \"sentiment\": \"중립\",\n",
    "    },\n",
    "    {\n",
    "        \"review\": \"예상보다 참석자가 많아서 질문을 충분히 하지 못했습니다.\",\n",
    "        \"sentiment\": \"부정\",\n",
    "    },\n",
    "]\n",
    "\n",
    "\n",
    "# Few-shot 학습을 위한 템플릿 정의\n",
    "example_prompt = PromptTemplate(\n",
    "    input_variables=[\"review\", \"sentiment\"], template=\"review: {review}\\n{sentiment}\"\n",
    ")\n",
    "\n",
    "print(example_prompt.format(**examples[0]))"
   ]
  },
  {
   "cell_type": "code",
   "execution_count": 56,
   "metadata": {},
   "outputs": [
    {
     "name": "stdout",
     "output_type": "stream",
     "text": [
      "review: 매우 유익했습니다!\n",
      "긍정\n",
      "\n",
      "review: 매우 실망스러웠어요.\n",
      "부정\n",
      "\n",
      "review: 만족스러웠습니다.\n",
      "긍정\n",
      "\n",
      "review: 사용이 간편해서 좋았습니다.\n",
      "긍정\n",
      "\n",
      "review: 내용이 조금 지루했지만, 정보는 유용했습니다.\n",
      "중립\n",
      "\n",
      "review: 예상보다 참석자가 많아서 질문을 충분히 하지 못했습니다.\n",
      "부정\n",
      "\n",
      "review: 이벤트 내용은 좋은데 기간이 너무 짧았어요.\n"
     ]
    }
   ],
   "source": [
    "prompt = FewShotPromptTemplate(\n",
    "    examples=examples,\n",
    "    example_prompt=example_prompt,\n",
    "    suffix=\"review: {input}\",\n",
    "    input_variables=[\"input\"],\n",
    ")\n",
    "\n",
    "# 새 리뷰에 대한 감성 분석 예제 생성\n",
    "new_review = \"이벤트 내용은 좋은데 기간이 너무 짧았어요.\"\n",
    "print(prompt.format(input=new_review))"
   ]
  },
  {
   "cell_type": "code",
   "execution_count": 66,
   "metadata": {},
   "outputs": [
    {
     "data": {
      "text/plain": [
       "AIMessage(content='부정', response_metadata={'token_usage': {'completion_tokens': 2, 'prompt_tokens': 175, 'total_tokens': 177}, 'model_name': 'gpt-3.5-turbo-0125', 'system_fingerprint': None, 'finish_reason': 'stop', 'logprobs': None}, id='run-2b212409-9f0c-4ecf-b9c1-9e2c3556935f-0')"
      ]
     },
     "execution_count": 66,
     "metadata": {},
     "output_type": "execute_result"
    }
   ],
   "source": [
    "# LLM\n",
    "from langchain_openai import ChatOpenAI\n",
    "llm = ChatOpenAI(temperature=0, model=\"gpt-3.5-turbo-0125\",\n",
    "                 api_key=OPENAI_API_KEY)\n",
    "\n",
    "chain = prompt | llm\n",
    "\n",
    "response = chain.invoke(new_review)\n",
    "\n",
    "response"
   ]
  },
  {
   "cell_type": "code",
   "execution_count": 67,
   "metadata": {},
   "outputs": [
    {
     "data": {
      "text/plain": [
       "'부정'"
      ]
     },
     "execution_count": 67,
     "metadata": {},
     "output_type": "execute_result"
    }
   ],
   "source": [
    "sentiment = response.content\n",
    "sentiment"
   ]
  },
  {
   "cell_type": "code",
   "execution_count": 68,
   "metadata": {},
   "outputs": [
    {
     "data": {
      "text/html": [
       "<div>\n",
       "<style scoped>\n",
       "    .dataframe tbody tr th:only-of-type {\n",
       "        vertical-align: middle;\n",
       "    }\n",
       "\n",
       "    .dataframe tbody tr th {\n",
       "        vertical-align: top;\n",
       "    }\n",
       "\n",
       "    .dataframe thead th {\n",
       "        text-align: right;\n",
       "    }\n",
       "</style>\n",
       "<table border=\"1\" class=\"dataframe\">\n",
       "  <thead>\n",
       "    <tr style=\"text-align: right;\">\n",
       "      <th></th>\n",
       "      <th>author</th>\n",
       "      <th>comment</th>\n",
       "      <th>date</th>\n",
       "      <th>sentiment_class</th>\n",
       "      <th>month</th>\n",
       "    </tr>\n",
       "  </thead>\n",
       "  <tbody>\n",
       "    <tr>\n",
       "      <th>0</th>\n",
       "      <td>@SAMSUNGSDS</td>\n",
       "      <td>채널 구독 EVENT AI의 능력을 모두의 능력으로 만드는 기업 하이퍼오토메이션 ...</td>\n",
       "      <td>2024-01-31 06:34:22</td>\n",
       "      <td>LABEL_1</td>\n",
       "      <td>1</td>\n",
       "    </tr>\n",
       "    <tr>\n",
       "      <th>1</th>\n",
       "      <td>@user-pw3gk2vn5e</td>\n",
       "      <td>삼성SDS의 생성형 AI 서비스가 오피스와 우리의 라이프에 어떤 새바람을 일으킬지너...</td>\n",
       "      <td>2024-02-29 06:34:22</td>\n",
       "      <td>LABEL_1</td>\n",
       "      <td>2</td>\n",
       "    </tr>\n",
       "    <tr>\n",
       "      <th>2</th>\n",
       "      <td>@user-li3hn3lw6q</td>\n",
       "      <td>AI의 능력을 모두의 능력으로 만드는 기업 하이퍼오토메이션 엑셀레이터 삼성SDS  ...</td>\n",
       "      <td>2024-02-29 06:34:22</td>\n",
       "      <td>LABEL_1</td>\n",
       "      <td>2</td>\n",
       "    </tr>\n",
       "    <tr>\n",
       "      <th>3</th>\n",
       "      <td>@user-jc6zw1gf9u</td>\n",
       "      <td>AI시대 오피스라이프 오 멋지네요 삼성 화이팅 노력한데로 이뤄지는 밝은 미래를 꿈꾸...</td>\n",
       "      <td>2024-02-29 06:34:22</td>\n",
       "      <td>LABEL_0</td>\n",
       "      <td>2</td>\n",
       "    </tr>\n",
       "    <tr>\n",
       "      <th>4</th>\n",
       "      <td>@humavv</td>\n",
       "      <td>때와장소를 가리지않는다딱 맞는표현이네요AI는 어디에든 무궁무진한 기능인것같아요삼성S...</td>\n",
       "      <td>2024-02-29 06:34:22</td>\n",
       "      <td>LABEL_1</td>\n",
       "      <td>2</td>\n",
       "    </tr>\n",
       "  </tbody>\n",
       "</table>\n",
       "</div>"
      ],
      "text/plain": [
       "             author                                            comment  \\\n",
       "0       @SAMSUNGSDS   채널 구독 EVENT AI의 능력을 모두의 능력으로 만드는 기업 하이퍼오토메이션 ...   \n",
       "1  @user-pw3gk2vn5e  삼성SDS의 생성형 AI 서비스가 오피스와 우리의 라이프에 어떤 새바람을 일으킬지너...   \n",
       "2  @user-li3hn3lw6q  AI의 능력을 모두의 능력으로 만드는 기업 하이퍼오토메이션 엑셀레이터 삼성SDS  ...   \n",
       "3  @user-jc6zw1gf9u  AI시대 오피스라이프 오 멋지네요 삼성 화이팅 노력한데로 이뤄지는 밝은 미래를 꿈꾸...   \n",
       "4           @humavv  때와장소를 가리지않는다딱 맞는표현이네요AI는 어디에든 무궁무진한 기능인것같아요삼성S...   \n",
       "\n",
       "                 date sentiment_class  month  \n",
       "0 2024-01-31 06:34:22         LABEL_1      1  \n",
       "1 2024-02-29 06:34:22         LABEL_1      2  \n",
       "2 2024-02-29 06:34:22         LABEL_1      2  \n",
       "3 2024-02-29 06:34:22         LABEL_0      2  \n",
       "4 2024-02-29 06:34:22         LABEL_1      2  "
      ]
     },
     "execution_count": 68,
     "metadata": {},
     "output_type": "execute_result"
    }
   ],
   "source": [
    "# 5개의 샘플 데이터\n",
    "test_df = df.head()\n",
    "test_df"
   ]
  },
  {
   "cell_type": "code",
   "execution_count": 69,
   "metadata": {},
   "outputs": [
    {
     "data": {
      "text/html": [
       "<div>\n",
       "<style scoped>\n",
       "    .dataframe tbody tr th:only-of-type {\n",
       "        vertical-align: middle;\n",
       "    }\n",
       "\n",
       "    .dataframe tbody tr th {\n",
       "        vertical-align: top;\n",
       "    }\n",
       "\n",
       "    .dataframe thead th {\n",
       "        text-align: right;\n",
       "    }\n",
       "</style>\n",
       "<table border=\"1\" class=\"dataframe\">\n",
       "  <thead>\n",
       "    <tr style=\"text-align: right;\">\n",
       "      <th></th>\n",
       "      <th>author</th>\n",
       "      <th>comment</th>\n",
       "      <th>date</th>\n",
       "      <th>sentiment_class</th>\n",
       "      <th>month</th>\n",
       "      <th>sentiment_llm</th>\n",
       "    </tr>\n",
       "  </thead>\n",
       "  <tbody>\n",
       "    <tr>\n",
       "      <th>0</th>\n",
       "      <td>@SAMSUNGSDS</td>\n",
       "      <td>채널 구독 EVENT AI의 능력을 모두의 능력으로 만드는 기업 하이퍼오토메이션 ...</td>\n",
       "      <td>2024-01-31 06:34:22</td>\n",
       "      <td>LABEL_1</td>\n",
       "      <td>1</td>\n",
       "      <td>홍보성 글이므로 리뷰로 간주되지 않습니다.</td>\n",
       "    </tr>\n",
       "    <tr>\n",
       "      <th>1</th>\n",
       "      <td>@user-pw3gk2vn5e</td>\n",
       "      <td>삼성SDS의 생성형 AI 서비스가 오피스와 우리의 라이프에 어떤 새바람을 일으킬지너...</td>\n",
       "      <td>2024-02-29 06:34:22</td>\n",
       "      <td>LABEL_1</td>\n",
       "      <td>2</td>\n",
       "      <td>긍정</td>\n",
       "    </tr>\n",
       "    <tr>\n",
       "      <th>2</th>\n",
       "      <td>@user-li3hn3lw6q</td>\n",
       "      <td>AI의 능력을 모두의 능력으로 만드는 기업 하이퍼오토메이션 엑셀레이터 삼성SDS  ...</td>\n",
       "      <td>2024-02-29 06:34:22</td>\n",
       "      <td>LABEL_1</td>\n",
       "      <td>2</td>\n",
       "      <td>긍정</td>\n",
       "    </tr>\n",
       "    <tr>\n",
       "      <th>3</th>\n",
       "      <td>@user-jc6zw1gf9u</td>\n",
       "      <td>AI시대 오피스라이프 오 멋지네요 삼성 화이팅 노력한데로 이뤄지는 밝은 미래를 꿈꾸...</td>\n",
       "      <td>2024-02-29 06:34:22</td>\n",
       "      <td>LABEL_0</td>\n",
       "      <td>2</td>\n",
       "      <td>긍정</td>\n",
       "    </tr>\n",
       "    <tr>\n",
       "      <th>4</th>\n",
       "      <td>@humavv</td>\n",
       "      <td>때와장소를 가리지않는다딱 맞는표현이네요AI는 어디에든 무궁무진한 기능인것같아요삼성S...</td>\n",
       "      <td>2024-02-29 06:34:22</td>\n",
       "      <td>LABEL_1</td>\n",
       "      <td>2</td>\n",
       "      <td>긍정</td>\n",
       "    </tr>\n",
       "  </tbody>\n",
       "</table>\n",
       "</div>"
      ],
      "text/plain": [
       "             author                                            comment  \\\n",
       "0       @SAMSUNGSDS   채널 구독 EVENT AI의 능력을 모두의 능력으로 만드는 기업 하이퍼오토메이션 ...   \n",
       "1  @user-pw3gk2vn5e  삼성SDS의 생성형 AI 서비스가 오피스와 우리의 라이프에 어떤 새바람을 일으킬지너...   \n",
       "2  @user-li3hn3lw6q  AI의 능력을 모두의 능력으로 만드는 기업 하이퍼오토메이션 엑셀레이터 삼성SDS  ...   \n",
       "3  @user-jc6zw1gf9u  AI시대 오피스라이프 오 멋지네요 삼성 화이팅 노력한데로 이뤄지는 밝은 미래를 꿈꾸...   \n",
       "4           @humavv  때와장소를 가리지않는다딱 맞는표현이네요AI는 어디에든 무궁무진한 기능인것같아요삼성S...   \n",
       "\n",
       "                 date sentiment_class  month            sentiment_llm  \n",
       "0 2024-01-31 06:34:22         LABEL_1      1  홍보성 글이므로 리뷰로 간주되지 않습니다.  \n",
       "1 2024-02-29 06:34:22         LABEL_1      2                       긍정  \n",
       "2 2024-02-29 06:34:22         LABEL_1      2                       긍정  \n",
       "3 2024-02-29 06:34:22         LABEL_0      2                       긍정  \n",
       "4 2024-02-29 06:34:22         LABEL_1      2                       긍정  "
      ]
     },
     "execution_count": 69,
     "metadata": {},
     "output_type": "execute_result"
    }
   ],
   "source": [
    "# 모든 리뷰에 대해서 감성 분석을 적용해서 새로운 열에 추가하는 함수\n",
    "def analyze_sentiment_llm(review):\n",
    "    response = chain.invoke(review)\n",
    "    return response.content\n",
    "\n",
    "test_df['sentiment_llm'] = test_df['comment'].apply(analyze_sentiment_llm)\n",
    "test_df"
   ]
  },
  {
   "cell_type": "markdown",
   "metadata": {},
   "source": [
    "## 랭체인을 활용한 LLM 감성분석 (평점 예측)"
   ]
  },
  {
   "cell_type": "code",
   "execution_count": 70,
   "metadata": {},
   "outputs": [
    {
     "data": {
      "text/plain": [
       "'Output: Positive (Score: 1.0)'"
      ]
     },
     "execution_count": 70,
     "metadata": {},
     "output_type": "execute_result"
    }
   ],
   "source": [
    "from langchain_core.prompts.prompt import PromptTemplate\n",
    "from langchain_openai import ChatOpenAI\n",
    "from langchain_core.output_parsers import StrOutputParser\n",
    "\n",
    "\n",
    "llm = ChatOpenAI(temperature=0, model=\"gpt-3.5-turbo-0125\",\n",
    "                 api_key=OPENAI_API_KEY)\n",
    "\n",
    "\n",
    "template = \"\"\"\n",
    "Classify the given sentiment of the given text into positive or negative classes and provide a relevant score.\n",
    "The sentiment score should be between 0.0 and 1.0, where 0.0 indicates a negative sentiment and 1.0 indicates a positive sentiment.\n",
    "\n",
    "Input: {input}\n",
    "\n",
    "Output: sentiment_label (Score: sentiment_score)\n",
    "\"\"\"\n",
    "\n",
    "prompt = PromptTemplate.from_template(template)\n",
    "output_parser = StrOutputParser()\n",
    "\n",
    "# LCEL chaining\n",
    "chain = prompt | llm | output_parser\n",
    "\n",
    "# chain 호출\n",
    "response = chain.invoke({\"input\": \"최고예요\"})\n",
    "\n",
    "# 결과 확인\n",
    "response"
   ]
  },
  {
   "cell_type": "code",
   "execution_count": 71,
   "metadata": {},
   "outputs": [
    {
     "data": {
      "text/plain": [
       "'1.0'"
      ]
     },
     "execution_count": 71,
     "metadata": {},
     "output_type": "execute_result"
    }
   ],
   "source": [
    "re.search(r\"\\d+\\.\\d+\", response).group()"
   ]
  },
  {
   "cell_type": "code",
   "execution_count": 72,
   "metadata": {},
   "outputs": [
    {
     "data": {
      "text/plain": [
       "'1.0'"
      ]
     },
     "execution_count": 72,
     "metadata": {},
     "output_type": "execute_result"
    }
   ],
   "source": [
    "# 감정 분석 결과를 반환하는 함수 정의\n",
    "def analyze_sentiment_score_llm(review):\n",
    "    \"\"\"\n",
    "    리뷰에 대한 감정 분석 결과를 0~1 사이의 값으로 변환하는 함수\n",
    "    Args:\n",
    "        review: 리뷰 텍스트\n",
    "    Returns:\n",
    "        float: 감정 분석 결과\n",
    "    \"\"\"\n",
    "    template = \"\"\"\n",
    "    Classify the given sentiment of the given text into positive or negative classes and provide a relevant score.\n",
    "    The sentiment score should be between 0.0 and 1.0, where 0.0 indicates a negative sentiment and 1.0 indicates a positive sentiment.\n",
    "\n",
    "    Input: {input}\n",
    "\n",
    "    Output: sentiment_label (Score: sentiment_score)\n",
    "    \"\"\"\n",
    "\n",
    "    prompt = PromptTemplate.from_template(template)\n",
    "    output_parser = StrOutputParser()\n",
    "\n",
    "    llm = ChatOpenAI(temperature=0, model=\"gpt-3.5-turbo-0125\",\n",
    "                     api_key=OPENAI_API_KEY)\n",
    "\n",
    "    chain = prompt | llm | output_parser\n",
    "\n",
    "    response = chain.invoke({\"input\": review})\n",
    "    \n",
    "    sentiment_score = re.search(r\"\\d+\\.\\d+\", response).group()\n",
    "    \n",
    "    return sentiment_score\n",
    "\n",
    "\n",
    "# 함수 실행\n",
    "sentiment_score = analyze_sentiment_score_llm(\"최고예요\")\n",
    "sentiment_score"
   ]
  },
  {
   "cell_type": "code",
   "execution_count": 73,
   "metadata": {},
   "outputs": [
    {
     "data": {
      "text/plain": [
       "'0.2'"
      ]
     },
     "execution_count": 73,
     "metadata": {},
     "output_type": "execute_result"
    }
   ],
   "source": [
    "# 함수 실행\n",
    "sentiment_score = analyze_sentiment_score_llm(\"별로예요\")\n",
    "sentiment_score"
   ]
  },
  {
   "cell_type": "code",
   "execution_count": 74,
   "metadata": {},
   "outputs": [
    {
     "data": {
      "text/plain": [
       "'0.3'"
      ]
     },
     "execution_count": 74,
     "metadata": {},
     "output_type": "execute_result"
    }
   ],
   "source": [
    "# 함수 실행\n",
    "sentiment_score = analyze_sentiment_score_llm(\"보통 수준이에요\")\n",
    "sentiment_score"
   ]
  },
  {
   "cell_type": "code",
   "execution_count": 75,
   "metadata": {},
   "outputs": [
    {
     "data": {
      "text/html": [
       "<div>\n",
       "<style scoped>\n",
       "    .dataframe tbody tr th:only-of-type {\n",
       "        vertical-align: middle;\n",
       "    }\n",
       "\n",
       "    .dataframe tbody tr th {\n",
       "        vertical-align: top;\n",
       "    }\n",
       "\n",
       "    .dataframe thead th {\n",
       "        text-align: right;\n",
       "    }\n",
       "</style>\n",
       "<table border=\"1\" class=\"dataframe\">\n",
       "  <thead>\n",
       "    <tr style=\"text-align: right;\">\n",
       "      <th></th>\n",
       "      <th>author</th>\n",
       "      <th>comment</th>\n",
       "      <th>date</th>\n",
       "      <th>sentiment_class</th>\n",
       "      <th>month</th>\n",
       "      <th>sentiment_llm</th>\n",
       "      <th>sentiment_llm_socre</th>\n",
       "    </tr>\n",
       "  </thead>\n",
       "  <tbody>\n",
       "    <tr>\n",
       "      <th>0</th>\n",
       "      <td>@SAMSUNGSDS</td>\n",
       "      <td>채널 구독 EVENT AI의 능력을 모두의 능력으로 만드는 기업 하이퍼오토메이션 ...</td>\n",
       "      <td>2024-01-31 06:34:22</td>\n",
       "      <td>LABEL_1</td>\n",
       "      <td>1</td>\n",
       "      <td>홍보성 글이므로 리뷰로 간주되지 않습니다.</td>\n",
       "      <td>1.0</td>\n",
       "    </tr>\n",
       "    <tr>\n",
       "      <th>1</th>\n",
       "      <td>@user-pw3gk2vn5e</td>\n",
       "      <td>삼성SDS의 생성형 AI 서비스가 오피스와 우리의 라이프에 어떤 새바람을 일으킬지너...</td>\n",
       "      <td>2024-02-29 06:34:22</td>\n",
       "      <td>LABEL_1</td>\n",
       "      <td>2</td>\n",
       "      <td>긍정</td>\n",
       "      <td>0.95</td>\n",
       "    </tr>\n",
       "    <tr>\n",
       "      <th>2</th>\n",
       "      <td>@user-li3hn3lw6q</td>\n",
       "      <td>AI의 능력을 모두의 능력으로 만드는 기업 하이퍼오토메이션 엑셀레이터 삼성SDS  ...</td>\n",
       "      <td>2024-02-29 06:34:22</td>\n",
       "      <td>LABEL_1</td>\n",
       "      <td>2</td>\n",
       "      <td>긍정</td>\n",
       "      <td>1.0</td>\n",
       "    </tr>\n",
       "    <tr>\n",
       "      <th>3</th>\n",
       "      <td>@user-jc6zw1gf9u</td>\n",
       "      <td>AI시대 오피스라이프 오 멋지네요 삼성 화이팅 노력한데로 이뤄지는 밝은 미래를 꿈꾸...</td>\n",
       "      <td>2024-02-29 06:34:22</td>\n",
       "      <td>LABEL_0</td>\n",
       "      <td>2</td>\n",
       "      <td>긍정</td>\n",
       "      <td>0.9</td>\n",
       "    </tr>\n",
       "    <tr>\n",
       "      <th>4</th>\n",
       "      <td>@humavv</td>\n",
       "      <td>때와장소를 가리지않는다딱 맞는표현이네요AI는 어디에든 무궁무진한 기능인것같아요삼성S...</td>\n",
       "      <td>2024-02-29 06:34:22</td>\n",
       "      <td>LABEL_1</td>\n",
       "      <td>2</td>\n",
       "      <td>긍정</td>\n",
       "      <td>0.95</td>\n",
       "    </tr>\n",
       "  </tbody>\n",
       "</table>\n",
       "</div>"
      ],
      "text/plain": [
       "             author                                            comment  \\\n",
       "0       @SAMSUNGSDS   채널 구독 EVENT AI의 능력을 모두의 능력으로 만드는 기업 하이퍼오토메이션 ...   \n",
       "1  @user-pw3gk2vn5e  삼성SDS의 생성형 AI 서비스가 오피스와 우리의 라이프에 어떤 새바람을 일으킬지너...   \n",
       "2  @user-li3hn3lw6q  AI의 능력을 모두의 능력으로 만드는 기업 하이퍼오토메이션 엑셀레이터 삼성SDS  ...   \n",
       "3  @user-jc6zw1gf9u  AI시대 오피스라이프 오 멋지네요 삼성 화이팅 노력한데로 이뤄지는 밝은 미래를 꿈꾸...   \n",
       "4           @humavv  때와장소를 가리지않는다딱 맞는표현이네요AI는 어디에든 무궁무진한 기능인것같아요삼성S...   \n",
       "\n",
       "                 date sentiment_class  month            sentiment_llm  \\\n",
       "0 2024-01-31 06:34:22         LABEL_1      1  홍보성 글이므로 리뷰로 간주되지 않습니다.   \n",
       "1 2024-02-29 06:34:22         LABEL_1      2                       긍정   \n",
       "2 2024-02-29 06:34:22         LABEL_1      2                       긍정   \n",
       "3 2024-02-29 06:34:22         LABEL_0      2                       긍정   \n",
       "4 2024-02-29 06:34:22         LABEL_1      2                       긍정   \n",
       "\n",
       "  sentiment_llm_socre  \n",
       "0                 1.0  \n",
       "1                0.95  \n",
       "2                 1.0  \n",
       "3                 0.9  \n",
       "4                0.95  "
      ]
     },
     "execution_count": 75,
     "metadata": {},
     "output_type": "execute_result"
    }
   ],
   "source": [
    "test_df['sentiment_llm_socre'] = test_df['comment'].apply(analyze_sentiment_score_llm)\n",
    "test_df"
   ]
  },
  {
   "cell_type": "code",
   "execution_count": null,
   "metadata": {},
   "outputs": [],
   "source": []
  }
 ],
 "metadata": {
  "kernelspec": {
   "display_name": "Python 3",
   "language": "python",
   "name": "python3"
  },
  "language_info": {
   "codemirror_mode": {
    "name": "ipython",
    "version": 3
   },
   "file_extension": ".py",
   "mimetype": "text/x-python",
   "name": "python",
   "nbconvert_exporter": "python",
   "pygments_lexer": "ipython3",
   "version": "3.11.8"
  }
 },
 "nbformat": 4,
 "nbformat_minor": 4
}
