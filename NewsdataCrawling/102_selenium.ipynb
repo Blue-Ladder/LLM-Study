{
 "cells": [
  {
   "cell_type": "markdown",
   "metadata": {
    "id": "OlK44FRyPYaR"
   },
   "source": [
    "# Selenium - 동적 웹페이지 스크래핑"
   ]
  },
  {
   "cell_type": "code",
   "execution_count": 4,
   "metadata": {
    "id": "lFW8zdecPYaU",
    "outputId": "6135423b-48cd-45d4-b004-049a77337d90"
   },
   "outputs": [],
   "source": [
    "# Seleium 드라이버 생성\n",
    "from selenium import webdriver\n",
    "from selenium.webdriver.chrome.service import Service\n",
    "from webdriver_manager.chrome import ChromeDriverManager\n",
    "\n",
    "# Chrome 옵션 설정\n",
    "options = webdriver.ChromeOptions()\n",
    "# options.add_argument('--headless')  # 화면없이 실행\n",
    "\n",
    "# 드라이버 서비스 생성\n",
    "service = Service(ChromeDriverManager().install())\n",
    "\n",
    "# 웹 드라이버 초기화\n",
    "driver = webdriver.Chrome(service=service, options=options)"
   ]
  },
  {
   "cell_type": "markdown",
   "metadata": {},
   "source": [
    "## 뉴스 서비스에 접속"
   ]
  },
  {
   "cell_type": "code",
   "execution_count": 5,
   "metadata": {
    "id": "sTuUOrlePYaV"
   },
   "outputs": [],
   "source": [
    "# 뉴스 사이트\n",
    "url = \"https://news.daum.net/\"\n",
    "\n",
    "driver.get(url)"
   ]
  },
  {
   "cell_type": "code",
   "execution_count": 14,
   "metadata": {
    "id": "9zV4LKsEPYaW"
   },
   "outputs": [
    {
     "name": "stdout",
     "output_type": "stream",
     "text": [
      "title 태그 요소:  <title>다음뉴스 | 경제</title>\n",
      "title 태그 이름:  title\n",
      "title 태그 문자열:  다음뉴스 | 경제\n"
     ]
    }
   ],
   "source": [
    "# 페이지 소스 가져오기\n",
    "from bs4 import BeautifulSoup\n",
    "page_source = driver.page_source\n",
    "\n",
    "soup = BeautifulSoup(page_source, 'html.parser')\n",
    "\n",
    "# 태그 검색\n",
    "print('title 태그 요소: ', soup.title)\n",
    "print('title 태그 이름: ', soup.title.name)\n",
    "print('title 태그 문자열: ', soup.title.text)"
   ]
  },
  {
   "cell_type": "markdown",
   "metadata": {},
   "source": [
    "## 경제 카테고리를 선택"
   ]
  },
  {
   "cell_type": "code",
   "execution_count": 15,
   "metadata": {
    "id": "sb2mItsxPYaW"
   },
   "outputs": [
    {
     "data": {
      "text/plain": [
       "<selenium.webdriver.remote.webelement.WebElement (session=\"43c1bdf9446760cee7ef84b9d9ecaa83\", element=\"f.C08EBC2C93FACCFA2F8B071E74A2D74F.d.6EDFEFCC39C5F1F818A44FC803C5E7D4.e.2473\")>"
      ]
     },
     "execution_count": 15,
     "metadata": {},
     "output_type": "execute_result"
    }
   ],
   "source": [
    "from selenium.webdriver.common.by import By\n",
    "\n",
    "# 경제 뉴스 클릭\n",
    "economy = driver.find_element(By.CSS_SELECTOR, '#gnbContent > div > ul > li:nth-child(4) > a > span')\n",
    "economy"
   ]
  },
  {
   "cell_type": "code",
   "execution_count": 16,
   "metadata": {},
   "outputs": [],
   "source": [
    "economy.click()\n",
    "\n",
    "driver.implicitly_wait(5)"
   ]
  },
  {
   "cell_type": "code",
   "execution_count": 17,
   "metadata": {},
   "outputs": [
    {
     "data": {
      "text/plain": [
       "20"
      ]
     },
     "execution_count": 17,
     "metadata": {},
     "output_type": "execute_result"
    }
   ],
   "source": [
    "# 페이지 소스 가져오기\n",
    "\n",
    "soup = BeautifulSoup(driver.page_source, 'html.parser')\n",
    "\n",
    "# 실시간 경제 뉴스 검색\n",
    "news = soup.select('#timeline > ul > li')\n",
    "len(news)"
   ]
  },
  {
   "cell_type": "code",
   "execution_count": 18,
   "metadata": {},
   "outputs": [
    {
     "data": {
      "text/plain": [
       "<li>\n",
       "<em class=\"txt_time\">06:22</em>\n",
       "<strong class=\"tit_g\">\n",
       "<span class=\"info_cp\">연합뉴스</span>\n",
       "<a class=\"link_txt\" data-tiara-custom=\"contentUniqueKey=hamny-20240824062204933\" data-tiara-id=\"20240824062204933\" data-tiara-layer=\"article\" data-tiara-ordnum=\"1\" data-tiara-type=\"harmony\" href=\"https://v.daum.net/v/20240824062204933\">뉴욕증시, 파월이 쏘아 올린 피벗 신호탄…나스닥 1.47%↑ 마감</a>\n",
       "</strong>\n",
       "</li>"
      ]
     },
     "execution_count": 18,
     "metadata": {},
     "output_type": "execute_result"
    }
   ],
   "source": [
    "news[0]"
   ]
  },
  {
   "cell_type": "code",
   "execution_count": 19,
   "metadata": {},
   "outputs": [
    {
     "data": {
      "text/plain": [
       "'뉴욕증시, 파월이 쏘아 올린 피벗 신호탄…나스닥 1.47%↑ 마감'"
      ]
     },
     "execution_count": 19,
     "metadata": {},
     "output_type": "execute_result"
    }
   ],
   "source": [
    "news[0].select(\"a.link_txt\")[0].text.strip()"
   ]
  },
  {
   "cell_type": "code",
   "execution_count": 20,
   "metadata": {},
   "outputs": [
    {
     "data": {
      "text/plain": [
       "'뉴욕증시, 파월이 쏘아 올린 피벗 신호탄…나스닥 1.47%↑ 마감'"
      ]
     },
     "execution_count": 20,
     "metadata": {},
     "output_type": "execute_result"
    }
   ],
   "source": [
    "news[0].select_one(\"a.link_txt\").text.strip()"
   ]
  },
  {
   "cell_type": "code",
   "execution_count": 21,
   "metadata": {},
   "outputs": [
    {
     "data": {
      "text/html": [
       "<div>\n",
       "<style scoped>\n",
       "    .dataframe tbody tr th:only-of-type {\n",
       "        vertical-align: middle;\n",
       "    }\n",
       "\n",
       "    .dataframe tbody tr th {\n",
       "        vertical-align: top;\n",
       "    }\n",
       "\n",
       "    .dataframe thead th {\n",
       "        text-align: right;\n",
       "    }\n",
       "</style>\n",
       "<table border=\"1\" class=\"dataframe\">\n",
       "  <thead>\n",
       "    <tr style=\"text-align: right;\">\n",
       "      <th></th>\n",
       "      <th>title</th>\n",
       "      <th>agency</th>\n",
       "      <th>category</th>\n",
       "      <th>link</th>\n",
       "    </tr>\n",
       "  </thead>\n",
       "  <tbody>\n",
       "    <tr>\n",
       "      <th>0</th>\n",
       "      <td>뉴욕증시, 파월이 쏘아 올린 피벗 신호탄…나스닥 1.47%↑ 마감</td>\n",
       "      <td>연합뉴스</td>\n",
       "      <td>경제</td>\n",
       "      <td>https://v.daum.net/v/20240824062204933</td>\n",
       "    </tr>\n",
       "    <tr>\n",
       "      <th>1</th>\n",
       "      <td>\"내가 살 집, 호텔처럼 예약\"…MZ, 따로 또 같이 산다[르포]</td>\n",
       "      <td>뉴스1</td>\n",
       "      <td>경제</td>\n",
       "      <td>https://v.daum.net/v/20240824062004912</td>\n",
       "    </tr>\n",
       "    <tr>\n",
       "      <th>2</th>\n",
       "      <td>올해 수도권 1순위 청약자 10명 중 8명, '분상제 아파트'로</td>\n",
       "      <td>데일리안</td>\n",
       "      <td>경제</td>\n",
       "      <td>https://v.daum.net/v/20240824061643892</td>\n",
       "    </tr>\n",
       "    <tr>\n",
       "      <th>3</th>\n",
       "      <td>나스닥 1.5% 랠리…파월 비둘기 등판 \"금리인하 시간이 됐다\"[뉴욕마감]</td>\n",
       "      <td>뉴스1</td>\n",
       "      <td>경제</td>\n",
       "      <td>https://v.daum.net/v/20240824061635889</td>\n",
       "    </tr>\n",
       "    <tr>\n",
       "      <th>4</th>\n",
       "      <td>‘빅컷’ 가능성 남긴 파월…환호한 뉴욕증시, 나스닥 1.5%↑[월스트리트in]</td>\n",
       "      <td>이데일리</td>\n",
       "      <td>경제</td>\n",
       "      <td>https://v.daum.net/v/20240824061250862</td>\n",
       "    </tr>\n",
       "  </tbody>\n",
       "</table>\n",
       "</div>"
      ],
      "text/plain": [
       "                                         title agency category  \\\n",
       "0         뉴욕증시, 파월이 쏘아 올린 피벗 신호탄…나스닥 1.47%↑ 마감   연합뉴스       경제   \n",
       "1         \"내가 살 집, 호텔처럼 예약\"…MZ, 따로 또 같이 산다[르포]    뉴스1       경제   \n",
       "2          올해 수도권 1순위 청약자 10명 중 8명, '분상제 아파트'로   데일리안       경제   \n",
       "3    나스닥 1.5% 랠리…파월 비둘기 등판 \"금리인하 시간이 됐다\"[뉴욕마감]    뉴스1       경제   \n",
       "4  ‘빅컷’ 가능성 남긴 파월…환호한 뉴욕증시, 나스닥 1.5%↑[월스트리트in]   이데일리       경제   \n",
       "\n",
       "                                     link  \n",
       "0  https://v.daum.net/v/20240824062204933  \n",
       "1  https://v.daum.net/v/20240824062004912  \n",
       "2  https://v.daum.net/v/20240824061643892  \n",
       "3  https://v.daum.net/v/20240824061635889  \n",
       "4  https://v.daum.net/v/20240824061250862  "
      ]
     },
     "execution_count": 21,
     "metadata": {},
     "output_type": "execute_result"
    }
   ],
   "source": [
    "# 데이터 추출하여 정리\n",
    "data = {'title':[], 'agency':[], 'category':[], 'link':[]}\n",
    "\n",
    "for item in news:\n",
    "    title = item.select_one('strong > a').text\n",
    "    agency = item.select_one('span.info_cp').text\n",
    "    category = '경제'\n",
    "    link = item.select_one('strong > a')['href']\n",
    "    \n",
    "    data['title'].append(title)\n",
    "    data['agency'].append(agency)\n",
    "    data['category'].append(category)\n",
    "    data['link'].append(link)\n",
    "\n",
    "\n",
    "# 데이터 프레임 생성\n",
    "import pandas as pd\n",
    "df = pd.DataFrame(data)\n",
    "df.head()"
   ]
  },
  {
   "cell_type": "code",
   "execution_count": 22,
   "metadata": {},
   "outputs": [
    {
     "data": {
      "text/plain": [
       "20"
      ]
     },
     "execution_count": 22,
     "metadata": {},
     "output_type": "execute_result"
    }
   ],
   "source": [
    "len(df)"
   ]
  },
  {
   "cell_type": "markdown",
   "metadata": {},
   "source": [
    "## 페이지 이동하면서 반복적으로 수집"
   ]
  },
  {
   "cell_type": "code",
   "execution_count": 23,
   "metadata": {},
   "outputs": [
    {
     "data": {
      "text/plain": [
       "4"
      ]
     },
     "execution_count": 23,
     "metadata": {},
     "output_type": "execute_result"
    }
   ],
   "source": [
    "# 페이지네이션 배열\n",
    "#timeline > div > div > a\n",
    "\n",
    "page_numbers = driver.find_elements(By.CSS_SELECTOR, '#timeline > div > div > a')\n",
    "len(page_numbers)"
   ]
  },
  {
   "cell_type": "code",
   "execution_count": 24,
   "metadata": {},
   "outputs": [
    {
     "data": {
      "text/plain": [
       "<selenium.webdriver.remote.webelement.WebElement (session=\"43c1bdf9446760cee7ef84b9d9ecaa83\", element=\"f.C08EBC2C93FACCFA2F8B071E74A2D74F.d.34CA8608590C899A060EB713EACF15EA.e.4000\")>"
      ]
     },
     "execution_count": 24,
     "metadata": {},
     "output_type": "execute_result"
    }
   ],
   "source": [
    "page_numbers[0]"
   ]
  },
  {
   "cell_type": "code",
   "execution_count": 25,
   "metadata": {},
   "outputs": [
    {
     "name": "stdout",
     "output_type": "stream",
     "text": [
      "2\n",
      "3\n",
      "4\n",
      "5\n"
     ]
    }
   ],
   "source": [
    "for p in page_numbers:\n",
    "    print(p.text)"
   ]
  },
  {
   "cell_type": "code",
   "execution_count": 26,
   "metadata": {},
   "outputs": [],
   "source": [
    "current_page = 1"
   ]
  },
  {
   "cell_type": "code",
   "execution_count": 27,
   "metadata": {},
   "outputs": [
    {
     "name": "stdout",
     "output_type": "stream",
     "text": [
      "2\n",
      "2 2\n"
     ]
    }
   ],
   "source": [
    "for p in page_numbers:\n",
    "    print(p.text)\n",
    "    if (p.text != '다음') and (int(p.text) == current_page + 1):\n",
    "        p.click()\n",
    "        driver.implicitly_wait(5)\n",
    "        current_page = current_page + 1\n",
    "        print(p.text, current_page)\n",
    "        break"
   ]
  },
  {
   "cell_type": "code",
   "execution_count": 28,
   "metadata": {},
   "outputs": [
    {
     "data": {
      "text/plain": [
       "2"
      ]
     },
     "execution_count": 28,
     "metadata": {},
     "output_type": "execute_result"
    }
   ],
   "source": [
    "current_page"
   ]
  },
  {
   "cell_type": "code",
   "execution_count": 29,
   "metadata": {},
   "outputs": [
    {
     "data": {
      "text/plain": [
       "20"
      ]
     },
     "execution_count": 29,
     "metadata": {},
     "output_type": "execute_result"
    }
   ],
   "source": [
    "# 페이지 소스 가져오기\n",
    "soup = BeautifulSoup(driver.page_source, 'html.parser')\n",
    "\n",
    "# 실시간 경제 뉴스 검색\n",
    "news = soup.select('#timeline > ul > li')\n",
    "len(news)"
   ]
  },
  {
   "cell_type": "code",
   "execution_count": 30,
   "metadata": {},
   "outputs": [
    {
     "name": "stdout",
     "output_type": "stream",
     "text": [
      "40\n"
     ]
    },
    {
     "data": {
      "text/html": [
       "<div>\n",
       "<style scoped>\n",
       "    .dataframe tbody tr th:only-of-type {\n",
       "        vertical-align: middle;\n",
       "    }\n",
       "\n",
       "    .dataframe tbody tr th {\n",
       "        vertical-align: top;\n",
       "    }\n",
       "\n",
       "    .dataframe thead th {\n",
       "        text-align: right;\n",
       "    }\n",
       "</style>\n",
       "<table border=\"1\" class=\"dataframe\">\n",
       "  <thead>\n",
       "    <tr style=\"text-align: right;\">\n",
       "      <th></th>\n",
       "      <th>title</th>\n",
       "      <th>agency</th>\n",
       "      <th>category</th>\n",
       "      <th>link</th>\n",
       "    </tr>\n",
       "  </thead>\n",
       "  <tbody>\n",
       "    <tr>\n",
       "      <th>0</th>\n",
       "      <td>뉴욕증시, 파월이 쏘아 올린 피벗 신호탄…나스닥 1.47%↑ 마감</td>\n",
       "      <td>연합뉴스</td>\n",
       "      <td>경제</td>\n",
       "      <td>https://v.daum.net/v/20240824062204933</td>\n",
       "    </tr>\n",
       "    <tr>\n",
       "      <th>1</th>\n",
       "      <td>\"내가 살 집, 호텔처럼 예약\"…MZ, 따로 또 같이 산다[르포]</td>\n",
       "      <td>뉴스1</td>\n",
       "      <td>경제</td>\n",
       "      <td>https://v.daum.net/v/20240824062004912</td>\n",
       "    </tr>\n",
       "    <tr>\n",
       "      <th>2</th>\n",
       "      <td>올해 수도권 1순위 청약자 10명 중 8명, '분상제 아파트'로</td>\n",
       "      <td>데일리안</td>\n",
       "      <td>경제</td>\n",
       "      <td>https://v.daum.net/v/20240824061643892</td>\n",
       "    </tr>\n",
       "    <tr>\n",
       "      <th>3</th>\n",
       "      <td>나스닥 1.5% 랠리…파월 비둘기 등판 \"금리인하 시간이 됐다\"[뉴욕마감]</td>\n",
       "      <td>뉴스1</td>\n",
       "      <td>경제</td>\n",
       "      <td>https://v.daum.net/v/20240824061635889</td>\n",
       "    </tr>\n",
       "    <tr>\n",
       "      <th>4</th>\n",
       "      <td>‘빅컷’ 가능성 남긴 파월…환호한 뉴욕증시, 나스닥 1.5%↑[월스트리트in]</td>\n",
       "      <td>이데일리</td>\n",
       "      <td>경제</td>\n",
       "      <td>https://v.daum.net/v/20240824061250862</td>\n",
       "    </tr>\n",
       "  </tbody>\n",
       "</table>\n",
       "</div>"
      ],
      "text/plain": [
       "                                         title agency category  \\\n",
       "0         뉴욕증시, 파월이 쏘아 올린 피벗 신호탄…나스닥 1.47%↑ 마감   연합뉴스       경제   \n",
       "1         \"내가 살 집, 호텔처럼 예약\"…MZ, 따로 또 같이 산다[르포]    뉴스1       경제   \n",
       "2          올해 수도권 1순위 청약자 10명 중 8명, '분상제 아파트'로   데일리안       경제   \n",
       "3    나스닥 1.5% 랠리…파월 비둘기 등판 \"금리인하 시간이 됐다\"[뉴욕마감]    뉴스1       경제   \n",
       "4  ‘빅컷’ 가능성 남긴 파월…환호한 뉴욕증시, 나스닥 1.5%↑[월스트리트in]   이데일리       경제   \n",
       "\n",
       "                                     link  \n",
       "0  https://v.daum.net/v/20240824062204933  \n",
       "1  https://v.daum.net/v/20240824062004912  \n",
       "2  https://v.daum.net/v/20240824061643892  \n",
       "3  https://v.daum.net/v/20240824061635889  \n",
       "4  https://v.daum.net/v/20240824061250862  "
      ]
     },
     "execution_count": 30,
     "metadata": {},
     "output_type": "execute_result"
    }
   ],
   "source": [
    "# 뉴스 추출하여 기존 데이터에 추가\n",
    "for item in news:\n",
    "    title = item.select_one('strong > a').text\n",
    "    agency = item.select_one('span.info_cp').text\n",
    "    category = '경제'\n",
    "    link = item.select_one('strong > a')['href']\n",
    "    \n",
    "    data['title'].append(title)\n",
    "    data['agency'].append(agency)\n",
    "    data['category'].append(category)\n",
    "    data['link'].append(link)\n",
    "\n",
    "\n",
    "# 데이터 프레임 생성\n",
    "df = pd.DataFrame(data)\n",
    "print(len(df))\n",
    "\n",
    "df.head()"
   ]
  },
  {
   "cell_type": "code",
   "execution_count": 31,
   "metadata": {},
   "outputs": [],
   "source": [
    "# 드라이버 종료\n",
    "driver.close()"
   ]
  },
  {
   "cell_type": "code",
   "execution_count": 41,
   "metadata": {},
   "outputs": [],
   "source": [
    "# 페이지를 이동하면서 데이터를 수집하여 정리하는 함수\n",
    "def get_news(driver, category):\n",
    "\n",
    "    data = {'title':[], 'agency':[], 'category':[], 'link':[]}\n",
    "\n",
    "    current_page = 1\n",
    "    \n",
    "    while current_page < 5:\n",
    "        try:\n",
    "            soup = BeautifulSoup(driver.page_source, 'html.parser')\n",
    "            news = soup.select('#timeline > ul > li')\n",
    "            \n",
    "            for item in news:\n",
    "                title = item.select_one('strong > a').text\n",
    "                agency = item.select_one('span.info_cp').text\n",
    "                link = item.select_one('strong > a')['href']\n",
    "                \n",
    "                data['title'].append(title)\n",
    "                data['agency'].append(agency)\n",
    "                data['category'].append(category)\n",
    "                data['link'].append(link)\n",
    "            \n",
    "            page_numbers = driver.find_elements(By.CSS_SELECTOR, '#timeline > div > div > a')\n",
    "            driver.implicitly_wait(5)\n",
    "            \n",
    "            for p in page_numbers:\n",
    "                if (p.text != '다음') and (int(p.text) == current_page + 1):\n",
    "                    p.click()\n",
    "                    driver.implicitly_wait(5)\n",
    "                    current_page = current_page + 1\n",
    "                    print(p.text, current_page)\n",
    "                    break        \n",
    "\n",
    "        except:\n",
    "            pass\n",
    "    \n",
    "    df = pd.DataFrame(data)\n",
    "    \n",
    "    driver.close()\n",
    "\n",
    "    return df"
   ]
  },
  {
   "cell_type": "code",
   "execution_count": 42,
   "metadata": {},
   "outputs": [],
   "source": [
    "# 웹 드라이버 초기화\n",
    "driver = webdriver.Chrome(service=service, options=options)"
   ]
  },
  {
   "cell_type": "code",
   "execution_count": 43,
   "metadata": {},
   "outputs": [],
   "source": [
    "# 뉴스 사이트 접속\n",
    "url = \"https://news.daum.net/\"\n",
    "driver.get(url)"
   ]
  },
  {
   "cell_type": "code",
   "execution_count": 44,
   "metadata": {},
   "outputs": [
    {
     "data": {
      "text/plain": [
       "[<selenium.webdriver.remote.webelement.WebElement (session=\"8f3106e3a37cafe1d649e9cb322f3393\", element=\"f.EC89B7DF0CC08CF5D782040541C00DFF.d.EB49782AF003B56E21734F777EB83AC4.e.321\")>,\n",
       " <selenium.webdriver.remote.webelement.WebElement (session=\"8f3106e3a37cafe1d649e9cb322f3393\", element=\"f.EC89B7DF0CC08CF5D782040541C00DFF.d.EB49782AF003B56E21734F777EB83AC4.e.324\")>,\n",
       " <selenium.webdriver.remote.webelement.WebElement (session=\"8f3106e3a37cafe1d649e9cb322f3393\", element=\"f.EC89B7DF0CC08CF5D782040541C00DFF.d.EB49782AF003B56E21734F777EB83AC4.e.327\")>,\n",
       " <selenium.webdriver.remote.webelement.WebElement (session=\"8f3106e3a37cafe1d649e9cb322f3393\", element=\"f.EC89B7DF0CC08CF5D782040541C00DFF.d.EB49782AF003B56E21734F777EB83AC4.e.330\")>,\n",
       " <selenium.webdriver.remote.webelement.WebElement (session=\"8f3106e3a37cafe1d649e9cb322f3393\", element=\"f.EC89B7DF0CC08CF5D782040541C00DFF.d.EB49782AF003B56E21734F777EB83AC4.e.333\")>,\n",
       " <selenium.webdriver.remote.webelement.WebElement (session=\"8f3106e3a37cafe1d649e9cb322f3393\", element=\"f.EC89B7DF0CC08CF5D782040541C00DFF.d.EB49782AF003B56E21734F777EB83AC4.e.336\")>,\n",
       " <selenium.webdriver.remote.webelement.WebElement (session=\"8f3106e3a37cafe1d649e9cb322f3393\", element=\"f.EC89B7DF0CC08CF5D782040541C00DFF.d.EB49782AF003B56E21734F777EB83AC4.e.339\")>,\n",
       " <selenium.webdriver.remote.webelement.WebElement (session=\"8f3106e3a37cafe1d649e9cb322f3393\", element=\"f.EC89B7DF0CC08CF5D782040541C00DFF.d.EB49782AF003B56E21734F777EB83AC4.e.342\")>,\n",
       " <selenium.webdriver.remote.webelement.WebElement (session=\"8f3106e3a37cafe1d649e9cb322f3393\", element=\"f.EC89B7DF0CC08CF5D782040541C00DFF.d.EB49782AF003B56E21734F777EB83AC4.e.345\")>,\n",
       " <selenium.webdriver.remote.webelement.WebElement (session=\"8f3106e3a37cafe1d649e9cb322f3393\", element=\"f.EC89B7DF0CC08CF5D782040541C00DFF.d.EB49782AF003B56E21734F777EB83AC4.e.348\")>]"
      ]
     },
     "execution_count": 44,
     "metadata": {},
     "output_type": "execute_result"
    }
   ],
   "source": [
    "# 뉴스 카테고리 메뉴 배열\n",
    "category_tabs = driver.find_elements(By.CSS_SELECTOR, '#gnbContent > div > ul > li')\n",
    "category_tabs"
   ]
  },
  {
   "cell_type": "code",
   "execution_count": 45,
   "metadata": {},
   "outputs": [
    {
     "data": {
      "text/plain": [
       "'경제'"
      ]
     },
     "execution_count": 45,
     "metadata": {},
     "output_type": "execute_result"
    }
   ],
   "source": [
    "category_tabs[3].text"
   ]
  },
  {
   "cell_type": "code",
   "execution_count": 46,
   "metadata": {},
   "outputs": [
    {
     "data": {
      "text/plain": [
       "{'홈': <selenium.webdriver.remote.webelement.WebElement (session=\"8f3106e3a37cafe1d649e9cb322f3393\", element=\"f.EC89B7DF0CC08CF5D782040541C00DFF.d.EB49782AF003B56E21734F777EB83AC4.e.321\")>,\n",
       " '사회': <selenium.webdriver.remote.webelement.WebElement (session=\"8f3106e3a37cafe1d649e9cb322f3393\", element=\"f.EC89B7DF0CC08CF5D782040541C00DFF.d.EB49782AF003B56E21734F777EB83AC4.e.324\")>,\n",
       " '정치': <selenium.webdriver.remote.webelement.WebElement (session=\"8f3106e3a37cafe1d649e9cb322f3393\", element=\"f.EC89B7DF0CC08CF5D782040541C00DFF.d.EB49782AF003B56E21734F777EB83AC4.e.327\")>,\n",
       " '경제': <selenium.webdriver.remote.webelement.WebElement (session=\"8f3106e3a37cafe1d649e9cb322f3393\", element=\"f.EC89B7DF0CC08CF5D782040541C00DFF.d.EB49782AF003B56E21734F777EB83AC4.e.330\")>,\n",
       " '국제': <selenium.webdriver.remote.webelement.WebElement (session=\"8f3106e3a37cafe1d649e9cb322f3393\", element=\"f.EC89B7DF0CC08CF5D782040541C00DFF.d.EB49782AF003B56E21734F777EB83AC4.e.333\")>,\n",
       " '문화': <selenium.webdriver.remote.webelement.WebElement (session=\"8f3106e3a37cafe1d649e9cb322f3393\", element=\"f.EC89B7DF0CC08CF5D782040541C00DFF.d.EB49782AF003B56E21734F777EB83AC4.e.336\")>,\n",
       " 'IT': <selenium.webdriver.remote.webelement.WebElement (session=\"8f3106e3a37cafe1d649e9cb322f3393\", element=\"f.EC89B7DF0CC08CF5D782040541C00DFF.d.EB49782AF003B56E21734F777EB83AC4.e.339\")>,\n",
       " '연재': <selenium.webdriver.remote.webelement.WebElement (session=\"8f3106e3a37cafe1d649e9cb322f3393\", element=\"f.EC89B7DF0CC08CF5D782040541C00DFF.d.EB49782AF003B56E21734F777EB83AC4.e.342\")>,\n",
       " '포토': <selenium.webdriver.remote.webelement.WebElement (session=\"8f3106e3a37cafe1d649e9cb322f3393\", element=\"f.EC89B7DF0CC08CF5D782040541C00DFF.d.EB49782AF003B56E21734F777EB83AC4.e.345\")>,\n",
       " '팩트체크': <selenium.webdriver.remote.webelement.WebElement (session=\"8f3106e3a37cafe1d649e9cb322f3393\", element=\"f.EC89B7DF0CC08CF5D782040541C00DFF.d.EB49782AF003B56E21734F777EB83AC4.e.348\")>}"
      ]
     },
     "execution_count": 46,
     "metadata": {},
     "output_type": "execute_result"
    }
   ],
   "source": [
    "category_dict = {item.text:item for item in category_tabs}\n",
    "category_dict"
   ]
  },
  {
   "cell_type": "code",
   "execution_count": 47,
   "metadata": {},
   "outputs": [],
   "source": [
    "# 경제 뉴스 클릭\n",
    "category_dict['경제'].click()\n",
    "driver.implicitly_wait(5)"
   ]
  },
  {
   "cell_type": "code",
   "execution_count": 48,
   "metadata": {},
   "outputs": [
    {
     "name": "stdout",
     "output_type": "stream",
     "text": [
      "2 2\n",
      "3 3\n",
      "4 4\n",
      "5 5\n",
      "140\n"
     ]
    },
    {
     "data": {
      "text/html": [
       "<div>\n",
       "<style scoped>\n",
       "    .dataframe tbody tr th:only-of-type {\n",
       "        vertical-align: middle;\n",
       "    }\n",
       "\n",
       "    .dataframe tbody tr th {\n",
       "        vertical-align: top;\n",
       "    }\n",
       "\n",
       "    .dataframe thead th {\n",
       "        text-align: right;\n",
       "    }\n",
       "</style>\n",
       "<table border=\"1\" class=\"dataframe\">\n",
       "  <thead>\n",
       "    <tr style=\"text-align: right;\">\n",
       "      <th></th>\n",
       "      <th>title</th>\n",
       "      <th>agency</th>\n",
       "      <th>category</th>\n",
       "      <th>link</th>\n",
       "    </tr>\n",
       "  </thead>\n",
       "  <tbody>\n",
       "    <tr>\n",
       "      <th>0</th>\n",
       "      <td>뉴욕증시, 파월이 쏘아 올린 피벗 신호탄…나스닥 1.47%↑ 마감</td>\n",
       "      <td>연합뉴스</td>\n",
       "      <td>경제</td>\n",
       "      <td>https://v.daum.net/v/20240824062204933</td>\n",
       "    </tr>\n",
       "    <tr>\n",
       "      <th>1</th>\n",
       "      <td>\"내가 살 집, 호텔처럼 예약\"…MZ, 따로 또 같이 산다[르포]</td>\n",
       "      <td>뉴스1</td>\n",
       "      <td>경제</td>\n",
       "      <td>https://v.daum.net/v/20240824062004912</td>\n",
       "    </tr>\n",
       "    <tr>\n",
       "      <th>2</th>\n",
       "      <td>올해 수도권 1순위 청약자 10명 중 8명, '분상제 아파트'로</td>\n",
       "      <td>데일리안</td>\n",
       "      <td>경제</td>\n",
       "      <td>https://v.daum.net/v/20240824061643892</td>\n",
       "    </tr>\n",
       "    <tr>\n",
       "      <th>3</th>\n",
       "      <td>나스닥 1.5% 랠리…파월 비둘기 등판 \"금리인하 시간이 됐다\"[뉴욕마감]</td>\n",
       "      <td>뉴스1</td>\n",
       "      <td>경제</td>\n",
       "      <td>https://v.daum.net/v/20240824061635889</td>\n",
       "    </tr>\n",
       "    <tr>\n",
       "      <th>4</th>\n",
       "      <td>‘빅컷’ 가능성 남긴 파월…환호한 뉴욕증시, 나스닥 1.5%↑[월스트리트in]</td>\n",
       "      <td>이데일리</td>\n",
       "      <td>경제</td>\n",
       "      <td>https://v.daum.net/v/20240824061250862</td>\n",
       "    </tr>\n",
       "  </tbody>\n",
       "</table>\n",
       "</div>"
      ],
      "text/plain": [
       "                                         title agency category  \\\n",
       "0         뉴욕증시, 파월이 쏘아 올린 피벗 신호탄…나스닥 1.47%↑ 마감   연합뉴스       경제   \n",
       "1         \"내가 살 집, 호텔처럼 예약\"…MZ, 따로 또 같이 산다[르포]    뉴스1       경제   \n",
       "2          올해 수도권 1순위 청약자 10명 중 8명, '분상제 아파트'로   데일리안       경제   \n",
       "3    나스닥 1.5% 랠리…파월 비둘기 등판 \"금리인하 시간이 됐다\"[뉴욕마감]    뉴스1       경제   \n",
       "4  ‘빅컷’ 가능성 남긴 파월…환호한 뉴욕증시, 나스닥 1.5%↑[월스트리트in]   이데일리       경제   \n",
       "\n",
       "                                     link  \n",
       "0  https://v.daum.net/v/20240824062204933  \n",
       "1  https://v.daum.net/v/20240824062004912  \n",
       "2  https://v.daum.net/v/20240824061643892  \n",
       "3  https://v.daum.net/v/20240824061635889  \n",
       "4  https://v.daum.net/v/20240824061250862  "
      ]
     },
     "execution_count": 48,
     "metadata": {},
     "output_type": "execute_result"
    }
   ],
   "source": [
    "# 데이터 수집\n",
    "df_economy = get_news(driver, '경제')\n",
    "print(len(df_economy))\n",
    "\n",
    "df_economy.head()"
   ]
  },
  {
   "cell_type": "code",
   "execution_count": 49,
   "metadata": {},
   "outputs": [
    {
     "data": {
      "text/plain": [
       "80"
      ]
     },
     "execution_count": 49,
     "metadata": {},
     "output_type": "execute_result"
    }
   ],
   "source": [
    "# 페이지 이동할 때 동적으로 기사 배열이 바뀌면서 일부 뉴스가 중복 수집되는 현상이 있습니다. 중복을 제거합니다. \n",
    "df_economy = df_economy.drop_duplicates()\n",
    "len(df_economy)"
   ]
  },
  {
   "cell_type": "code",
   "execution_count": 50,
   "metadata": {},
   "outputs": [],
   "source": [
    "# 데이터 저장\n",
    "df_economy.to_csv('daum_economy_news.csv', index=False)"
   ]
  },
  {
   "cell_type": "code",
   "execution_count": null,
   "metadata": {},
   "outputs": [],
   "source": []
  }
 ],
 "metadata": {
  "colab": {
   "provenance": []
  },
  "kernelspec": {
   "display_name": "Python 3",
   "language": "python",
   "name": "python3"
  },
  "language_info": {
   "codemirror_mode": {
    "name": "ipython",
    "version": 3
   },
   "file_extension": ".py",
   "mimetype": "text/x-python",
   "name": "python",
   "nbconvert_exporter": "python",
   "pygments_lexer": "ipython3",
   "version": "3.11.8"
  }
 },
 "nbformat": 4,
 "nbformat_minor": 4
}
