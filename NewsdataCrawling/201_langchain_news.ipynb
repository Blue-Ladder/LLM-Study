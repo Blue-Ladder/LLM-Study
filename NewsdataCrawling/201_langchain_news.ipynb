{
 "cells": [
  {
   "cell_type": "markdown",
   "metadata": {},
   "source": [
    "# 뉴스 본문 데이터 수집"
   ]
  },
  {
   "cell_type": "code",
   "execution_count": 8,
   "metadata": {},
   "outputs": [
    {
     "ename": "ModuleNotFoundError",
     "evalue": "No module named 'dotenv'",
     "output_type": "error",
     "traceback": [
      "\u001b[1;31m---------------------------------------------------------------------------\u001b[0m",
      "\u001b[1;31mModuleNotFoundError\u001b[0m                       Traceback (most recent call last)",
      "Cell \u001b[1;32mIn[8], line 2\u001b[0m\n\u001b[0;32m      1\u001b[0m \u001b[38;5;28;01mimport\u001b[39;00m \u001b[38;5;21;01mos\u001b[39;00m\n\u001b[1;32m----> 2\u001b[0m \u001b[38;5;28;01mfrom\u001b[39;00m \u001b[38;5;21;01mdotenv\u001b[39;00m \u001b[38;5;28;01mimport\u001b[39;00m load_dotenv\n\u001b[0;32m      4\u001b[0m load_dotenv()\n\u001b[0;32m      6\u001b[0m OPENAI_API_KEY \u001b[38;5;241m=\u001b[39m os\u001b[38;5;241m.\u001b[39menviron[\u001b[38;5;124m\"\u001b[39m\u001b[38;5;124mOPENAI_API_KEY\u001b[39m\u001b[38;5;124m\"\u001b[39m]\n",
      "\u001b[1;31mModuleNotFoundError\u001b[0m: No module named 'dotenv'"
     ]
    }
   ],
   "source": [
    "import os\n",
    "from dotenv import load_dotenv\n",
    "\n",
    "load_dotenv()\n",
    "\n",
    "OPENAI_API_KEY = os.environ[\"OPENAI_API_KEY\"]"
   ]
  },
  {
   "cell_type": "code",
   "execution_count": 7,
   "metadata": {},
   "outputs": [
    {
     "data": {
      "text/html": [
       "<div>\n",
       "<style scoped>\n",
       "    .dataframe tbody tr th:only-of-type {\n",
       "        vertical-align: middle;\n",
       "    }\n",
       "\n",
       "    .dataframe tbody tr th {\n",
       "        vertical-align: top;\n",
       "    }\n",
       "\n",
       "    .dataframe thead th {\n",
       "        text-align: right;\n",
       "    }\n",
       "</style>\n",
       "<table border=\"1\" class=\"dataframe\">\n",
       "  <thead>\n",
       "    <tr style=\"text-align: right;\">\n",
       "      <th></th>\n",
       "      <th>title</th>\n",
       "      <th>agency</th>\n",
       "      <th>category</th>\n",
       "      <th>link</th>\n",
       "    </tr>\n",
       "  </thead>\n",
       "  <tbody>\n",
       "    <tr>\n",
       "      <th>0</th>\n",
       "      <td>뉴욕증시, 파월이 쏘아 올린 피벗 신호탄…나스닥 1.47%↑ 마감</td>\n",
       "      <td>연합뉴스</td>\n",
       "      <td>경제</td>\n",
       "      <td>https://v.daum.net/v/20240824062204933</td>\n",
       "    </tr>\n",
       "    <tr>\n",
       "      <th>1</th>\n",
       "      <td>\"내가 살 집, 호텔처럼 예약\"…MZ, 따로 또 같이 산다[르포]</td>\n",
       "      <td>뉴스1</td>\n",
       "      <td>경제</td>\n",
       "      <td>https://v.daum.net/v/20240824062004912</td>\n",
       "    </tr>\n",
       "    <tr>\n",
       "      <th>2</th>\n",
       "      <td>올해 수도권 1순위 청약자 10명 중 8명, '분상제 아파트'로</td>\n",
       "      <td>데일리안</td>\n",
       "      <td>경제</td>\n",
       "      <td>https://v.daum.net/v/20240824061643892</td>\n",
       "    </tr>\n",
       "    <tr>\n",
       "      <th>3</th>\n",
       "      <td>나스닥 1.5% 랠리…파월 비둘기 등판 \"금리인하 시간이 됐다\"[뉴욕마감]</td>\n",
       "      <td>뉴스1</td>\n",
       "      <td>경제</td>\n",
       "      <td>https://v.daum.net/v/20240824061635889</td>\n",
       "    </tr>\n",
       "    <tr>\n",
       "      <th>4</th>\n",
       "      <td>‘빅컷’ 가능성 남긴 파월…환호한 뉴욕증시, 나스닥 1.5%↑[월스트리트in]</td>\n",
       "      <td>이데일리</td>\n",
       "      <td>경제</td>\n",
       "      <td>https://v.daum.net/v/20240824061250862</td>\n",
       "    </tr>\n",
       "  </tbody>\n",
       "</table>\n",
       "</div>"
      ],
      "text/plain": [
       "                                         title agency category  \\\n",
       "0         뉴욕증시, 파월이 쏘아 올린 피벗 신호탄…나스닥 1.47%↑ 마감   연합뉴스       경제   \n",
       "1         \"내가 살 집, 호텔처럼 예약\"…MZ, 따로 또 같이 산다[르포]    뉴스1       경제   \n",
       "2          올해 수도권 1순위 청약자 10명 중 8명, '분상제 아파트'로   데일리안       경제   \n",
       "3    나스닥 1.5% 랠리…파월 비둘기 등판 \"금리인하 시간이 됐다\"[뉴욕마감]    뉴스1       경제   \n",
       "4  ‘빅컷’ 가능성 남긴 파월…환호한 뉴욕증시, 나스닥 1.5%↑[월스트리트in]   이데일리       경제   \n",
       "\n",
       "                                     link  \n",
       "0  https://v.daum.net/v/20240824062204933  \n",
       "1  https://v.daum.net/v/20240824062004912  \n",
       "2  https://v.daum.net/v/20240824061643892  \n",
       "3  https://v.daum.net/v/20240824061635889  \n",
       "4  https://v.daum.net/v/20240824061250862  "
      ]
     },
     "execution_count": 7,
     "metadata": {},
     "output_type": "execute_result"
    }
   ],
   "source": [
    "# 뉴스 링크 데이터 가져오기\n",
    "import pandas as pd\n",
    "df_news = pd.read_csv('daum_economy_news.csv')\n",
    "df_news.head()"
   ]
  },
  {
   "cell_type": "code",
   "execution_count": 3,
   "metadata": {},
   "outputs": [
    {
     "data": {
      "text/plain": [
       "80"
      ]
     },
     "execution_count": 3,
     "metadata": {},
     "output_type": "execute_result"
    }
   ],
   "source": [
    "len(df_news)"
   ]
  },
  {
   "cell_type": "code",
   "execution_count": 4,
   "metadata": {},
   "outputs": [
    {
     "data": {
      "text/plain": [
       "'https://v.daum.net/v/20240824062204933'"
      ]
     },
     "execution_count": 4,
     "metadata": {},
     "output_type": "execute_result"
    }
   ],
   "source": [
    "# 첫 번째 뉴스 링크 가져오기\n",
    "df_news['link'][0]"
   ]
  },
  {
   "cell_type": "code",
   "execution_count": 9,
   "metadata": {},
   "outputs": [
    {
     "name": "stderr",
     "output_type": "stream",
     "text": [
      "USER_AGENT environment variable not set, consider setting it to identify your requests.\n"
     ]
    },
    {
     "data": {
      "text/plain": [
       "1"
      ]
     },
     "execution_count": 9,
     "metadata": {},
     "output_type": "execute_result"
    }
   ],
   "source": [
    "# 랭체인 WebBaseLoader로 뉴스 본문 가져오기\n",
    "\n",
    "import bs4\n",
    "from langchain_community.document_loaders import WebBaseLoader\n",
    "\n",
    "url = df_news['link'][0]\n",
    "\n",
    "loader = WebBaseLoader(\n",
    "    web_paths=[url, ],\n",
    "    bs_kwargs=dict(\n",
    "        parse_only=bs4.SoupStrainer(\n",
    "            class_=[\"article_view\"]\n",
    "        )\n",
    "    ),\n",
    ")\n",
    "docs = loader.load()\n",
    "len(docs)"
   ]
  },
  {
   "cell_type": "code",
   "execution_count": 10,
   "metadata": {},
   "outputs": [
    {
     "data": {
      "text/plain": [
       "Document(metadata={'source': 'https://v.daum.net/v/20240824062204933'}, page_content='\\n\\n(뉴욕=연합뉴스) 진정호 연합인포맥스 특파원 = 뉴욕증시의 3대 주가지수가 동반 강세를 보였다. 제롬 파월 연방준비제도(Fed·연준) 의장이 통화정책 기조전환(피벗)의 신호탄을 쏘아 올리면서 매수심리가 탄력받았다. \\n\\n\\n\\n            뉴욕증권거래소 [연합뉴스 자료사진]\\n           \\n\\n23일(미국 동부시간) 뉴욕증권거래소(NYSE)에서 다우존스30산업평균지수는 전장보다 462.30포인트(1.14%) 오른 41,175.08에 거래를 마감했다.\\n스탠더드앤드푸어스(S&P)500지수는 전장보다 63.97포인트(1.15%) 뛴 5,634.61, 나스닥종합지수는 전장보다 258.44포인트(1.47%) 급등한 17,877.79에 장을 마쳤다.\\n시장은 이미 연준이 9월부터 기준금리 인하에 나설 것으로 기정사실화하고 있었다. 하지만 파월 의장이 직접 피벗을 공식화하자 다시 한번 매수심리에 불이 붙었다.\\n이날 파월 의장은 미국 와이오밍주 잭슨홀에서 열린 잭슨홀 심포지엄 기조연설에서 \"정책을 조정할 시간이 도래했다\"며 \"우리의 여정은 방향이 명확하다\"고 밝혔다.\\n파월 의장의 발언은 피벗의 공식 선언으로 받아들여졌다. 기준금리 인하에 대해 직접 언급하지는 않았지만, 시장은 9월부터 연준이 금리인하를 개시할 것으로 점치고 있다.\\n시장의 관심사는 이제 금리인하 속도로 옮겨갔다. 기준금리 인하 속도에 따라 당장의 주가도 재산정해야 한다는 게 시장의 심리다.\\n파월 의장은 9월 금리인하 폭을 25bp로 제한하는 표현은 굳이 쓰지 않았기 때문에 50bp 인하 여지도 남겨뒀다는 평가가 나왔다.\\n르네상스매크로의 닐 두타 이코노미스트는 보고서에서 \"파월 연설에서 빠진 것은 \\'점진적\\'이라는 단어\"라며 \"어제 일부 (다른 연준) 발언자들과 달리, 파월 의장은 정책을 조정하는 과정에서 크게 움직일 선택권을 없애지 않았다\"고 평가했다.\\n잭슨홀 심포지엄에 참석한 다른 연준 인사들은 전날 공개 발언에서 \\'점진적(gradual)\\' 또는 \\'체계적(methodical)\\' 같은 단어를 사용했다. 시장에선 이런 표현이 \\'스몰컷(25bp 인하)\\'을 시사하는 암호라고 풀이하고 있다. \\n반면 파월 의장은 이날 연설에서 두 표현을 사용하지 않았는데 이는 의도적 배제라는 게 월가의 해석이다.\\n이날 피벗 선언으로 금리인하 전망치도 더 내려가고 있다.\\n시카고상품거래소(CME) 페드워치툴에 따르면 연방기금금리 선물시장은 9월 25bp 인하 확률을 65.5%로 반영하고 있다. 12월까지 100bp 인하 확률이 44%로 가장 높은 점도 전날과 다름이 없다.\\n반면 내년 6월까지 금리인하 폭이 200bp가 될 것이라는 베팅은 32.1%까지 확대됐다. 현재 가장 유력한 시나리오다. 전날까지는 175bp 인하 확률이 34.4%로 가장 유력하게 꼽혔었다.\\n전반적인 강세 분위기 속에 기술주 주가는 이날도 날았다.\\n엔비디아는 4.55%, 테슬라는 4.59% 뛰며 \\'매그니피센트7(M7·거대 기술기업 7곳)\\' 중에서도 눈에 띄었다. M7 중 하락한 종목은 메타플랫폼스가 유일했다.\\n인공지능(AI) 및 반도체 관련주도 상승세를 보였다. Arm홀딩스는 4.56% 올랐고 퀄컴과 AMD, 인텔도 2%대 상승률이었다. 마이크론테크놀로지는 1.35% 내려갔다.\\n반도체 주식 주가가 뛰면서 필라델피아반도체지수도 2.79% 급등했다.\\n또한 중소형주 위주로 구성된 러셀2000지수도 3.19% 급등하면서 이날 강세가 대형 기술주에 국한되지 않았다는 점을 보여줬다.\\n패스트푸드 체인점 카바그룹은 2분기 실적이 예상치를 웃돌면서 20% 급등했다.\\n반면 금융 소프트웨어 회사 인투이트는 분기 전망이 시장 추정치를 밑돌고 회계연도 4분기의 매출과 순이익도 실망스럽게 나온 끝에 7% 급락했다.\\n리건캐피털의 스카일러 와인앤드 최고투자책임자(CIO)는 파월 의장의 연설 후 \"시장은 일종의 \\'안도의 한숨\\'을 쉬었다\"며 \"시장은 사이클이 바뀌었다고 보고 있다\"고 말했다.\\n이날 잭슨홀 회의에 참석한 다른 연준 인사들도 파월 의장과 보조를 맞췄다.\\n오스탄 굴스비 시카고 연방준비은행(연은) 총재는 \"연방공개시장위원회(FOMC) 위원들은 거의 모두 인플레이션이 내려오고 있고 올해와 내년에 다수의 금리인하가 있을 것으로 본다\"며 \"중요한 것은 금리인하 규모가 아니라 (금리인하) 경로이고 금리인하 속도와 규모는 경제지표에 따라 결정될 것\"이라고 강조했다.\\n래피얼 보스틱 애틀랜타 연은 총재도 인플레이션이 생각보다 더 둔화했다며 \"우리의 첫 금리 움직임을 조금 앞당기는 것이 적절할 수 있다\"고 언급했다.\\n미국의 7월 신규 주택 판매가 전월과 비교해 큰 폭으로 증가했다.\\n미국 상무부에 따르면 7월 신규 주택 판매(계절 조정치)가 전월 대비 10.6% 증가한 73만9천채(연환산)로 집계됐다고 발표했다. 6월 수치는 66만8천채로 상향 조정됐다.\\n업종별로 보면 모든 업종이 오른 가운데 임의소비재와 기술, 재료, 산업, 에너지가 1% 넘게 뛰며 두각을 드러냈다.\\n시카고옵션거래소(CBOE) 변동성 지수(VIX)는 전장보다 1.69포인트(9.63%) 내린 15.86을 기록했다.\\njhjin@yna.co.kr\\n▶제보는 카톡 okjebo\\n\\n')"
      ]
     },
     "execution_count": 10,
     "metadata": {},
     "output_type": "execute_result"
    }
   ],
   "source": [
    "# Document 객체 확인\n",
    "docs[0]"
   ]
  },
  {
   "cell_type": "code",
   "execution_count": 11,
   "metadata": {},
   "outputs": [
    {
     "data": {
      "text/plain": [
       "'(뉴욕=연합뉴스) 진정호 연합인포맥스 특파원 = 뉴욕증시의 3대 주가지수가 동반 강세를 보였다. 제롬 파월 연방준비제도(Fed·연준) 의장이 통화정책 기조전환(피벗)의 신호탄을 쏘아 올리면서 매수심리가 탄력받았다. \\n\\n\\n\\n            뉴욕증권거래소 [연합뉴스 자료사진]\\n           \\n\\n23일(미국 동부시간) 뉴욕증권거래소(NYSE)에서 다우존스30산업평균지수는 전장보다 462.30포인트(1.14%) 오른 41,175.08에 거래를 마감했다.\\n스탠더드앤드푸어스(S&P)500지수는 전장보다 63.97포인트(1.15%) 뛴 5,634.61, 나스닥종합지수는 전장보다 258.44포인트(1.47%) 급등한 17,877.79에 장을 마쳤다.\\n시장은 이미 연준이 9월부터 기준금리 인하에 나설 것으로 기정사실화하고 있었다. 하지만 파월 의장이 직접 피벗을 공식화하자 다시 한번 매수심리에 불이 붙었다.\\n이날 파월 의장은 미국 와이오밍주 잭슨홀에서 열린 잭슨홀 심포지엄 기조연설에서 \"정책을 조정할 시간이 도래했다\"며 \"우리의 여정은 방향이 명확하다\"고 밝혔다.\\n파월 의장의 발언은 피벗의 공식 선언으로 받아들여졌다. 기준금리 인하에 대해 직접 언급하지는 않았지만, 시장은 9월부터 연준이 금리인하를 개시할 것으로 점치고 있다.\\n시장의 관심사는 이제 금리인하 속도로 옮겨갔다. 기준금리 인하 속도에 따라 당장의 주가도 재산정해야 한다는 게 시장의 심리다.\\n파월 의장은 9월 금리인하 폭을 25bp로 제한하는 표현은 굳이 쓰지 않았기 때문에 50bp 인하 여지도 남겨뒀다는 평가가 나왔다.\\n르네상스매크로의 닐 두타 이코노미스트는 보고서에서 \"파월 연설에서 빠진 것은 \\'점진적\\'이라는 단어\"라며 \"어제 일부 (다른 연준) 발언자들과 달리, 파월 의장은 정책을 조정하는 과정에서 크게 움직일 선택권을 없애지 않았다\"고 평가했다.\\n잭슨홀 심포지엄에 참석한 다른 연준 인사들은 전날 공개 발언에서 \\'점진적(gradual)\\' 또는 \\'체계적(methodical)\\' 같은 단어를 사용했다. 시장에선 이런 표현이 \\'스몰컷(25bp 인하)\\'을 시사하는 암호라고 풀이하고 있다. \\n반면 파월 의장은 이날 연설에서 두 표현을 사용하지 않았는데 이는 의도적 배제라는 게 월가의 해석이다.\\n이날 피벗 선언으로 금리인하 전망치도 더 내려가고 있다.\\n시카고상품거래소(CME) 페드워치툴에 따르면 연방기금금리 선물시장은 9월 25bp 인하 확률을 65.5%로 반영하고 있다. 12월까지 100bp 인하 확률이 44%로 가장 높은 점도 전날과 다름이 없다.\\n반면 내년 6월까지 금리인하 폭이 200bp가 될 것이라는 베팅은 32.1%까지 확대됐다. 현재 가장 유력한 시나리오다. 전날까지는 175bp 인하 확률이 34.4%로 가장 유력하게 꼽혔었다.\\n전반적인 강세 분위기 속에 기술주 주가는 이날도 날았다.\\n엔비디아는 4.55%, 테슬라는 4.59% 뛰며 \\'매그니피센트7(M7·거대 기술기업 7곳)\\' 중에서도 눈에 띄었다. M7 중 하락한 종목은 메타플랫폼스가 유일했다.\\n인공지능(AI) 및 반도체 관련주도 상승세를 보였다. Arm홀딩스는 4.56% 올랐고 퀄컴과 AMD, 인텔도 2%대 상승률이었다. 마이크론테크놀로지는 1.35% 내려갔다.\\n반도체 주식 주가가 뛰면서 필라델피아반도체지수도 2.79% 급등했다.\\n또한 중소형주 위주로 구성된 러셀2000지수도 3.19% 급등하면서 이날 강세가 대형 기술주에 국한되지 않았다는 점을 보여줬다.\\n패스트푸드 체인점 카바그룹은 2분기 실적이 예상치를 웃돌면서 20% 급등했다.\\n반면 금융 소프트웨어 회사 인투이트는 분기 전망이 시장 추정치를 밑돌고 회계연도 4분기의 매출과 순이익도 실망스럽게 나온 끝에 7% 급락했다.\\n리건캐피털의 스카일러 와인앤드 최고투자책임자(CIO)는 파월 의장의 연설 후 \"시장은 일종의 \\'안도의 한숨\\'을 쉬었다\"며 \"시장은 사이클이 바뀌었다고 보고 있다\"고 말했다.\\n이날 잭슨홀 회의에 참석한 다른 연준 인사들도 파월 의장과 보조를 맞췄다.\\n오스탄 굴스비 시카고 연방준비은행(연은) 총재는 \"연방공개시장위원회(FOMC) 위원들은 거의 모두 인플레이션이 내려오고 있고 올해와 내년에 다수의 금리인하가 있을 것으로 본다\"며 \"중요한 것은 금리인하 규모가 아니라 (금리인하) 경로이고 금리인하 속도와 규모는 경제지표에 따라 결정될 것\"이라고 강조했다.\\n래피얼 보스틱 애틀랜타 연은 총재도 인플레이션이 생각보다 더 둔화했다며 \"우리의 첫 금리 움직임을 조금 앞당기는 것이 적절할 수 있다\"고 언급했다.\\n미국의 7월 신규 주택 판매가 전월과 비교해 큰 폭으로 증가했다.\\n미국 상무부에 따르면 7월 신규 주택 판매(계절 조정치)가 전월 대비 10.6% 증가한 73만9천채(연환산)로 집계됐다고 발표했다. 6월 수치는 66만8천채로 상향 조정됐다.\\n업종별로 보면 모든 업종이 오른 가운데 임의소비재와 기술, 재료, 산업, 에너지가 1% 넘게 뛰며 두각을 드러냈다.\\n시카고옵션거래소(CBOE) 변동성 지수(VIX)는 전장보다 1.69포인트(9.63%) 내린 15.86을 기록했다.\\njhjin@yna.co.kr\\n▶제보는 카톡 okjebo'"
      ]
     },
     "execution_count": 11,
     "metadata": {},
     "output_type": "execute_result"
    }
   ],
   "source": [
    "# Document 객체의 page_content 속성 확인\n",
    "docs[0].page_content.strip()"
   ]
  },
  {
   "cell_type": "code",
   "execution_count": 13,
   "metadata": {},
   "outputs": [],
   "source": [
    "# 각 링크를 순회하며 뉴스 본문 가져오기\n",
    "import time\n",
    "\n",
    "def get_news_content(url):\n",
    "    loader = WebBaseLoader(\n",
    "        web_paths=[url],\n",
    "        bs_kwargs=dict(\n",
    "            parse_only=bs4.SoupStrainer(\n",
    "                class_=[\"article_view\"]\n",
    "            )\n",
    "        ),\n",
    "    )\n",
    "    docs = loader.load()\n",
    "    time.sleep(1) # 부하 방지\n",
    "    return docs[0].page_content.strip()"
   ]
  },
  {
   "cell_type": "code",
   "execution_count": 14,
   "metadata": {},
   "outputs": [
    {
     "data": {
      "text/html": [
       "<div>\n",
       "<style scoped>\n",
       "    .dataframe tbody tr th:only-of-type {\n",
       "        vertical-align: middle;\n",
       "    }\n",
       "\n",
       "    .dataframe tbody tr th {\n",
       "        vertical-align: top;\n",
       "    }\n",
       "\n",
       "    .dataframe thead th {\n",
       "        text-align: right;\n",
       "    }\n",
       "</style>\n",
       "<table border=\"1\" class=\"dataframe\">\n",
       "  <thead>\n",
       "    <tr style=\"text-align: right;\">\n",
       "      <th></th>\n",
       "      <th>title</th>\n",
       "      <th>agency</th>\n",
       "      <th>category</th>\n",
       "      <th>link</th>\n",
       "      <th>content</th>\n",
       "    </tr>\n",
       "  </thead>\n",
       "  <tbody>\n",
       "    <tr>\n",
       "      <th>0</th>\n",
       "      <td>뉴욕증시, 파월이 쏘아 올린 피벗 신호탄…나스닥 1.47%↑ 마감</td>\n",
       "      <td>연합뉴스</td>\n",
       "      <td>경제</td>\n",
       "      <td>https://v.daum.net/v/20240824062204933</td>\n",
       "      <td>(뉴욕=연합뉴스) 진정호 연합인포맥스 특파원 = 뉴욕증시의 3대 주가지수가 동반 강...</td>\n",
       "    </tr>\n",
       "    <tr>\n",
       "      <th>1</th>\n",
       "      <td>\"내가 살 집, 호텔처럼 예약\"…MZ, 따로 또 같이 산다[르포]</td>\n",
       "      <td>뉴스1</td>\n",
       "      <td>경제</td>\n",
       "      <td>https://v.daum.net/v/20240824062004912</td>\n",
       "      <td>'맹그로브 신촌' 3인1실 내부 모습.\\n           \\n\\n(서울=뉴스1)...</td>\n",
       "    </tr>\n",
       "    <tr>\n",
       "      <th>2</th>\n",
       "      <td>올해 수도권 1순위 청약자 10명 중 8명, '분상제 아파트'로</td>\n",
       "      <td>데일리안</td>\n",
       "      <td>경제</td>\n",
       "      <td>https://v.daum.net/v/20240824061643892</td>\n",
       "      <td>올해 1월부터 8월 현재(21일 기준)까지 수도권 민간분양 단지의 1순위 청약자(6...</td>\n",
       "    </tr>\n",
       "    <tr>\n",
       "      <th>3</th>\n",
       "      <td>나스닥 1.5% 랠리…파월 비둘기 등판 \"금리인하 시간이 됐다\"[뉴욕마감]</td>\n",
       "      <td>뉴스1</td>\n",
       "      <td>경제</td>\n",
       "      <td>https://v.daum.net/v/20240824061635889</td>\n",
       "      <td>뉴욕증권거래소 ⓒ 로이터=뉴스1\\n           \\n\\n(서울=뉴스1) 신기림...</td>\n",
       "    </tr>\n",
       "    <tr>\n",
       "      <th>4</th>\n",
       "      <td>‘빅컷’ 가능성 남긴 파월…환호한 뉴욕증시, 나스닥 1.5%↑[월스트리트in]</td>\n",
       "      <td>이데일리</td>\n",
       "      <td>경제</td>\n",
       "      <td>https://v.daum.net/v/20240824061250862</td>\n",
       "      <td>[뉴욕=이데일리 김상윤 특파원] 뉴욕증시가 일제히 상승 마감했다. 제롬 파월 연방준...</td>\n",
       "    </tr>\n",
       "  </tbody>\n",
       "</table>\n",
       "</div>"
      ],
      "text/plain": [
       "                                         title agency category  \\\n",
       "0         뉴욕증시, 파월이 쏘아 올린 피벗 신호탄…나스닥 1.47%↑ 마감   연합뉴스       경제   \n",
       "1         \"내가 살 집, 호텔처럼 예약\"…MZ, 따로 또 같이 산다[르포]    뉴스1       경제   \n",
       "2          올해 수도권 1순위 청약자 10명 중 8명, '분상제 아파트'로   데일리안       경제   \n",
       "3    나스닥 1.5% 랠리…파월 비둘기 등판 \"금리인하 시간이 됐다\"[뉴욕마감]    뉴스1       경제   \n",
       "4  ‘빅컷’ 가능성 남긴 파월…환호한 뉴욕증시, 나스닥 1.5%↑[월스트리트in]   이데일리       경제   \n",
       "\n",
       "                                     link  \\\n",
       "0  https://v.daum.net/v/20240824062204933   \n",
       "1  https://v.daum.net/v/20240824062004912   \n",
       "2  https://v.daum.net/v/20240824061643892   \n",
       "3  https://v.daum.net/v/20240824061635889   \n",
       "4  https://v.daum.net/v/20240824061250862   \n",
       "\n",
       "                                             content  \n",
       "0  (뉴욕=연합뉴스) 진정호 연합인포맥스 특파원 = 뉴욕증시의 3대 주가지수가 동반 강...  \n",
       "1  '맹그로브 신촌' 3인1실 내부 모습.\\n           \\n\\n(서울=뉴스1)...  \n",
       "2  올해 1월부터 8월 현재(21일 기준)까지 수도권 민간분양 단지의 1순위 청약자(6...  \n",
       "3  뉴욕증권거래소 ⓒ 로이터=뉴스1\\n           \\n\\n(서울=뉴스1) 신기림...  \n",
       "4  [뉴욕=이데일리 김상윤 특파원] 뉴욕증시가 일제히 상승 마감했다. 제롬 파월 연방준...  "
      ]
     },
     "execution_count": 14,
     "metadata": {},
     "output_type": "execute_result"
    }
   ],
   "source": [
    "df_news['content'] = df_news['link'].apply(get_news_content) #  apply 사용 하면 병렬 처리\n",
    "df_news.head()"
   ]
  },
  {
   "cell_type": "code",
   "execution_count": 15,
   "metadata": {},
   "outputs": [],
   "source": [
    "# 뉴스 본문 데이터 저장\n",
    "df_news.to_csv('daum_economy_news_content.csv', index=False) # index=False 앞에 숫자 제외 "
   ]
  },
  {
   "cell_type": "code",
   "execution_count": null,
   "metadata": {},
   "outputs": [],
   "source": [
    "# df_news = pd.read_csv('daum_economy_news_content.csv')"
   ]
  },
  {
   "cell_type": "markdown",
   "metadata": {},
   "source": [
    "# 뉴스 본문에서 언론사 이름, 기자 이름, 이메일 주소 등을 추출 "
   ]
  },
  {
   "cell_type": "code",
   "execution_count": 16,
   "metadata": {},
   "outputs": [
    {
     "data": {
      "text/plain": [
       "'(뉴욕=연합뉴스) 진정호 연합인포맥스 특파원 = 뉴욕증시의 3대 주가지수가 동반 강세를 보였다. 제롬 파월 연방준비제도(Fed·연준) 의장이 통화정책 기조전환(피벗)의 신호탄을 쏘아 올리면서 매수심리가 탄력받았다. \\n\\n\\n\\n            뉴욕증권거래소 [연합뉴스 자료사진]\\n           \\n\\n23일(미국 동부시간) 뉴욕증권거래소(NYSE)에서 다우존스30산업평균지수는 전장보다 462.30포인트(1.14%) 오른 41,175.08에 거래를 마감했다.\\n스탠더드앤드푸어스(S&P)500지수는 전장보다 63.97포인트(1.15%) 뛴 5,634.61, 나스닥종합지수는 전장보다 258.44포인트(1.47%) 급등한 17,877.79에 장을 마쳤다.\\n시장은 이미 연준이 9월부터 기준금리 인하에 나설 것으로 기정사실화하고 있었다. 하지만 파월 의장이 직접 피벗을 공식화하자 다시 한번 매수심리에 불이 붙었다.\\n이날 파월 의장은 미국 와이오밍주 잭슨홀에서 열린 잭슨홀 심포지엄 기조연설에서 \"정책을 조정할 시간이 도래했다\"며 \"우리의 여정은 방향이 명확하다\"고 밝혔다.\\n파월 의장의 발언은 피벗의 공식 선언으로 받아들여졌다. 기준금리 인하에 대해 직접 언급하지는 않았지만, 시장은 9월부터 연준이 금리인하를 개시할 것으로 점치고 있다.\\n시장의 관심사는 이제 금리인하 속도로 옮겨갔다. 기준금리 인하 속도에 따라 당장의 주가도 재산정해야 한다는 게 시장의 심리다.\\n파월 의장은 9월 금리인하 폭을 25bp로 제한하는 표현은 굳이 쓰지 않았기 때문에 50bp 인하 여지도 남겨뒀다는 평가가 나왔다.\\n르네상스매크로의 닐 두타 이코노미스트는 보고서에서 \"파월 연설에서 빠진 것은 \\'점진적\\'이라는 단어\"라며 \"어제 일부 (다른 연준) 발언자들과 달리, 파월 의장은 정책을 조정하는 과정에서 크게 움직일 선택권을 없애지 않았다\"고 평가했다.\\n잭슨홀 심포지엄에 참석한 다른 연준 인사들은 전날 공개 발언에서 \\'점진적(gradual)\\' 또는 \\'체계적(methodical)\\' 같은 단어를 사용했다. 시장에선 이런 표현이 \\'스몰컷(25bp 인하)\\'을 시사하는 암호라고 풀이하고 있다. \\n반면 파월 의장은 이날 연설에서 두 표현을 사용하지 않았는데 이는 의도적 배제라는 게 월가의 해석이다.\\n이날 피벗 선언으로 금리인하 전망치도 더 내려가고 있다.\\n시카고상품거래소(CME) 페드워치툴에 따르면 연방기금금리 선물시장은 9월 25bp 인하 확률을 65.5%로 반영하고 있다. 12월까지 100bp 인하 확률이 44%로 가장 높은 점도 전날과 다름이 없다.\\n반면 내년 6월까지 금리인하 폭이 200bp가 될 것이라는 베팅은 32.1%까지 확대됐다. 현재 가장 유력한 시나리오다. 전날까지는 175bp 인하 확률이 34.4%로 가장 유력하게 꼽혔었다.\\n전반적인 강세 분위기 속에 기술주 주가는 이날도 날았다.\\n엔비디아는 4.55%, 테슬라는 4.59% 뛰며 \\'매그니피센트7(M7·거대 기술기업 7곳)\\' 중에서도 눈에 띄었다. M7 중 하락한 종목은 메타플랫폼스가 유일했다.\\n인공지능(AI) 및 반도체 관련주도 상승세를 보였다. Arm홀딩스는 4.56% 올랐고 퀄컴과 AMD, 인텔도 2%대 상승률이었다. 마이크론테크놀로지는 1.35% 내려갔다.\\n반도체 주식 주가가 뛰면서 필라델피아반도체지수도 2.79% 급등했다.\\n또한 중소형주 위주로 구성된 러셀2000지수도 3.19% 급등하면서 이날 강세가 대형 기술주에 국한되지 않았다는 점을 보여줬다.\\n패스트푸드 체인점 카바그룹은 2분기 실적이 예상치를 웃돌면서 20% 급등했다.\\n반면 금융 소프트웨어 회사 인투이트는 분기 전망이 시장 추정치를 밑돌고 회계연도 4분기의 매출과 순이익도 실망스럽게 나온 끝에 7% 급락했다.\\n리건캐피털의 스카일러 와인앤드 최고투자책임자(CIO)는 파월 의장의 연설 후 \"시장은 일종의 \\'안도의 한숨\\'을 쉬었다\"며 \"시장은 사이클이 바뀌었다고 보고 있다\"고 말했다.\\n이날 잭슨홀 회의에 참석한 다른 연준 인사들도 파월 의장과 보조를 맞췄다.\\n오스탄 굴스비 시카고 연방준비은행(연은) 총재는 \"연방공개시장위원회(FOMC) 위원들은 거의 모두 인플레이션이 내려오고 있고 올해와 내년에 다수의 금리인하가 있을 것으로 본다\"며 \"중요한 것은 금리인하 규모가 아니라 (금리인하) 경로이고 금리인하 속도와 규모는 경제지표에 따라 결정될 것\"이라고 강조했다.\\n래피얼 보스틱 애틀랜타 연은 총재도 인플레이션이 생각보다 더 둔화했다며 \"우리의 첫 금리 움직임을 조금 앞당기는 것이 적절할 수 있다\"고 언급했다.\\n미국의 7월 신규 주택 판매가 전월과 비교해 큰 폭으로 증가했다.\\n미국 상무부에 따르면 7월 신규 주택 판매(계절 조정치)가 전월 대비 10.6% 증가한 73만9천채(연환산)로 집계됐다고 발표했다. 6월 수치는 66만8천채로 상향 조정됐다.\\n업종별로 보면 모든 업종이 오른 가운데 임의소비재와 기술, 재료, 산업, 에너지가 1% 넘게 뛰며 두각을 드러냈다.\\n시카고옵션거래소(CBOE) 변동성 지수(VIX)는 전장보다 1.69포인트(9.63%) 내린 15.86을 기록했다.\\njhjin@yna.co.kr\\n▶제보는 카톡 okjebo'"
      ]
     },
     "execution_count": 16,
     "metadata": {},
     "output_type": "execute_result"
    }
   ],
   "source": [
    "# 뉴스 본문 데이터 확인하기\n",
    "text = df_news['content'].iloc[0] #iloc을 이용하여 첫번째 데이터 추출\n",
    "text"
   ]
  },
  {
   "cell_type": "code",
   "execution_count": 19,
   "metadata": {},
   "outputs": [],
   "source": [
    "# 정규표현식 사용 - 기자 이름 추출\n",
    "import re\n",
    "name_pattern = r'([가-힣]{2,4} 기자)' # 이름이 2자에서 4자인 가~힣까지 조합으로 되어있는 이름 패턴 설정\n",
    "name_matches = re.findall(name_pattern, text)\n",
    "name = name_matches[0] if name_matches else None # 첫번째 자료만 추출 (매치되는 자료가 하나도 없을 경우 None을 변수에 할당)\n",
    "name"
   ]
  },
  {
   "cell_type": "code",
   "execution_count": 18,
   "metadata": {},
   "outputs": [
    {
     "data": {
      "text/plain": [
       "'jhjin@yna.co.kr'"
      ]
     },
     "execution_count": 18,
     "metadata": {},
     "output_type": "execute_result"
    }
   ],
   "source": [
    "# 정규표현식 사용 - 이메일 주소 추출\n",
    "email_pattern = r'[a-zA-Z0-9._%+-]+@[a-zA-Z0-9.-]+\\.[a-zA-Z]{2,}' # 이메일 패턴 사용\n",
    "email_matches = re.findall(email_pattern, text)\n",
    "email = email_matches[0] if email_matches else None\n",
    "email"
   ]
  },
  {
   "cell_type": "code",
   "execution_count": 1,
   "metadata": {},
   "outputs": [
    {
     "ename": "ModuleNotFoundError",
     "evalue": "No module named 'langchain_openai'",
     "output_type": "error",
     "traceback": [
      "\u001b[1;31m---------------------------------------------------------------------------\u001b[0m",
      "\u001b[1;31mModuleNotFoundError\u001b[0m                       Traceback (most recent call last)",
      "Cell \u001b[1;32mIn[1], line 3\u001b[0m\n\u001b[0;32m      1\u001b[0m \u001b[38;5;66;03m# LLM 활용 - 기자 이름, 이메일 주소 추출\u001b[39;00m\n\u001b[0;32m      2\u001b[0m \u001b[38;5;28;01mfrom\u001b[39;00m \u001b[38;5;21;01mlangchain\u001b[39;00m\u001b[38;5;21;01m.\u001b[39;00m\u001b[38;5;21;01mprompts\u001b[39;00m \u001b[38;5;28;01mimport\u001b[39;00m PromptTemplate\n\u001b[1;32m----> 3\u001b[0m \u001b[38;5;28;01mfrom\u001b[39;00m \u001b[38;5;21;01mlangchain_openai\u001b[39;00m \u001b[38;5;28;01mimport\u001b[39;00m ChatOpenAI\n\u001b[0;32m      4\u001b[0m \u001b[38;5;28;01mfrom\u001b[39;00m \u001b[38;5;21;01mlangchain_core\u001b[39;00m\u001b[38;5;21;01m.\u001b[39;00m\u001b[38;5;21;01moutput_parsers\u001b[39;00m \u001b[38;5;28;01mimport\u001b[39;00m StrOutputParser\n\u001b[0;32m      6\u001b[0m \u001b[38;5;66;03m# prompt\u001b[39;00m\n",
      "\u001b[1;31mModuleNotFoundError\u001b[0m: No module named 'langchain_openai'"
     ]
    }
   ],
   "source": [
    "# LLM 활용 - 기자 이름, 이메일 주소 추출\n",
    "from langchain.prompts import PromptTemplate\n",
    "from langchain_openai import ChatOpenAI\n",
    "from langchain_core.output_parsers import StrOutputParser\n",
    "\n",
    "# prompt\n",
    "prompt_template = \"\"\"다음 뉴스 본문에서 기자 이름, 이메일 주소를 추출합니다.\n",
    "\n",
    "<뉴스 본문>\n",
    "{text}\n",
    "</뉴스 본문>\n",
    "\n",
    "기자 이름:\n",
    "이메일 주소:\n",
    "\"\"\"\n",
    "\n",
    "prompt = PromptTemplate.from_template(prompt_template)\n",
    "\n",
    "# LLM\n",
    "llm = ChatOpenAI(temperature=0, model_name=\"gpt-3.5-turbo-0125\",\n",
    "                 api_key=OPENAI_API_KEY)\n",
    "\n",
    "# output parser\n",
    "output_parser = StrOutputParser()\n",
    "\n",
    "# Chain\n",
    "llm_chain = prompt | llm | output_parser\n",
    "\n",
    "response = llm_chain.invoke({\"text\": text})\n",
    "\n",
    "response"
   ]
  },
  {
   "cell_type": "markdown",
   "metadata": {},
   "source": [
    "# 뉴스 본문 요약"
   ]
  },
  {
   "cell_type": "code",
   "execution_count": null,
   "metadata": {},
   "outputs": [],
   "source": [
    "# prompt\n",
    "prompt_template = \"\"\"다음 뉴스 본문을 3가지 요점으로 요약합니다. 각 요점은 1줄로 작성합니다.\n",
    "\n",
    "<뉴스 본문>\n",
    "{text}\n",
    "</뉴스 본문>\n",
    "\n",
    "요점 1:\n",
    "요점 2:\n",
    "요점 3:\n",
    "\"\"\"\n",
    "\n",
    "prompt = PromptTemplate.from_template(prompt_template)\n",
    "\n",
    "# LLM\n",
    "llm = ChatOpenAI(temperature=0, model_name=\"gpt-3.5-turbo-0125\",\n",
    "                 api_key=OPENAI_API_KEY)\n",
    "\n",
    "# output parser\n",
    "output_parser = StrOutputParser()\n",
    "\n",
    "# Chain\n",
    "llm_chain = prompt | llm | output_parser\n",
    "\n",
    "response = llm_chain.invoke({\"text\": text})\n",
    "\n",
    "response"
   ]
  },
  {
   "cell_type": "markdown",
   "metadata": {},
   "source": [
    "# 뉴스 키워드 추출"
   ]
  },
  {
   "cell_type": "code",
   "execution_count": null,
   "metadata": {},
   "outputs": [],
   "source": [
    "# prompt\n",
    "prompt_template = \"\"\"다음 뉴스 본문에서 3가지 키워드를 추출합니다. 각 키워드는 쉼표(,)로 구분합니다.\n",
    "\n",
    "<뉴스 본문>\n",
    "{text}\n",
    "</뉴스 본문>\n",
    "\n",
    "키워드: \n",
    "\"\"\"\n",
    "\n",
    "prompt = PromptTemplate.from_template(prompt_template)\n",
    "\n",
    "# LLM\n",
    "llm = ChatOpenAI(temperature=0, model_name=\"gpt-3.5-turbo-0125\", api_key=OPENAI_API_KEY)\n",
    "\n",
    "# output parser\n",
    "output_parser = StrOutputParser()\n",
    "\n",
    "# Chain\n",
    "llm_chain = prompt | llm | output_parser\n",
    "\n",
    "response = llm_chain.invoke({\"text\": text})\n",
    "\n",
    "response"
   ]
  },
  {
   "cell_type": "markdown",
   "metadata": {},
   "source": [
    "## create_extraction_chain 활용하여 요약, 추출"
   ]
  },
  {
   "cell_type": "code",
   "execution_count": null,
   "metadata": {},
   "outputs": [],
   "source": [
    "text"
   ]
  },
  {
   "cell_type": "code",
   "execution_count": null,
   "metadata": {},
   "outputs": [],
   "source": [
    "from langchain.chains import create_extraction_chain\n",
    "from langchain_openai import ChatOpenAI\n",
    "\n",
    "# 스키마 정의\n",
    "schema = {\n",
    "    \"properties\": {\n",
    "        \"뉴스_제목\": {\"type\": \"string\"},\n",
    "        \"뉴스_카테고리\": {\"type\": \"string\"},\n",
    "        \"뉴스_요약\": {\"type\": \"string\"},\n",
    "        \"뉴스_키워드\": {\"type\": \"string\"},\n",
    "        \"기자_이름\": {\"type\": \"string\"},\n",
    "        \"기자_이메일\": {\"type\": \"string\"},\n",
    "    },\n",
    "    \"required\": [\"뉴스_제목\", \"뉴스_카테고리\", \"뉴스_요약\", \"뉴스_키워드\", \"기자_이름\", \"기자_이메일\"],\n",
    "}\n",
    "\n",
    "# LLM 생성\n",
    "llm = ChatOpenAI(temperature=0, model_name=\"gpt-3.5-turbo-0125\", api_key=OPENAI_API_KEY)\n",
    "\n",
    "# Chain 생성\n",
    "chain = create_extraction_chain(schema=schema, llm=llm)\n",
    "\n",
    "# Chain 실행\n",
    "response = chain.invoke(text)\n",
    "\n",
    "# 결과 확인\n",
    "response"
   ]
  },
  {
   "cell_type": "code",
   "execution_count": null,
   "metadata": {},
   "outputs": [],
   "source": [
    "# prompt 추가\n",
    "\n",
    "from langchain_core.prompts import ChatPromptTemplate\n",
    "\n",
    "prompt_template = \"\"\"Extract and save the relevant entities mentioned \\\n",
    "in the following passage together with their properties.\n",
    "\n",
    "Only extract the properties mentioned in the 'information_extraction' function.\n",
    "\n",
    "If a property is not present and is not required in the function parameters, do not include it in the output.\n",
    "\n",
    "For keywords, extract at most 3 keywords.\n",
    "For categories, use the following categories: '정치', '경제', '사회', '문화', '세계', '과학', '기술', '스포츠', '엔터', '건강'.\n",
    "\n",
    "Passage:\n",
    "{input}\n",
    "\"\"\" \n",
    "\n",
    "prompt = ChatPromptTemplate.from_template(prompt_template)\n",
    "\n",
    "chain = create_extraction_chain(schema=schema, llm=llm, prompt=prompt)\n",
    "\n",
    "# Chain 실행\n",
    "response = chain.invoke(text)\n",
    "\n",
    "# 결과 확인\n",
    "response"
   ]
  },
  {
   "cell_type": "code",
   "execution_count": null,
   "metadata": {},
   "outputs": [],
   "source": []
  }
 ],
 "metadata": {
  "kernelspec": {
   "display_name": "Python 3",
   "language": "python",
   "name": "python3"
  },
  "language_info": {
   "codemirror_mode": {
    "name": "ipython",
    "version": 3
   },
   "file_extension": ".py",
   "mimetype": "text/x-python",
   "name": "python",
   "nbconvert_exporter": "python",
   "pygments_lexer": "ipython3",
   "version": "3.12.5"
  }
 },
 "nbformat": 4,
 "nbformat_minor": 4
}
